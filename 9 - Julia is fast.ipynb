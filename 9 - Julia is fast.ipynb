{
 "cells": [
  {
   "cell_type": "markdown",
   "metadata": {},
   "source": [
    "# Julia is fast\n",
    "\n",
    "Very often, benchmarks are used to compare languages.  These benchmarks can lead to long discussions, first as to exactly what is being benchmarked and secondly what explains the differences.  These simple questions can sometimes get more complicated than you at first might imagine.\n",
    "\n",
    "The purpose of this notebook is for you to see a simple benchmark for yourself.  One can read the notebook and see what happened on the author's Macbook Pro with a 4-core Intel Core I7, or run the notebook yourself.\n",
    "\n",
    "(This material began life as a wonderful lecture by Steven Johnson at MIT: https://github.com/stevengj/18S096/blob/master/lectures/lecture1/Boxes-and-registers.ipynb.)"
   ]
  },
  {
   "cell_type": "markdown",
   "metadata": {},
   "source": [
    "# Outline of this notebook\n",
    "\n",
    "- Define the sum function\n",
    "- Implementations & benchmarking of sum in...\n",
    "    - C (hand-written)\n",
    "    - C (hand-written with -ffast-math)\n",
    "    - python (built-in)\n",
    "    - python (numpy)\n",
    "    - python (hand-written)\n",
    "    - Julia (built-in)\n",
    "    - Julia (hand-written)\n",
    "    - Julia (hand-written with SIMD)\n",
    "- Summary of benchmarks"
   ]
  },
  {
   "cell_type": "markdown",
   "metadata": {},
   "source": [
    "# `sum`: An easy enough function to understand"
   ]
  },
  {
   "cell_type": "markdown",
   "metadata": {},
   "source": [
    "Consider the  **sum** function `sum(a)`, which computes\n",
    "$$\n",
    "\\mathrm{sum}(a) = \\sum_{i=1}^n a_i,\n",
    "$$\n",
    "where $n$ is the length of `a`."
   ]
  },
  {
   "cell_type": "code",
   "execution_count": 17,
   "metadata": {},
   "outputs": [
    {
     "data": {
      "text/plain": [
       "10000000-element Vector{Float64}:\n",
       " 0.3589149358637208\n",
       " 0.9838683715885223\n",
       " 0.7696874230353955\n",
       " 0.7647478714667685\n",
       " 0.8666071314785624\n",
       " 0.5953238864820007\n",
       " 0.11403231631054433\n",
       " 0.8733454215773883\n",
       " 0.0289219192439365\n",
       " 0.859348399493162\n",
       " 0.5090527703519243\n",
       " 0.21211367984516005\n",
       " 0.018445696609431073\n",
       " ⋮\n",
       " 0.7493571576189666\n",
       " 0.4439922656701557\n",
       " 0.22122799574362317\n",
       " 0.3923167111643153\n",
       " 0.3388098854809982\n",
       " 0.053766082566892304\n",
       " 0.6681607426286795\n",
       " 0.5431646400544308\n",
       " 0.09654923442059671\n",
       " 0.2101173694592604\n",
       " 0.1448561184510485\n",
       " 0.5997128995848006"
      ]
     },
     "execution_count": 17,
     "metadata": {},
     "output_type": "execute_result"
    }
   ],
   "source": [
    "a = rand(10^7) # 1D vector of random numbers, uniform on [0,1)"
   ]
  },
  {
   "cell_type": "code",
   "execution_count": 18,
   "metadata": {},
   "outputs": [
    {
     "data": {
      "text/plain": [
       "4.999578202271562e6"
      ]
     },
     "execution_count": 18,
     "metadata": {},
     "output_type": "execute_result"
    }
   ],
   "source": [
    "sum(a)"
   ]
  },
  {
   "cell_type": "markdown",
   "metadata": {},
   "source": [
    "The expected result is 0.5 * 10^7, since the mean of each entry is 0.5"
   ]
  },
  {
   "cell_type": "markdown",
   "metadata": {},
   "source": [
    "# Benchmarking a few ways in a few languages"
   ]
  },
  {
   "cell_type": "code",
   "execution_count": 19,
   "metadata": {},
   "outputs": [
    {
     "name": "stdout",
     "output_type": "stream",
     "text": [
      "  0.005649 seconds (1 allocation: 16 bytes)\n"
     ]
    },
    {
     "data": {
      "text/plain": [
       "4.999578202271562e6"
      ]
     },
     "execution_count": 19,
     "metadata": {},
     "output_type": "execute_result"
    }
   ],
   "source": [
    "@time sum(a)"
   ]
  },
  {
   "cell_type": "code",
   "execution_count": 20,
   "metadata": {},
   "outputs": [
    {
     "name": "stdout",
     "output_type": "stream",
     "text": [
      "  0.005337 seconds (1 allocation: 16 bytes)\n"
     ]
    },
    {
     "data": {
      "text/plain": [
       "4.999578202271562e6"
      ]
     },
     "execution_count": 20,
     "metadata": {},
     "output_type": "execute_result"
    }
   ],
   "source": [
    "@time sum(a)"
   ]
  },
  {
   "cell_type": "code",
   "execution_count": 21,
   "metadata": {},
   "outputs": [
    {
     "name": "stdout",
     "output_type": "stream",
     "text": [
      "  0.004205 seconds (1 allocation: 16 bytes)\n"
     ]
    },
    {
     "data": {
      "text/plain": [
       "4.999578202271562e6"
      ]
     },
     "execution_count": 21,
     "metadata": {},
     "output_type": "execute_result"
    }
   ],
   "source": [
    "@time sum(a)"
   ]
  },
  {
   "cell_type": "markdown",
   "metadata": {},
   "source": [
    "The `@time` macro can yield noisy results, so it's not our best choice for benchmarking!\n",
    "\n",
    "Luckily, Julia has a `BenchmarkTools.jl` package to make benchmarking easy and accurate:"
   ]
  },
  {
   "cell_type": "code",
   "execution_count": 22,
   "metadata": {},
   "outputs": [
    {
     "name": "stderr",
     "output_type": "stream",
     "text": [
      "\u001b[32m\u001b[1m   Resolving\u001b[22m\u001b[39m package versions...\n",
      "\u001b[32m\u001b[1m  No Changes\u001b[22m\u001b[39m to `C:\\Users\\girin\\OneDrive\\Documents\\GitHub\\Introduction-to-Julia\\Project.toml`\n",
      "\u001b[32m\u001b[1m  No Changes\u001b[22m\u001b[39m to `C:\\Users\\girin\\OneDrive\\Documents\\GitHub\\Introduction-to-Julia\\Manifest.toml`\n"
     ]
    }
   ],
   "source": [
    "using Pkg\n",
    "Pkg.add(\"BenchmarkTools\")"
   ]
  },
  {
   "cell_type": "code",
   "execution_count": 23,
   "metadata": {},
   "outputs": [],
   "source": [
    "using BenchmarkTools  "
   ]
  },
  {
   "cell_type": "markdown",
   "metadata": {},
   "source": [
    "#  1. The C language\n",
    "\n",
    "C is often considered the gold standard: difficult on the human, nice for the machine. Getting within a factor of 2 of C is often satisfying. Nonetheless, even within C, there are many kinds of optimizations possible that a naive C writer may or may not get the advantage of.\n",
    "\n",
    "The current author does not speak C, so he does not read the cell below, but is happy to know that you can put C code in a Julia session, compile it, and run it. Note that the `\"\"\"` wrap a multi-line string."
   ]
  },
  {
   "cell_type": "code",
   "execution_count": 24,
   "metadata": {},
   "outputs": [
    {
     "name": "stderr",
     "output_type": "stream",
     "text": [
      "WARNING: redefinition of constant Clib. This may fail, cause incorrect answers, or produce other errors.\n"
     ]
    },
    {
     "data": {
      "text/plain": [
       "c_sum (generic function with 1 method)"
      ]
     },
     "execution_count": 24,
     "metadata": {},
     "output_type": "execute_result"
    }
   ],
   "source": [
    "using Libdl\n",
    "C_code = \"\"\"\n",
    "#include <stddef.h>\n",
    "double c_sum(size_t n, double *X) {\n",
    "    double s = 0.0;\n",
    "    for (size_t i = 0; i < n; ++i) {\n",
    "        s += X[i];\n",
    "    }\n",
    "    return s;\n",
    "}\n",
    "\"\"\"\n",
    "\n",
    "const Clib = tempname()   # make a temporary file\n",
    "\n",
    "\n",
    "# compile to a shared library by piping C_code to gcc\n",
    "# (works only if you have gcc installed):\n",
    "\n",
    "open(`gcc -fPIC -O3 -msse3 -xc -shared -o $(Clib * \".\" * Libdl.dlext) -`, \"w\") do f\n",
    "    print(f, C_code) \n",
    "end\n",
    "\n",
    "# define a Julia function that calls the C function:\n",
    "c_sum(X::Array{Float64}) = ccall((\"c_sum\", Clib), Float64, (Csize_t, Ptr{Float64}), length(X), X)"
   ]
  },
  {
   "cell_type": "code",
   "execution_count": 25,
   "metadata": {},
   "outputs": [
    {
     "data": {
      "text/plain": [
       "4.999578202271648e6"
      ]
     },
     "execution_count": 25,
     "metadata": {},
     "output_type": "execute_result"
    }
   ],
   "source": [
    "c_sum(a)"
   ]
  },
  {
   "cell_type": "code",
   "execution_count": 26,
   "metadata": {},
   "outputs": [
    {
     "data": {
      "text/plain": [
       "true"
      ]
     },
     "execution_count": 26,
     "metadata": {},
     "output_type": "execute_result"
    }
   ],
   "source": [
    "c_sum(a) ≈ sum(a) # type \\approx and then <TAB> to get the ≈ symbolb"
   ]
  },
  {
   "cell_type": "code",
   "execution_count": 27,
   "metadata": {},
   "outputs": [
    {
     "data": {
      "text/plain": [
       "8.568167686462402e-8"
      ]
     },
     "execution_count": 27,
     "metadata": {},
     "output_type": "execute_result"
    }
   ],
   "source": [
    "c_sum(a) - sum(a)  "
   ]
  },
  {
   "cell_type": "code",
   "execution_count": 28,
   "metadata": {
    "scrolled": true
   },
   "outputs": [
    {
     "data": {
      "text/plain": [
       "isapprox (generic function with 9 methods)"
      ]
     },
     "execution_count": 28,
     "metadata": {},
     "output_type": "execute_result"
    }
   ],
   "source": [
    "≈  # alias for the `isapprox` function"
   ]
  },
  {
   "cell_type": "code",
   "execution_count": 1,
   "metadata": {
    "scrolled": true
   },
   "outputs": [
    {
     "name": "stdout",
     "output_type": "stream",
     "text": [
      "search: \u001b[0m\u001b[1mi\u001b[22m\u001b[0m\u001b[1ms\u001b[22m\u001b[0m\u001b[1ma\u001b[22m\u001b[0m\u001b[1mp\u001b[22m\u001b[0m\u001b[1mp\u001b[22m\u001b[0m\u001b[1mr\u001b[22m\u001b[0m\u001b[1mo\u001b[22m\u001b[0m\u001b[1mx\u001b[22m\n",
      "\n"
     ]
    },
    {
     "data": {
      "text/latex": [
       "\\begin{verbatim}\n",
       "isapprox(x, y; atol::Real=0, rtol::Real=atol>0 ? 0 : √eps, nans::Bool=false[, norm::Function])\n",
       "\\end{verbatim}\n",
       "Inexact equality comparison. Two numbers compare equal if their relative distance \\emph{or} their absolute distance is within tolerance bounds: \\texttt{isapprox} returns \\texttt{true} if \\texttt{norm(x-y) <= max(atol, rtol*max(norm(x), norm(y)))}. The default \\texttt{atol} is zero and the default \\texttt{rtol} depends on the types of \\texttt{x} and \\texttt{y}. The keyword argument \\texttt{nans} determines whether or not NaN values are considered equal (defaults to false).\n",
       "\n",
       "For real or complex floating-point values, if an \\texttt{atol > 0} is not specified, \\texttt{rtol} defaults to the square root of \\href{@ref}{\\texttt{eps}} of the type of \\texttt{x} or \\texttt{y}, whichever is bigger (least precise). This corresponds to requiring equality of about half of the significand digits. Otherwise, e.g. for integer arguments or if an \\texttt{atol > 0} is supplied, \\texttt{rtol} defaults to zero.\n",
       "\n",
       "The \\texttt{norm} keyword defaults to \\texttt{abs} for numeric \\texttt{(x,y)} and to \\texttt{LinearAlgebra.norm} for arrays (where an alternative \\texttt{norm} choice is sometimes useful). When \\texttt{x} and \\texttt{y} are arrays, if \\texttt{norm(x-y)} is not finite (i.e. \\texttt{±Inf} or \\texttt{NaN}), the comparison falls back to checking whether all elements of \\texttt{x} and \\texttt{y} are approximately equal component-wise.\n",
       "\n",
       "The binary operator \\texttt{≈} is equivalent to \\texttt{isapprox} with the default arguments, and \\texttt{x ≉ y} is equivalent to \\texttt{!isapprox(x,y)}.\n",
       "\n",
       "Note that \\texttt{x ≈ 0} (i.e., comparing to zero with the default tolerances) is equivalent to \\texttt{x == 0} since the default \\texttt{atol} is \\texttt{0}.  In such cases, you should either supply an appropriate \\texttt{atol} (or use \\texttt{norm(x) ≤ atol}) or rearrange your code (e.g. use \\texttt{x ≈ y} rather than \\texttt{x - y ≈ 0}).   It is not possible to pick a nonzero \\texttt{atol} automatically because it depends on the overall scaling (the \"units\") of your problem: for example, in \\texttt{x - y ≈ 0}, \\texttt{atol=1e-9} is an absurdly small tolerance if \\texttt{x} is the \\href{https://en.wikipedia.org/wiki/Earth_radius}{radius of the Earth} in meters, but an absurdly large tolerance if \\texttt{x} is the \\href{https://en.wikipedia.org/wiki/Bohr_radius}{radius of a Hydrogen atom} in meters.\n",
       "\n",
       "\\begin{quote}\n",
       "\\textbf{compat}\n",
       "\n",
       "Julia 1.6\n",
       "\n",
       "Passing the \\texttt{norm} keyword argument when comparing numeric (non-array) arguments requires Julia 1.6 or later.\n",
       "\n",
       "\\end{quote}\n",
       "\\section{Examples}\n",
       "\\begin{verbatim}\n",
       "julia> isapprox(0.1, 0.15; atol=0.05)\n",
       "true\n",
       "\n",
       "julia> isapprox(0.1, 0.15; rtol=0.34)\n",
       "true\n",
       "\n",
       "julia> isapprox(0.1, 0.15; rtol=0.33)\n",
       "false\n",
       "\n",
       "julia> 0.1 + 1e-10 ≈ 0.1\n",
       "true\n",
       "\n",
       "julia> 1e-10 ≈ 0\n",
       "false\n",
       "\n",
       "julia> isapprox(1e-10, 0, atol=1e-8)\n",
       "true\n",
       "\n",
       "julia> isapprox([10.0^9, 1.0], [10.0^9, 2.0]) # using `norm`\n",
       "true\n",
       "\\end{verbatim}\n",
       "\\rule{\\textwidth}{1pt}\n",
       "\\begin{verbatim}\n",
       "isapprox(x; kwargs...) / ≈(x; kwargs...)\n",
       "\\end{verbatim}\n",
       "Create a function that compares its argument to \\texttt{x} using \\texttt{≈}, i.e. a function equivalent to \\texttt{y -> y ≈ x}.\n",
       "\n",
       "The keyword arguments supported here are the same as those in the 2-argument \\texttt{isapprox}.\n",
       "\n",
       "\\begin{quote}\n",
       "\\textbf{compat}\n",
       "\n",
       "Julia 1.5\n",
       "\n",
       "This method requires Julia 1.5 or later.\n",
       "\n",
       "\\end{quote}\n"
      ],
      "text/markdown": [
       "```\n",
       "isapprox(x, y; atol::Real=0, rtol::Real=atol>0 ? 0 : √eps, nans::Bool=false[, norm::Function])\n",
       "```\n",
       "\n",
       "Inexact equality comparison. Two numbers compare equal if their relative distance *or* their absolute distance is within tolerance bounds: `isapprox` returns `true` if `norm(x-y) <= max(atol, rtol*max(norm(x), norm(y)))`. The default `atol` is zero and the default `rtol` depends on the types of `x` and `y`. The keyword argument `nans` determines whether or not NaN values are considered equal (defaults to false).\n",
       "\n",
       "For real or complex floating-point values, if an `atol > 0` is not specified, `rtol` defaults to the square root of [`eps`](@ref) of the type of `x` or `y`, whichever is bigger (least precise). This corresponds to requiring equality of about half of the significand digits. Otherwise, e.g. for integer arguments or if an `atol > 0` is supplied, `rtol` defaults to zero.\n",
       "\n",
       "The `norm` keyword defaults to `abs` for numeric `(x,y)` and to `LinearAlgebra.norm` for arrays (where an alternative `norm` choice is sometimes useful). When `x` and `y` are arrays, if `norm(x-y)` is not finite (i.e. `±Inf` or `NaN`), the comparison falls back to checking whether all elements of `x` and `y` are approximately equal component-wise.\n",
       "\n",
       "The binary operator `≈` is equivalent to `isapprox` with the default arguments, and `x ≉ y` is equivalent to `!isapprox(x,y)`.\n",
       "\n",
       "Note that `x ≈ 0` (i.e., comparing to zero with the default tolerances) is equivalent to `x == 0` since the default `atol` is `0`.  In such cases, you should either supply an appropriate `atol` (or use `norm(x) ≤ atol`) or rearrange your code (e.g. use `x ≈ y` rather than `x - y ≈ 0`).   It is not possible to pick a nonzero `atol` automatically because it depends on the overall scaling (the \"units\") of your problem: for example, in `x - y ≈ 0`, `atol=1e-9` is an absurdly small tolerance if `x` is the [radius of the Earth](https://en.wikipedia.org/wiki/Earth_radius) in meters, but an absurdly large tolerance if `x` is the [radius of a Hydrogen atom](https://en.wikipedia.org/wiki/Bohr_radius) in meters.\n",
       "\n",
       "!!! compat \"Julia 1.6\"\n",
       "    Passing the `norm` keyword argument when comparing numeric (non-array) arguments requires Julia 1.6 or later.\n",
       "\n",
       "\n",
       "# Examples\n",
       "\n",
       "```jldoctest\n",
       "julia> isapprox(0.1, 0.15; atol=0.05)\n",
       "true\n",
       "\n",
       "julia> isapprox(0.1, 0.15; rtol=0.34)\n",
       "true\n",
       "\n",
       "julia> isapprox(0.1, 0.15; rtol=0.33)\n",
       "false\n",
       "\n",
       "julia> 0.1 + 1e-10 ≈ 0.1\n",
       "true\n",
       "\n",
       "julia> 1e-10 ≈ 0\n",
       "false\n",
       "\n",
       "julia> isapprox(1e-10, 0, atol=1e-8)\n",
       "true\n",
       "\n",
       "julia> isapprox([10.0^9, 1.0], [10.0^9, 2.0]) # using `norm`\n",
       "true\n",
       "```\n",
       "\n",
       "---\n",
       "\n",
       "```\n",
       "isapprox(x; kwargs...) / ≈(x; kwargs...)\n",
       "```\n",
       "\n",
       "Create a function that compares its argument to `x` using `≈`, i.e. a function equivalent to `y -> y ≈ x`.\n",
       "\n",
       "The keyword arguments supported here are the same as those in the 2-argument `isapprox`.\n",
       "\n",
       "!!! compat \"Julia 1.5\"\n",
       "    This method requires Julia 1.5 or later.\n",
       "\n"
      ],
      "text/plain": [
       "\u001b[36m  isapprox(x, y; atol::Real=0, rtol::Real=atol>0 ? 0 : √eps, nans::Bool=false[, norm::Function])\u001b[39m\n",
       "\n",
       "  Inexact equality comparison. Two numbers compare equal if their relative\n",
       "  distance \u001b[4mor\u001b[24m their absolute distance is within tolerance bounds: \u001b[36misapprox\u001b[39m\n",
       "  returns \u001b[36mtrue\u001b[39m if \u001b[36mnorm(x-y) <= max(atol, rtol*max(norm(x), norm(y)))\u001b[39m. The\n",
       "  default \u001b[36matol\u001b[39m is zero and the default \u001b[36mrtol\u001b[39m depends on the types of \u001b[36mx\u001b[39m and \u001b[36my\u001b[39m.\n",
       "  The keyword argument \u001b[36mnans\u001b[39m determines whether or not NaN values are\n",
       "  considered equal (defaults to false).\n",
       "\n",
       "  For real or complex floating-point values, if an \u001b[36matol > 0\u001b[39m is not specified,\n",
       "  \u001b[36mrtol\u001b[39m defaults to the square root of \u001b[36meps\u001b[39m of the type of \u001b[36mx\u001b[39m or \u001b[36my\u001b[39m, whichever is\n",
       "  bigger (least precise). This corresponds to requiring equality of about half\n",
       "  of the significand digits. Otherwise, e.g. for integer arguments or if an\n",
       "  \u001b[36matol > 0\u001b[39m is supplied, \u001b[36mrtol\u001b[39m defaults to zero.\n",
       "\n",
       "  The \u001b[36mnorm\u001b[39m keyword defaults to \u001b[36mabs\u001b[39m for numeric \u001b[36m(x,y)\u001b[39m and to \u001b[36mLinearAlgebra.norm\u001b[39m\n",
       "  for arrays (where an alternative \u001b[36mnorm\u001b[39m choice is sometimes useful). When \u001b[36mx\u001b[39m\n",
       "  and \u001b[36my\u001b[39m are arrays, if \u001b[36mnorm(x-y)\u001b[39m is not finite (i.e. \u001b[36m±Inf\u001b[39m or \u001b[36mNaN\u001b[39m), the\n",
       "  comparison falls back to checking whether all elements of \u001b[36mx\u001b[39m and \u001b[36my\u001b[39m are\n",
       "  approximately equal component-wise.\n",
       "\n",
       "  The binary operator \u001b[36m≈\u001b[39m is equivalent to \u001b[36misapprox\u001b[39m with the default arguments,\n",
       "  and \u001b[36mx ≉ y\u001b[39m is equivalent to \u001b[36m!isapprox(x,y)\u001b[39m.\n",
       "\n",
       "  Note that \u001b[36mx ≈ 0\u001b[39m (i.e., comparing to zero with the default tolerances) is\n",
       "  equivalent to \u001b[36mx == 0\u001b[39m since the default \u001b[36matol\u001b[39m is \u001b[36m0\u001b[39m. In such cases, you should\n",
       "  either supply an appropriate \u001b[36matol\u001b[39m (or use \u001b[36mnorm(x) ≤ atol\u001b[39m) or rearrange your\n",
       "  code (e.g. use \u001b[36mx ≈ y\u001b[39m rather than \u001b[36mx - y ≈ 0\u001b[39m). It is not possible to pick a\n",
       "  nonzero \u001b[36matol\u001b[39m automatically because it depends on the overall scaling (the\n",
       "  \"units\") of your problem: for example, in \u001b[36mx - y ≈ 0\u001b[39m, \u001b[36matol=1e-9\u001b[39m is an\n",
       "  absurdly small tolerance if \u001b[36mx\u001b[39m is the radius of the Earth\n",
       "  (https://en.wikipedia.org/wiki/Earth_radius) in meters, but an absurdly\n",
       "  large tolerance if \u001b[36mx\u001b[39m is the radius of a Hydrogen atom\n",
       "  (https://en.wikipedia.org/wiki/Bohr_radius) in meters.\n",
       "\n",
       "\u001b[39m\u001b[1m  │ \u001b[22m\u001b[39m\u001b[1mJulia 1.6\u001b[22m\n",
       "\u001b[39m\u001b[1m  │\u001b[22m\n",
       "\u001b[39m\u001b[1m  │\u001b[22m  Passing the \u001b[36mnorm\u001b[39m keyword argument when comparing numeric\n",
       "\u001b[39m\u001b[1m  │\u001b[22m  (non-array) arguments requires Julia 1.6 or later.\n",
       "\n",
       "\u001b[1m  Examples\u001b[22m\n",
       "\u001b[1m  ≡≡≡≡≡≡≡≡≡≡\u001b[22m\n",
       "\n",
       "\u001b[36m  julia> isapprox(0.1, 0.15; atol=0.05)\u001b[39m\n",
       "\u001b[36m  true\u001b[39m\n",
       "\u001b[36m  \u001b[39m\n",
       "\u001b[36m  julia> isapprox(0.1, 0.15; rtol=0.34)\u001b[39m\n",
       "\u001b[36m  true\u001b[39m\n",
       "\u001b[36m  \u001b[39m\n",
       "\u001b[36m  julia> isapprox(0.1, 0.15; rtol=0.33)\u001b[39m\n",
       "\u001b[36m  false\u001b[39m\n",
       "\u001b[36m  \u001b[39m\n",
       "\u001b[36m  julia> 0.1 + 1e-10 ≈ 0.1\u001b[39m\n",
       "\u001b[36m  true\u001b[39m\n",
       "\u001b[36m  \u001b[39m\n",
       "\u001b[36m  julia> 1e-10 ≈ 0\u001b[39m\n",
       "\u001b[36m  false\u001b[39m\n",
       "\u001b[36m  \u001b[39m\n",
       "\u001b[36m  julia> isapprox(1e-10, 0, atol=1e-8)\u001b[39m\n",
       "\u001b[36m  true\u001b[39m\n",
       "\u001b[36m  \u001b[39m\n",
       "\u001b[36m  julia> isapprox([10.0^9, 1.0], [10.0^9, 2.0]) # using `norm`\u001b[39m\n",
       "\u001b[36m  true\u001b[39m\n",
       "\n",
       "  ────────────────────────────────────────────────────────────────────────────\n",
       "\n",
       "\u001b[36m  isapprox(x; kwargs...) / ≈(x; kwargs...)\u001b[39m\n",
       "\n",
       "  Create a function that compares its argument to \u001b[36mx\u001b[39m using \u001b[36m≈\u001b[39m, i.e. a function\n",
       "  equivalent to \u001b[36my -> y ≈ x\u001b[39m.\n",
       "\n",
       "  The keyword arguments supported here are the same as those in the 2-argument\n",
       "  \u001b[36misapprox\u001b[39m.\n",
       "\n",
       "\u001b[39m\u001b[1m  │ \u001b[22m\u001b[39m\u001b[1mJulia 1.5\u001b[22m\n",
       "\u001b[39m\u001b[1m  │\u001b[22m\n",
       "\u001b[39m\u001b[1m  │\u001b[22m  This method requires Julia 1.5 or later."
      ]
     },
     "execution_count": 1,
     "metadata": {},
     "output_type": "execute_result"
    }
   ],
   "source": [
    "?isapprox"
   ]
  },
  {
   "cell_type": "markdown",
   "metadata": {},
   "source": [
    "We can now benchmark the C code directly from Julia:"
   ]
  },
  {
   "cell_type": "code",
   "execution_count": 30,
   "metadata": {},
   "outputs": [
    {
     "data": {
      "text/plain": [
       "BenchmarkTools.Trial: 375 samples with 1 evaluation.\n",
       " Range \u001b[90m(\u001b[39m\u001b[36m\u001b[1mmin\u001b[22m\u001b[39m … \u001b[35mmax\u001b[39m\u001b[90m):  \u001b[39m\u001b[36m\u001b[1m12.049 ms\u001b[22m\u001b[39m … \u001b[35m45.887 ms\u001b[39m  \u001b[90m┊\u001b[39m GC \u001b[90m(\u001b[39mmin … max\u001b[90m): \u001b[39m0.00% … 0.00%\n",
       " Time  \u001b[90m(\u001b[39m\u001b[34m\u001b[1mmedian\u001b[22m\u001b[39m\u001b[90m):     \u001b[39m\u001b[34m\u001b[1m12.981 ms              \u001b[22m\u001b[39m\u001b[90m┊\u001b[39m GC \u001b[90m(\u001b[39mmedian\u001b[90m):    \u001b[39m0.00%\n",
       " Time  \u001b[90m(\u001b[39m\u001b[32m\u001b[1mmean\u001b[22m\u001b[39m ± \u001b[32mσ\u001b[39m\u001b[90m):   \u001b[39m\u001b[32m\u001b[1m13.345 ms\u001b[22m\u001b[39m ± \u001b[32m 2.075 ms\u001b[39m  \u001b[90m┊\u001b[39m GC \u001b[90m(\u001b[39mmean ± σ\u001b[90m):  \u001b[39m0.00% ± 0.00%\n",
       "\n",
       "  \u001b[39m \u001b[39m \u001b[39m \u001b[39m \u001b[39m▁\u001b[39m▆\u001b[39m▆\u001b[39m▆\u001b[39m█\u001b[39m▅\u001b[34m▆\u001b[39m\u001b[39m▂\u001b[39m \u001b[39m▁\u001b[32m▂\u001b[39m\u001b[39m \u001b[39m \u001b[39m \u001b[39m \u001b[39m \u001b[39m \u001b[39m \u001b[39m \u001b[39m \u001b[39m \u001b[39m \u001b[39m \u001b[39m \u001b[39m \u001b[39m \u001b[39m \u001b[39m \u001b[39m \u001b[39m \u001b[39m \u001b[39m \u001b[39m \u001b[39m \u001b[39m \u001b[39m \u001b[39m \u001b[39m \u001b[39m \u001b[39m \u001b[39m \u001b[39m \u001b[39m \u001b[39m \u001b[39m \u001b[39m \u001b[39m \u001b[39m \u001b[39m \u001b[39m \u001b[39m \u001b[39m \u001b[39m \u001b[39m \u001b[39m \u001b[39m \u001b[39m \n",
       "  \u001b[39m▄\u001b[39m▂\u001b[39m▃\u001b[39m▅\u001b[39m█\u001b[39m█\u001b[39m█\u001b[39m█\u001b[39m█\u001b[39m█\u001b[34m█\u001b[39m\u001b[39m█\u001b[39m▇\u001b[39m█\u001b[32m█\u001b[39m\u001b[39m▆\u001b[39m▆\u001b[39m█\u001b[39m▄\u001b[39m▅\u001b[39m▃\u001b[39m▃\u001b[39m▃\u001b[39m▃\u001b[39m▃\u001b[39m▃\u001b[39m▄\u001b[39m▃\u001b[39m▂\u001b[39m▁\u001b[39m▃\u001b[39m▂\u001b[39m▃\u001b[39m▃\u001b[39m▄\u001b[39m▃\u001b[39m▂\u001b[39m▃\u001b[39m▁\u001b[39m▂\u001b[39m▁\u001b[39m▂\u001b[39m▁\u001b[39m▁\u001b[39m▁\u001b[39m▁\u001b[39m▂\u001b[39m▁\u001b[39m▁\u001b[39m▁\u001b[39m▁\u001b[39m▁\u001b[39m▁\u001b[39m▁\u001b[39m▁\u001b[39m▁\u001b[39m▁\u001b[39m▁\u001b[39m▂\u001b[39m \u001b[39m▃\n",
       "  12 ms\u001b[90m           Histogram: frequency by time\u001b[39m        17.5 ms \u001b[0m\u001b[1m<\u001b[22m\n",
       "\n",
       " Memory estimate\u001b[90m: \u001b[39m\u001b[33m0 bytes\u001b[39m, allocs estimate\u001b[90m: \u001b[39m\u001b[33m0\u001b[39m."
      ]
     },
     "execution_count": 30,
     "metadata": {},
     "output_type": "execute_result"
    }
   ],
   "source": [
    "c_bench = @benchmark c_sum($a)"
   ]
  },
  {
   "cell_type": "code",
   "execution_count": 31,
   "metadata": {},
   "outputs": [
    {
     "name": "stdout",
     "output_type": "stream",
     "text": [
      "C: Fastest time was 12.0492 msec\n"
     ]
    }
   ],
   "source": [
    "println(\"C: Fastest time was $(minimum(c_bench.times) / 1e6) msec\")"
   ]
  },
  {
   "cell_type": "code",
   "execution_count": 32,
   "metadata": {
    "scrolled": true
   },
   "outputs": [
    {
     "data": {
      "text/plain": [
       "Dict{Any, Any} with 1 entry:\n",
       "  \"C\" => 12.0492"
      ]
     },
     "execution_count": 32,
     "metadata": {},
     "output_type": "execute_result"
    }
   ],
   "source": [
    "d = Dict()  # a \"dictionary\", i.e. an associative array\n",
    "d[\"C\"] = minimum(c_bench.times) / 1e6  # in milliseconds\n",
    "d"
   ]
  },
  {
   "cell_type": "code",
   "execution_count": 33,
   "metadata": {
    "scrolled": true
   },
   "outputs": [
    {
     "data": {
      "text/plain": [
       "Plots.GRBackend()"
      ]
     },
     "execution_count": 33,
     "metadata": {},
     "output_type": "execute_result"
    }
   ],
   "source": [
    "using Plots\n",
    "gr()"
   ]
  },
  {
   "cell_type": "code",
   "execution_count": 34,
   "metadata": {},
   "outputs": [
    {
     "data": {
      "image/svg+xml": "<?xml version=\"1.0\" encoding=\"utf-8\"?>\n<svg xmlns=\"http://www.w3.org/2000/svg\" xmlns:xlink=\"http://www.w3.org/1999/xlink\" width=\"600\" height=\"400\" viewBox=\"0 0 2400 1600\">\n<defs>\n  <clipPath id=\"clip530\">\n    <rect x=\"0\" y=\"0\" width=\"2400\" height=\"1600\"/>\n  </clipPath>\n</defs>\n<path clip-path=\"url(#clip530)\" d=\"\nM0 1600 L2400 1600 L2400 0 L0 0  Z\n  \" fill=\"#ffffff\" fill-rule=\"evenodd\" fill-opacity=\"1\"/>\n<defs>\n  <clipPath id=\"clip531\">\n    <rect x=\"480\" y=\"0\" width=\"1681\" height=\"1600\"/>\n  </clipPath>\n</defs>\n<path clip-path=\"url(#clip530)\" d=\"\nM205.121 1423.18 L2352.76 1423.18 L2352.76 47.2441 L205.121 47.2441  Z\n  \" fill=\"#ffffff\" fill-rule=\"evenodd\" fill-opacity=\"1\"/>\n<defs>\n  <clipPath id=\"clip532\">\n    <rect x=\"205\" y=\"47\" width=\"2149\" height=\"1377\"/>\n  </clipPath>\n</defs>\n<polyline clip-path=\"url(#clip532)\" style=\"stroke:#000000; stroke-linecap:butt; stroke-linejoin:round; stroke-width:2; stroke-opacity:0.1; fill:none\" points=\"\n  679.766,1423.18 679.766,47.2441 \n  \"/>\n<polyline clip-path=\"url(#clip532)\" style=\"stroke:#000000; stroke-linecap:butt; stroke-linejoin:round; stroke-width:2; stroke-opacity:0.1; fill:none\" points=\"\n  1194.79,1423.18 1194.79,47.2441 \n  \"/>\n<polyline clip-path=\"url(#clip532)\" style=\"stroke:#000000; stroke-linecap:butt; stroke-linejoin:round; stroke-width:2; stroke-opacity:0.1; fill:none\" points=\"\n  1709.81,1423.18 1709.81,47.2441 \n  \"/>\n<polyline clip-path=\"url(#clip532)\" style=\"stroke:#000000; stroke-linecap:butt; stroke-linejoin:round; stroke-width:2; stroke-opacity:0.1; fill:none\" points=\"\n  2224.83,1423.18 2224.83,47.2441 \n  \"/>\n<polyline clip-path=\"url(#clip530)\" style=\"stroke:#000000; stroke-linecap:butt; stroke-linejoin:round; stroke-width:4; stroke-opacity:1; fill:none\" points=\"\n  205.121,1423.18 2352.76,1423.18 \n  \"/>\n<polyline clip-path=\"url(#clip530)\" style=\"stroke:#000000; stroke-linecap:butt; stroke-linejoin:round; stroke-width:4; stroke-opacity:1; fill:none\" points=\"\n  679.766,1423.18 679.766,1404.28 \n  \"/>\n<polyline clip-path=\"url(#clip530)\" style=\"stroke:#000000; stroke-linecap:butt; stroke-linejoin:round; stroke-width:4; stroke-opacity:1; fill:none\" points=\"\n  1194.79,1423.18 1194.79,1404.28 \n  \"/>\n<polyline clip-path=\"url(#clip530)\" style=\"stroke:#000000; stroke-linecap:butt; stroke-linejoin:round; stroke-width:4; stroke-opacity:1; fill:none\" points=\"\n  1709.81,1423.18 1709.81,1404.28 \n  \"/>\n<polyline clip-path=\"url(#clip530)\" style=\"stroke:#000000; stroke-linecap:butt; stroke-linejoin:round; stroke-width:4; stroke-opacity:1; fill:none\" points=\"\n  2224.83,1423.18 2224.83,1404.28 \n  \"/>\n<path clip-path=\"url(#clip530)\" d=\"M632.336 1481.64 L639.974 1481.64 L639.974 1455.28 L631.664 1456.95 L631.664 1452.69 L639.928 1451.02 L644.604 1451.02 L644.604 1481.64 L652.243 1481.64 L652.243 1485.58 L632.336 1485.58 L632.336 1481.64 Z\" fill=\"#000000\" fill-rule=\"evenodd\" fill-opacity=\"1\" /><path clip-path=\"url(#clip530)\" d=\"M665.715 1481.64 L682.034 1481.64 L682.034 1485.58 L660.09 1485.58 L660.09 1481.64 Q662.752 1478.89 667.335 1474.26 Q671.942 1469.61 673.122 1468.27 Q675.368 1465.74 676.247 1464.01 Q677.15 1462.25 677.15 1460.56 Q677.15 1457.8 675.206 1456.07 Q673.284 1454.33 670.183 1454.33 Q667.984 1454.33 665.53 1455.09 Q663.099 1455.86 660.322 1457.41 L660.322 1452.69 Q663.146 1451.55 665.599 1450.97 Q668.053 1450.39 670.09 1450.39 Q675.46 1450.39 678.655 1453.08 Q681.849 1455.77 681.849 1460.26 Q681.849 1462.39 681.039 1464.31 Q680.252 1466.2 678.146 1468.8 Q677.567 1469.47 674.465 1472.69 Q671.363 1475.88 665.715 1481.64 Z\" fill=\"#000000\" fill-rule=\"evenodd\" fill-opacity=\"1\" /><path clip-path=\"url(#clip530)\" d=\"M691.849 1479.7 L696.733 1479.7 L696.733 1485.58 L691.849 1485.58 L691.849 1479.7 Z\" fill=\"#000000\" fill-rule=\"evenodd\" fill-opacity=\"1\" /><path clip-path=\"url(#clip530)\" d=\"M706.965 1451.02 L725.321 1451.02 L725.321 1454.96 L711.247 1454.96 L711.247 1463.43 Q712.266 1463.08 713.284 1462.92 Q714.303 1462.73 715.321 1462.73 Q721.108 1462.73 724.488 1465.9 Q727.867 1469.08 727.867 1474.49 Q727.867 1480.07 724.395 1483.17 Q720.923 1486.25 714.604 1486.25 Q712.428 1486.25 710.159 1485.88 Q707.914 1485.51 705.507 1484.77 L705.507 1480.07 Q707.59 1481.2 709.812 1481.76 Q712.034 1482.32 714.511 1482.32 Q718.516 1482.32 720.854 1480.21 Q723.192 1478.1 723.192 1474.49 Q723.192 1470.88 720.854 1468.77 Q718.516 1466.67 714.511 1466.67 Q712.636 1466.67 710.761 1467.08 Q708.909 1467.5 706.965 1468.38 L706.965 1451.02 Z\" fill=\"#000000\" fill-rule=\"evenodd\" fill-opacity=\"1\" /><path clip-path=\"url(#clip530)\" d=\"M1146.86 1481.64 L1154.5 1481.64 L1154.5 1455.28 L1146.19 1456.95 L1146.19 1452.69 L1154.45 1451.02 L1159.13 1451.02 L1159.13 1481.64 L1166.77 1481.64 L1166.77 1485.58 L1146.86 1485.58 L1146.86 1481.64 Z\" fill=\"#000000\" fill-rule=\"evenodd\" fill-opacity=\"1\" /><path clip-path=\"url(#clip530)\" d=\"M1190.38 1466.95 Q1193.74 1467.66 1195.61 1469.93 Q1197.51 1472.2 1197.51 1475.53 Q1197.51 1480.65 1193.99 1483.45 Q1190.47 1486.25 1183.99 1486.25 Q1181.81 1486.25 1179.5 1485.81 Q1177.21 1485.39 1174.75 1484.54 L1174.75 1480.02 Q1176.7 1481.16 1179.01 1481.74 Q1181.33 1482.32 1183.85 1482.32 Q1188.25 1482.32 1190.54 1480.58 Q1192.86 1478.84 1192.86 1475.53 Q1192.86 1472.48 1190.7 1470.77 Q1188.57 1469.03 1184.75 1469.03 L1180.73 1469.03 L1180.73 1465.19 L1184.94 1465.19 Q1188.39 1465.19 1190.22 1463.82 Q1192.05 1462.43 1192.05 1459.84 Q1192.05 1457.18 1190.15 1455.77 Q1188.27 1454.33 1184.75 1454.33 Q1182.83 1454.33 1180.63 1454.75 Q1178.43 1455.16 1175.8 1456.04 L1175.8 1451.88 Q1178.46 1451.14 1180.77 1450.77 Q1183.11 1450.39 1185.17 1450.39 Q1190.49 1450.39 1193.6 1452.83 Q1196.7 1455.23 1196.7 1459.35 Q1196.7 1462.22 1195.05 1464.21 Q1193.41 1466.18 1190.38 1466.95 Z\" fill=\"#000000\" fill-rule=\"evenodd\" fill-opacity=\"1\" /><path clip-path=\"url(#clip530)\" d=\"M1206.37 1479.7 L1211.26 1479.7 L1211.26 1485.58 L1206.37 1485.58 L1206.37 1479.7 Z\" fill=\"#000000\" fill-rule=\"evenodd\" fill-opacity=\"1\" /><path clip-path=\"url(#clip530)\" d=\"M1231.44 1454.1 Q1227.83 1454.1 1226 1457.66 Q1224.2 1461.2 1224.2 1468.33 Q1224.2 1475.44 1226 1479.01 Q1227.83 1482.55 1231.44 1482.55 Q1235.08 1482.55 1236.88 1479.01 Q1238.71 1475.44 1238.71 1468.33 Q1238.71 1461.2 1236.88 1457.66 Q1235.08 1454.1 1231.44 1454.1 M1231.44 1450.39 Q1237.25 1450.39 1240.31 1455 Q1243.39 1459.58 1243.39 1468.33 Q1243.39 1477.06 1240.31 1481.67 Q1237.25 1486.25 1231.44 1486.25 Q1225.63 1486.25 1222.55 1481.67 Q1219.5 1477.06 1219.5 1468.33 Q1219.5 1459.58 1222.55 1455 Q1225.63 1450.39 1231.44 1450.39 Z\" fill=\"#000000\" fill-rule=\"evenodd\" fill-opacity=\"1\" /><path clip-path=\"url(#clip530)\" d=\"M1662.38 1481.64 L1670.02 1481.64 L1670.02 1455.28 L1661.71 1456.95 L1661.71 1452.69 L1669.97 1451.02 L1674.65 1451.02 L1674.65 1481.64 L1682.29 1481.64 L1682.29 1485.58 L1662.38 1485.58 L1662.38 1481.64 Z\" fill=\"#000000\" fill-rule=\"evenodd\" fill-opacity=\"1\" /><path clip-path=\"url(#clip530)\" d=\"M1705.9 1466.95 Q1709.26 1467.66 1711.13 1469.93 Q1713.03 1472.2 1713.03 1475.53 Q1713.03 1480.65 1709.51 1483.45 Q1705.99 1486.25 1699.51 1486.25 Q1697.33 1486.25 1695.02 1485.81 Q1692.73 1485.39 1690.27 1484.54 L1690.27 1480.02 Q1692.22 1481.16 1694.53 1481.74 Q1696.85 1482.32 1699.37 1482.32 Q1703.77 1482.32 1706.06 1480.58 Q1708.38 1478.84 1708.38 1475.53 Q1708.38 1472.48 1706.22 1470.77 Q1704.09 1469.03 1700.27 1469.03 L1696.25 1469.03 L1696.25 1465.19 L1700.46 1465.19 Q1703.91 1465.19 1705.74 1463.82 Q1707.57 1462.43 1707.57 1459.84 Q1707.57 1457.18 1705.67 1455.77 Q1703.79 1454.33 1700.27 1454.33 Q1698.35 1454.33 1696.15 1454.75 Q1693.95 1455.16 1691.32 1456.04 L1691.32 1451.88 Q1693.98 1451.14 1696.29 1450.77 Q1698.63 1450.39 1700.69 1450.39 Q1706.02 1450.39 1709.12 1452.83 Q1712.22 1455.23 1712.22 1459.35 Q1712.22 1462.22 1710.58 1464.21 Q1708.93 1466.18 1705.9 1466.95 Z\" fill=\"#000000\" fill-rule=\"evenodd\" fill-opacity=\"1\" /><path clip-path=\"url(#clip530)\" d=\"M1721.89 1479.7 L1726.78 1479.7 L1726.78 1485.58 L1721.89 1485.58 L1721.89 1479.7 Z\" fill=\"#000000\" fill-rule=\"evenodd\" fill-opacity=\"1\" /><path clip-path=\"url(#clip530)\" d=\"M1737.01 1451.02 L1755.37 1451.02 L1755.37 1454.96 L1741.29 1454.96 L1741.29 1463.43 Q1742.31 1463.08 1743.33 1462.92 Q1744.35 1462.73 1745.37 1462.73 Q1751.15 1462.73 1754.53 1465.9 Q1757.91 1469.08 1757.91 1474.49 Q1757.91 1480.07 1754.44 1483.17 Q1750.97 1486.25 1744.65 1486.25 Q1742.47 1486.25 1740.2 1485.88 Q1737.96 1485.51 1735.55 1484.77 L1735.55 1480.07 Q1737.64 1481.2 1739.86 1481.76 Q1742.08 1482.32 1744.56 1482.32 Q1748.56 1482.32 1750.9 1480.21 Q1753.24 1478.1 1753.24 1474.49 Q1753.24 1470.88 1750.9 1468.77 Q1748.56 1466.67 1744.56 1466.67 Q1742.68 1466.67 1740.81 1467.08 Q1738.95 1467.5 1737.01 1468.38 L1737.01 1451.02 Z\" fill=\"#000000\" fill-rule=\"evenodd\" fill-opacity=\"1\" /><path clip-path=\"url(#clip530)\" d=\"M2176.91 1481.64 L2184.54 1481.64 L2184.54 1455.28 L2176.23 1456.95 L2176.23 1452.69 L2184.5 1451.02 L2189.17 1451.02 L2189.17 1481.64 L2196.81 1481.64 L2196.81 1485.58 L2176.91 1485.58 L2176.91 1481.64 Z\" fill=\"#000000\" fill-rule=\"evenodd\" fill-opacity=\"1\" /><path clip-path=\"url(#clip530)\" d=\"M2219.1 1455.09 L2207.3 1473.54 L2219.1 1473.54 L2219.1 1455.09 M2217.88 1451.02 L2223.76 1451.02 L2223.76 1473.54 L2228.69 1473.54 L2228.69 1477.43 L2223.76 1477.43 L2223.76 1485.58 L2219.1 1485.58 L2219.1 1477.43 L2203.5 1477.43 L2203.5 1472.92 L2217.88 1451.02 Z\" fill=\"#000000\" fill-rule=\"evenodd\" fill-opacity=\"1\" /><path clip-path=\"url(#clip530)\" d=\"M2236.42 1479.7 L2241.3 1479.7 L2241.3 1485.58 L2236.42 1485.58 L2236.42 1479.7 Z\" fill=\"#000000\" fill-rule=\"evenodd\" fill-opacity=\"1\" /><path clip-path=\"url(#clip530)\" d=\"M2261.49 1454.1 Q2257.88 1454.1 2256.05 1457.66 Q2254.24 1461.2 2254.24 1468.33 Q2254.24 1475.44 2256.05 1479.01 Q2257.88 1482.55 2261.49 1482.55 Q2265.12 1482.55 2266.93 1479.01 Q2268.76 1475.44 2268.76 1468.33 Q2268.76 1461.2 2266.93 1457.66 Q2265.12 1454.1 2261.49 1454.1 M2261.49 1450.39 Q2267.3 1450.39 2270.35 1455 Q2273.43 1459.58 2273.43 1468.33 Q2273.43 1477.06 2270.35 1481.67 Q2267.3 1486.25 2261.49 1486.25 Q2255.68 1486.25 2252.6 1481.67 Q2249.54 1477.06 2249.54 1468.33 Q2249.54 1459.58 2252.6 1455 Q2255.68 1450.39 2261.49 1450.39 Z\" fill=\"#000000\" fill-rule=\"evenodd\" fill-opacity=\"1\" /><path clip-path=\"url(#clip530)\" d=\"M1110.28 1539.24 Q1112.48 1535.29 1115.53 1533.41 Q1118.59 1531.54 1122.72 1531.54 Q1128.29 1531.54 1131.32 1535.45 Q1134.34 1539.33 1134.34 1546.53 L1134.34 1568.04 L1128.45 1568.04 L1128.45 1546.72 Q1128.45 1541.59 1126.64 1539.11 Q1124.82 1536.63 1121.1 1536.63 Q1116.55 1536.63 1113.91 1539.65 Q1111.27 1542.68 1111.27 1547.9 L1111.27 1568.04 L1105.38 1568.04 L1105.38 1546.72 Q1105.38 1541.56 1103.56 1539.11 Q1101.75 1536.63 1097.96 1536.63 Q1093.47 1536.63 1090.83 1539.68 Q1088.19 1542.71 1088.19 1547.9 L1088.19 1568.04 L1082.3 1568.04 L1082.3 1532.4 L1088.19 1532.4 L1088.19 1537.93 Q1090.2 1534.66 1093 1533.1 Q1095.8 1531.54 1099.65 1531.54 Q1103.53 1531.54 1106.24 1533.51 Q1108.97 1535.48 1110.28 1539.24 Z\" fill=\"#000000\" fill-rule=\"evenodd\" fill-opacity=\"1\" /><path clip-path=\"url(#clip530)\" d=\"M1146.02 1532.4 L1151.88 1532.4 L1151.88 1568.04 L1146.02 1568.04 L1146.02 1532.4 M1146.02 1518.52 L1151.88 1518.52 L1151.88 1525.93 L1146.02 1525.93 L1146.02 1518.52 Z\" fill=\"#000000\" fill-rule=\"evenodd\" fill-opacity=\"1\" /><path clip-path=\"url(#clip530)\" d=\"M1164.13 1518.52 L1169.99 1518.52 L1169.99 1568.04 L1164.13 1568.04 L1164.13 1518.52 Z\" fill=\"#000000\" fill-rule=\"evenodd\" fill-opacity=\"1\" /><path clip-path=\"url(#clip530)\" d=\"M1182.24 1518.52 L1188.1 1518.52 L1188.1 1568.04 L1182.24 1568.04 L1182.24 1518.52 Z\" fill=\"#000000\" fill-rule=\"evenodd\" fill-opacity=\"1\" /><path clip-path=\"url(#clip530)\" d=\"M1200.35 1532.4 L1206.21 1532.4 L1206.21 1568.04 L1200.35 1568.04 L1200.35 1532.4 M1200.35 1518.52 L1206.21 1518.52 L1206.21 1525.93 L1200.35 1525.93 L1200.35 1518.52 Z\" fill=\"#000000\" fill-rule=\"evenodd\" fill-opacity=\"1\" /><path clip-path=\"url(#clip530)\" d=\"M1241.19 1533.45 L1241.19 1538.98 Q1238.71 1537.71 1236.03 1537.07 Q1233.36 1536.44 1230.5 1536.44 Q1226.13 1536.44 1223.94 1537.77 Q1221.77 1539.11 1221.77 1541.79 Q1221.77 1543.82 1223.33 1545 Q1224.89 1546.15 1229.6 1547.2 L1231.61 1547.64 Q1237.85 1548.98 1240.46 1551.43 Q1243.1 1553.85 1243.1 1558.21 Q1243.1 1563.17 1239.15 1566.07 Q1235.24 1568.97 1228.36 1568.97 Q1225.5 1568.97 1222.38 1568.39 Q1219.29 1567.85 1215.85 1566.74 L1215.85 1560.69 Q1219.1 1562.38 1222.25 1563.24 Q1225.4 1564.07 1228.49 1564.07 Q1232.63 1564.07 1234.86 1562.66 Q1237.08 1561.23 1237.08 1558.65 Q1237.08 1556.27 1235.46 1554.99 Q1233.87 1553.72 1228.43 1552.54 L1226.39 1552.07 Q1220.95 1550.92 1218.53 1548.56 Q1216.11 1546.18 1216.11 1542.04 Q1216.11 1537.01 1219.67 1534.27 Q1223.24 1531.54 1229.8 1531.54 Q1233.04 1531.54 1235.91 1532.01 Q1238.77 1532.49 1241.19 1533.45 Z\" fill=\"#000000\" fill-rule=\"evenodd\" fill-opacity=\"1\" /><path clip-path=\"url(#clip530)\" d=\"M1282.92 1548.76 L1282.92 1551.62 L1255.99 1551.62 Q1256.37 1557.67 1259.62 1560.85 Q1262.9 1564 1268.72 1564 Q1272.1 1564 1275.25 1563.17 Q1278.43 1562.35 1281.55 1560.69 L1281.55 1566.23 Q1278.4 1567.57 1275.09 1568.27 Q1271.78 1568.97 1268.37 1568.97 Q1259.84 1568.97 1254.84 1564 Q1249.88 1559.04 1249.88 1550.57 Q1249.88 1541.82 1254.59 1536.69 Q1259.33 1531.54 1267.35 1531.54 Q1274.55 1531.54 1278.72 1536.18 Q1282.92 1540.8 1282.92 1548.76 M1277.06 1547.04 Q1277 1542.23 1274.36 1539.37 Q1271.75 1536.5 1267.42 1536.5 Q1262.51 1536.5 1259.55 1539.27 Q1256.63 1542.04 1256.18 1547.07 L1277.06 1547.04 Z\" fill=\"#000000\" fill-rule=\"evenodd\" fill-opacity=\"1\" /><path clip-path=\"url(#clip530)\" d=\"M1318.18 1533.76 L1318.18 1539.24 Q1315.7 1537.87 1313.19 1537.2 Q1310.7 1536.5 1308.16 1536.5 Q1302.46 1536.5 1299.31 1540.13 Q1296.16 1543.73 1296.16 1550.25 Q1296.16 1556.78 1299.31 1560.4 Q1302.46 1564 1308.16 1564 Q1310.7 1564 1313.19 1563.33 Q1315.7 1562.63 1318.18 1561.26 L1318.18 1566.68 Q1315.73 1567.82 1313.09 1568.39 Q1310.48 1568.97 1307.52 1568.97 Q1299.47 1568.97 1294.73 1563.91 Q1289.98 1558.85 1289.98 1550.25 Q1289.98 1541.53 1294.76 1536.53 Q1299.56 1531.54 1307.9 1531.54 Q1310.61 1531.54 1313.19 1532.11 Q1315.76 1532.65 1318.18 1533.76 Z\" fill=\"#000000\" fill-rule=\"evenodd\" fill-opacity=\"1\" /><path clip-path=\"url(#clip530)\" d=\"M1342.18 1536.5 Q1337.47 1536.5 1334.73 1540.19 Q1332 1543.85 1332 1550.25 Q1332 1556.65 1334.7 1560.34 Q1337.44 1564 1342.18 1564 Q1346.86 1564 1349.6 1560.31 Q1352.34 1556.62 1352.34 1550.25 Q1352.34 1543.92 1349.6 1540.23 Q1346.86 1536.5 1342.18 1536.5 M1342.18 1531.54 Q1349.82 1531.54 1354.18 1536.5 Q1358.54 1541.47 1358.54 1550.25 Q1358.54 1559 1354.18 1564 Q1349.82 1568.97 1342.18 1568.97 Q1334.51 1568.97 1330.15 1564 Q1325.82 1559 1325.82 1550.25 Q1325.82 1541.47 1330.15 1536.5 Q1334.51 1531.54 1342.18 1531.54 Z\" fill=\"#000000\" fill-rule=\"evenodd\" fill-opacity=\"1\" /><path clip-path=\"url(#clip530)\" d=\"M1397.88 1546.53 L1397.88 1568.04 L1392.03 1568.04 L1392.03 1546.72 Q1392.03 1541.66 1390.05 1539.14 Q1388.08 1536.63 1384.13 1536.63 Q1379.39 1536.63 1376.65 1539.65 Q1373.91 1542.68 1373.91 1547.9 L1373.91 1568.04 L1368.03 1568.04 L1368.03 1532.4 L1373.91 1532.4 L1373.91 1537.93 Q1376.02 1534.72 1378.85 1533.13 Q1381.71 1531.54 1385.44 1531.54 Q1391.58 1531.54 1394.73 1535.36 Q1397.88 1539.14 1397.88 1546.53 Z\" fill=\"#000000\" fill-rule=\"evenodd\" fill-opacity=\"1\" /><path clip-path=\"url(#clip530)\" d=\"M1433.02 1537.81 L1433.02 1518.52 L1438.88 1518.52 L1438.88 1568.04 L1433.02 1568.04 L1433.02 1562.7 Q1431.17 1565.88 1428.34 1567.44 Q1425.54 1568.97 1421.59 1568.97 Q1415.13 1568.97 1411.06 1563.81 Q1407.02 1558.65 1407.02 1550.25 Q1407.02 1541.85 1411.06 1536.69 Q1415.13 1531.54 1421.59 1531.54 Q1425.54 1531.54 1428.34 1533.1 Q1431.17 1534.62 1433.02 1537.81 M1413.06 1550.25 Q1413.06 1556.71 1415.71 1560.4 Q1418.38 1564.07 1423.03 1564.07 Q1427.67 1564.07 1430.35 1560.4 Q1433.02 1556.71 1433.02 1550.25 Q1433.02 1543.79 1430.35 1540.13 Q1427.67 1536.44 1423.03 1536.44 Q1418.38 1536.44 1415.71 1540.13 Q1413.06 1543.79 1413.06 1550.25 Z\" fill=\"#000000\" fill-rule=\"evenodd\" fill-opacity=\"1\" /><path clip-path=\"url(#clip530)\" d=\"M1473.67 1533.45 L1473.67 1538.98 Q1471.18 1537.71 1468.51 1537.07 Q1465.84 1536.44 1462.97 1536.44 Q1458.61 1536.44 1456.41 1537.77 Q1454.25 1539.11 1454.25 1541.79 Q1454.25 1543.82 1455.81 1545 Q1457.37 1546.15 1462.08 1547.2 L1464.09 1547.64 Q1470.32 1548.98 1472.93 1551.43 Q1475.58 1553.85 1475.58 1558.21 Q1475.58 1563.17 1471.63 1566.07 Q1467.71 1568.97 1460.84 1568.97 Q1457.97 1568.97 1454.85 1568.39 Q1451.77 1567.85 1448.33 1566.74 L1448.33 1560.69 Q1451.58 1562.38 1454.73 1563.24 Q1457.88 1564.07 1460.97 1564.07 Q1465.1 1564.07 1467.33 1562.66 Q1469.56 1561.23 1469.56 1558.65 Q1469.56 1556.27 1467.94 1554.99 Q1466.34 1553.72 1460.9 1552.54 L1458.87 1552.07 Q1453.42 1550.92 1451 1548.56 Q1448.58 1546.18 1448.58 1542.04 Q1448.58 1537.01 1452.15 1534.27 Q1455.71 1531.54 1462.27 1531.54 Q1465.52 1531.54 1468.38 1532.01 Q1471.25 1532.49 1473.67 1533.45 Z\" fill=\"#000000\" fill-rule=\"evenodd\" fill-opacity=\"1\" /><polyline clip-path=\"url(#clip532)\" style=\"stroke:#000000; stroke-linecap:butt; stroke-linejoin:round; stroke-width:2; stroke-opacity:0.1; fill:none\" points=\"\n  205.121,1384.24 2352.76,1384.24 \n  \"/>\n<polyline clip-path=\"url(#clip532)\" style=\"stroke:#000000; stroke-linecap:butt; stroke-linejoin:round; stroke-width:2; stroke-opacity:0.1; fill:none\" points=\"\n  205.121,1059.73 2352.76,1059.73 \n  \"/>\n<polyline clip-path=\"url(#clip532)\" style=\"stroke:#000000; stroke-linecap:butt; stroke-linejoin:round; stroke-width:2; stroke-opacity:0.1; fill:none\" points=\"\n  205.121,735.212 2352.76,735.212 \n  \"/>\n<polyline clip-path=\"url(#clip532)\" style=\"stroke:#000000; stroke-linecap:butt; stroke-linejoin:round; stroke-width:2; stroke-opacity:0.1; fill:none\" points=\"\n  205.121,410.699 2352.76,410.699 \n  \"/>\n<polyline clip-path=\"url(#clip532)\" style=\"stroke:#000000; stroke-linecap:butt; stroke-linejoin:round; stroke-width:2; stroke-opacity:0.1; fill:none\" points=\"\n  205.121,86.1857 2352.76,86.1857 \n  \"/>\n<polyline clip-path=\"url(#clip530)\" style=\"stroke:#000000; stroke-linecap:butt; stroke-linejoin:round; stroke-width:4; stroke-opacity:1; fill:none\" points=\"\n  205.121,1423.18 205.121,47.2441 \n  \"/>\n<polyline clip-path=\"url(#clip530)\" style=\"stroke:#000000; stroke-linecap:butt; stroke-linejoin:round; stroke-width:4; stroke-opacity:1; fill:none\" points=\"\n  205.121,1384.24 224.019,1384.24 \n  \"/>\n<polyline clip-path=\"url(#clip530)\" style=\"stroke:#000000; stroke-linecap:butt; stroke-linejoin:round; stroke-width:4; stroke-opacity:1; fill:none\" points=\"\n  205.121,1059.73 224.019,1059.73 \n  \"/>\n<polyline clip-path=\"url(#clip530)\" style=\"stroke:#000000; stroke-linecap:butt; stroke-linejoin:round; stroke-width:4; stroke-opacity:1; fill:none\" points=\"\n  205.121,735.212 224.019,735.212 \n  \"/>\n<polyline clip-path=\"url(#clip530)\" style=\"stroke:#000000; stroke-linecap:butt; stroke-linejoin:round; stroke-width:4; stroke-opacity:1; fill:none\" points=\"\n  205.121,410.699 224.019,410.699 \n  \"/>\n<polyline clip-path=\"url(#clip530)\" style=\"stroke:#000000; stroke-linecap:butt; stroke-linejoin:round; stroke-width:4; stroke-opacity:1; fill:none\" points=\"\n  205.121,86.1857 224.019,86.1857 \n  \"/>\n<path clip-path=\"url(#clip530)\" d=\"M157.177 1370.04 Q153.566 1370.04 151.737 1373.6 Q149.931 1377.14 149.931 1384.27 Q149.931 1391.38 151.737 1394.94 Q153.566 1398.49 157.177 1398.49 Q160.811 1398.49 162.616 1394.94 Q164.445 1391.38 164.445 1384.27 Q164.445 1377.14 162.616 1373.6 Q160.811 1370.04 157.177 1370.04 M157.177 1366.33 Q162.987 1366.33 166.042 1370.94 Q169.121 1375.52 169.121 1384.27 Q169.121 1393 166.042 1397.61 Q162.987 1402.19 157.177 1402.19 Q151.366 1402.19 148.288 1397.61 Q145.232 1393 145.232 1384.27 Q145.232 1375.52 148.288 1370.94 Q151.366 1366.33 157.177 1366.33 Z\" fill=\"#000000\" fill-rule=\"evenodd\" fill-opacity=\"1\" /><path clip-path=\"url(#clip530)\" d=\"M117.825 1073.07 L125.464 1073.07 L125.464 1046.7 L117.154 1048.37 L117.154 1044.11 L125.418 1042.45 L130.093 1042.45 L130.093 1073.07 L137.732 1073.07 L137.732 1077.01 L117.825 1077.01 L117.825 1073.07 Z\" fill=\"#000000\" fill-rule=\"evenodd\" fill-opacity=\"1\" /><path clip-path=\"url(#clip530)\" d=\"M157.177 1045.52 Q153.566 1045.52 151.737 1049.09 Q149.931 1052.63 149.931 1059.76 Q149.931 1066.87 151.737 1070.43 Q153.566 1073.97 157.177 1073.97 Q160.811 1073.97 162.616 1070.43 Q164.445 1066.87 164.445 1059.76 Q164.445 1052.63 162.616 1049.09 Q160.811 1045.52 157.177 1045.52 M157.177 1041.82 Q162.987 1041.82 166.042 1046.43 Q169.121 1051.01 169.121 1059.76 Q169.121 1068.49 166.042 1073.09 Q162.987 1077.68 157.177 1077.68 Q151.366 1077.68 148.288 1073.09 Q145.232 1068.49 145.232 1059.76 Q145.232 1051.01 148.288 1046.43 Q151.366 1041.82 157.177 1041.82 Z\" fill=\"#000000\" fill-rule=\"evenodd\" fill-opacity=\"1\" /><path clip-path=\"url(#clip530)\" d=\"M121.043 748.557 L137.362 748.557 L137.362 752.492 L115.418 752.492 L115.418 748.557 Q118.08 745.802 122.663 741.173 Q127.269 736.52 128.45 735.177 Q130.695 732.654 131.575 730.918 Q132.478 729.159 132.478 727.469 Q132.478 724.714 130.533 722.978 Q128.612 721.242 125.51 721.242 Q123.311 721.242 120.857 722.006 Q118.427 722.77 115.649 724.321 L115.649 719.599 Q118.473 718.464 120.927 717.886 Q123.38 717.307 125.418 717.307 Q130.788 717.307 133.982 719.992 Q137.177 722.677 137.177 727.168 Q137.177 729.298 136.367 731.219 Q135.579 733.117 133.473 735.71 Q132.894 736.381 129.792 739.599 Q126.691 742.793 121.043 748.557 Z\" fill=\"#000000\" fill-rule=\"evenodd\" fill-opacity=\"1\" /><path clip-path=\"url(#clip530)\" d=\"M157.177 721.011 Q153.566 721.011 151.737 724.575 Q149.931 728.117 149.931 735.247 Q149.931 742.353 151.737 745.918 Q153.566 749.46 157.177 749.46 Q160.811 749.46 162.616 745.918 Q164.445 742.353 164.445 735.247 Q164.445 728.117 162.616 724.575 Q160.811 721.011 157.177 721.011 M157.177 717.307 Q162.987 717.307 166.042 721.913 Q169.121 726.497 169.121 735.247 Q169.121 743.973 166.042 748.58 Q162.987 753.163 157.177 753.163 Q151.366 753.163 148.288 748.58 Q145.232 743.973 145.232 735.247 Q145.232 726.497 148.288 721.913 Q151.366 717.307 157.177 717.307 Z\" fill=\"#000000\" fill-rule=\"evenodd\" fill-opacity=\"1\" /><path clip-path=\"url(#clip530)\" d=\"M131.181 409.345 Q134.538 410.062 136.413 412.331 Q138.311 414.599 138.311 417.933 Q138.311 423.048 134.792 425.849 Q131.274 428.65 124.793 428.65 Q122.617 428.65 120.302 428.21 Q118.01 427.794 115.556 426.937 L115.556 422.423 Q117.501 423.558 119.816 424.136 Q122.13 424.715 124.654 424.715 Q129.052 424.715 131.343 422.979 Q133.658 421.243 133.658 417.933 Q133.658 414.877 131.505 413.164 Q129.376 411.428 125.556 411.428 L121.529 411.428 L121.529 407.585 L125.742 407.585 Q129.191 407.585 131.019 406.22 Q132.848 404.831 132.848 402.238 Q132.848 399.576 130.95 398.164 Q129.075 396.729 125.556 396.729 Q123.635 396.729 121.436 397.146 Q119.237 397.562 116.598 398.442 L116.598 394.275 Q119.26 393.535 121.575 393.164 Q123.913 392.794 125.973 392.794 Q131.297 392.794 134.399 395.224 Q137.501 397.632 137.501 401.752 Q137.501 404.622 135.857 406.613 Q134.214 408.581 131.181 409.345 Z\" fill=\"#000000\" fill-rule=\"evenodd\" fill-opacity=\"1\" /><path clip-path=\"url(#clip530)\" d=\"M157.177 396.498 Q153.566 396.498 151.737 400.062 Q149.931 403.604 149.931 410.734 Q149.931 417.84 151.737 421.405 Q153.566 424.946 157.177 424.946 Q160.811 424.946 162.616 421.405 Q164.445 417.84 164.445 410.734 Q164.445 403.604 162.616 400.062 Q160.811 396.498 157.177 396.498 M157.177 392.794 Q162.987 392.794 166.042 397.4 Q169.121 401.984 169.121 410.734 Q169.121 419.46 166.042 424.067 Q162.987 428.65 157.177 428.65 Q151.366 428.65 148.288 424.067 Q145.232 419.46 145.232 410.734 Q145.232 401.984 148.288 397.4 Q151.366 392.794 157.177 392.794 Z\" fill=\"#000000\" fill-rule=\"evenodd\" fill-opacity=\"1\" /><path clip-path=\"url(#clip530)\" d=\"M129.862 72.9797 L118.056 91.4287 L129.862 91.4287 L129.862 72.9797 M128.635 68.9057 L134.515 68.9057 L134.515 91.4287 L139.445 91.4287 L139.445 95.3176 L134.515 95.3176 L134.515 103.466 L129.862 103.466 L129.862 95.3176 L114.26 95.3176 L114.26 90.8037 L128.635 68.9057 Z\" fill=\"#000000\" fill-rule=\"evenodd\" fill-opacity=\"1\" /><path clip-path=\"url(#clip530)\" d=\"M157.177 71.9844 Q153.566 71.9844 151.737 75.5492 Q149.931 79.0908 149.931 86.2204 Q149.931 93.3268 151.737 96.8916 Q153.566 100.433 157.177 100.433 Q160.811 100.433 162.616 96.8916 Q164.445 93.3268 164.445 86.2204 Q164.445 79.0908 162.616 75.5492 Q160.811 71.9844 157.177 71.9844 M157.177 68.2807 Q162.987 68.2807 166.042 72.8871 Q169.121 77.4704 169.121 86.2204 Q169.121 94.9472 166.042 99.5537 Q162.987 104.137 157.177 104.137 Q151.366 104.137 148.288 99.5537 Q145.232 94.9472 145.232 86.2204 Q145.232 77.4704 148.288 72.8871 Q151.366 68.2807 157.177 68.2807 Z\" fill=\"#000000\" fill-rule=\"evenodd\" fill-opacity=\"1\" /><path clip-path=\"url(#clip530)\" d=\"M29.7248 796.386 L35.1993 796.386 Q33.8307 798.869 33.1623 801.383 Q32.4621 803.866 32.4621 806.412 Q32.4621 812.11 36.0905 815.261 Q39.6872 818.412 46.212 818.412 Q52.7369 818.412 56.3653 815.261 Q59.9619 812.11 59.9619 806.412 Q59.9619 803.866 59.2935 801.383 Q58.5933 798.869 57.2247 796.386 L62.6355 796.386 Q63.7814 798.837 64.3543 801.479 Q64.9272 804.089 64.9272 807.049 Q64.9272 815.102 59.8664 819.844 Q54.8057 824.586 46.212 824.586 Q37.491 824.586 32.4939 819.812 Q27.4968 815.006 27.4968 806.667 Q27.4968 803.962 28.0697 801.383 Q28.6108 798.805 29.7248 796.386 Z\" fill=\"#000000\" fill-rule=\"evenodd\" fill-opacity=\"1\" /><path clip-path=\"url(#clip530)\" d=\"M32.4621 772.388 Q32.4621 777.098 36.1542 779.836 Q39.8145 782.573 46.212 782.573 Q52.6095 782.573 56.3017 779.867 Q59.9619 777.13 59.9619 772.388 Q59.9619 767.709 56.2698 764.972 Q52.5777 762.234 46.212 762.234 Q39.8781 762.234 36.186 764.972 Q32.4621 767.709 32.4621 772.388 M27.4968 772.388 Q27.4968 764.749 32.4621 760.388 Q37.4273 756.028 46.212 756.028 Q54.9649 756.028 59.9619 760.388 Q64.9272 764.749 64.9272 772.388 Q64.9272 780.058 59.9619 784.419 Q54.9649 788.748 46.212 788.748 Q37.4273 788.748 32.4621 784.419 Q27.4968 780.058 27.4968 772.388 Z\" fill=\"#000000\" fill-rule=\"evenodd\" fill-opacity=\"1\" /><path clip-path=\"url(#clip530)\" d=\"M49.9359 746.925 L28.3562 746.925 L28.3562 741.068 L49.7131 741.068 Q54.7739 741.068 57.3202 739.095 Q59.8346 737.122 59.8346 733.175 Q59.8346 728.432 56.8109 725.695 Q53.7872 722.926 48.5673 722.926 L28.3562 722.926 L28.3562 717.07 L64.0042 717.07 L64.0042 722.926 L58.5296 722.926 Q61.7762 725.059 63.3676 727.891 Q64.9272 730.692 64.9272 734.416 Q64.9272 740.559 61.1078 743.742 Q57.2883 746.925 49.9359 746.925 M27.4968 732.188 L27.4968 732.188 Z\" fill=\"#000000\" fill-rule=\"evenodd\" fill-opacity=\"1\" /><path clip-path=\"url(#clip530)\" d=\"M42.4881 675.374 L64.0042 675.374 L64.0042 681.231 L42.679 681.231 Q37.6183 681.231 35.1038 683.204 Q32.5894 685.178 32.5894 689.124 Q32.5894 693.867 35.6131 696.604 Q38.6368 699.341 43.8567 699.341 L64.0042 699.341 L64.0042 705.229 L28.3562 705.229 L28.3562 699.341 L33.8944 699.341 Q30.6797 697.241 29.0883 694.408 Q27.4968 691.543 27.4968 687.819 Q27.4968 681.676 31.3163 678.525 Q35.1038 675.374 42.4881 675.374 Z\" fill=\"#000000\" fill-rule=\"evenodd\" fill-opacity=\"1\" /><path clip-path=\"url(#clip530)\" d=\"M18.2347 657.9 L28.3562 657.9 L28.3562 645.837 L32.9077 645.837 L32.9077 657.9 L52.2594 657.9 Q56.6199 657.9 57.8613 656.723 Q59.1026 655.513 59.1026 651.853 L59.1026 645.837 L64.0042 645.837 L64.0042 651.853 Q64.0042 658.633 61.4897 661.211 Q58.9434 663.789 52.2594 663.789 L32.9077 663.789 L32.9077 668.086 L28.3562 668.086 L28.3562 663.789 L18.2347 663.789 L18.2347 657.9 Z\" fill=\"#000000\" fill-rule=\"evenodd\" fill-opacity=\"1\" /><path clip-path=\"url(#clip532)\" d=\"\nM164.743 1254.43 L164.743 1384.24 L267.748 1384.24 L267.748 1254.43 L164.743 1254.43 L164.743 1254.43  Z\n  \" fill=\"#009af9\" fill-rule=\"evenodd\" fill-opacity=\"1\"/>\n<polyline clip-path=\"url(#clip532)\" style=\"stroke:#000000; stroke-linecap:butt; stroke-linejoin:round; stroke-width:4; stroke-opacity:1; fill:none\" points=\"\n  164.743,1254.43 164.743,1384.24 267.748,1384.24 267.748,1254.43 164.743,1254.43 \n  \"/>\n<path clip-path=\"url(#clip532)\" d=\"\nM267.748 1286.88 L267.748 1384.24 L370.752 1384.24 L370.752 1286.88 L267.748 1286.88 L267.748 1286.88  Z\n  \" fill=\"#009af9\" fill-rule=\"evenodd\" fill-opacity=\"1\"/>\n<polyline clip-path=\"url(#clip532)\" style=\"stroke:#000000; stroke-linecap:butt; stroke-linejoin:round; stroke-width:4; stroke-opacity:1; fill:none\" points=\"\n  267.748,1286.88 267.748,1384.24 370.752,1384.24 370.752,1286.88 267.748,1286.88 \n  \"/>\n<path clip-path=\"url(#clip532)\" d=\"\nM370.752 1351.79 L370.752 1384.24 L473.757 1384.24 L473.757 1351.79 L370.752 1351.79 L370.752 1351.79  Z\n  \" fill=\"#009af9\" fill-rule=\"evenodd\" fill-opacity=\"1\"/>\n<polyline clip-path=\"url(#clip532)\" style=\"stroke:#000000; stroke-linecap:butt; stroke-linejoin:round; stroke-width:4; stroke-opacity:1; fill:none\" points=\"\n  370.752,1351.79 370.752,1384.24 473.757,1384.24 473.757,1351.79 370.752,1351.79 \n  \"/>\n<path clip-path=\"url(#clip532)\" d=\"\nM473.757 1157.08 L473.757 1384.24 L576.761 1384.24 L576.761 1157.08 L473.757 1157.08 L473.757 1157.08  Z\n  \" fill=\"#009af9\" fill-rule=\"evenodd\" fill-opacity=\"1\"/>\n<polyline clip-path=\"url(#clip532)\" style=\"stroke:#000000; stroke-linecap:butt; stroke-linejoin:round; stroke-width:4; stroke-opacity:1; fill:none\" points=\"\n  473.757,1157.08 473.757,1384.24 576.761,1384.24 576.761,1157.08 473.757,1157.08 \n  \"/>\n<path clip-path=\"url(#clip532)\" d=\"\nM576.761 832.566 L576.761 1384.24 L679.766 1384.24 L679.766 832.566 L576.761 832.566 L576.761 832.566  Z\n  \" fill=\"#009af9\" fill-rule=\"evenodd\" fill-opacity=\"1\"/>\n<polyline clip-path=\"url(#clip532)\" style=\"stroke:#000000; stroke-linecap:butt; stroke-linejoin:round; stroke-width:4; stroke-opacity:1; fill:none\" points=\"\n  576.761,832.566 576.761,1384.24 679.766,1384.24 679.766,832.566 576.761,832.566 \n  \"/>\n<path clip-path=\"url(#clip532)\" d=\"\nM679.766 378.248 L679.766 1384.24 L782.77 1384.24 L782.77 378.248 L679.766 378.248 L679.766 378.248  Z\n  \" fill=\"#009af9\" fill-rule=\"evenodd\" fill-opacity=\"1\"/>\n<polyline clip-path=\"url(#clip532)\" style=\"stroke:#000000; stroke-linecap:butt; stroke-linejoin:round; stroke-width:4; stroke-opacity:1; fill:none\" points=\"\n  679.766,378.248 679.766,1384.24 782.77,1384.24 782.77,378.248 679.766,378.248 \n  \"/>\n<path clip-path=\"url(#clip532)\" d=\"\nM782.77 475.601 L782.77 1384.24 L885.775 1384.24 L885.775 475.601 L782.77 475.601 L782.77 475.601  Z\n  \" fill=\"#009af9\" fill-rule=\"evenodd\" fill-opacity=\"1\"/>\n<polyline clip-path=\"url(#clip532)\" style=\"stroke:#000000; stroke-linecap:butt; stroke-linejoin:round; stroke-width:4; stroke-opacity:1; fill:none\" points=\"\n  782.77,475.601 782.77,1384.24 885.775,1384.24 885.775,475.601 782.77,475.601 \n  \"/>\n<path clip-path=\"url(#clip532)\" d=\"\nM885.775 86.1857 L885.775 1384.24 L988.78 1384.24 L988.78 86.1857 L885.775 86.1857 L885.775 86.1857  Z\n  \" fill=\"#009af9\" fill-rule=\"evenodd\" fill-opacity=\"1\"/>\n<polyline clip-path=\"url(#clip532)\" style=\"stroke:#000000; stroke-linecap:butt; stroke-linejoin:round; stroke-width:4; stroke-opacity:1; fill:none\" points=\"\n  885.775,86.1857 885.775,1384.24 988.78,1384.24 988.78,86.1857 885.775,86.1857 \n  \"/>\n<path clip-path=\"url(#clip532)\" d=\"\nM988.78 410.699 L988.78 1384.24 L1091.78 1384.24 L1091.78 410.699 L988.78 410.699 L988.78 410.699  Z\n  \" fill=\"#009af9\" fill-rule=\"evenodd\" fill-opacity=\"1\"/>\n<polyline clip-path=\"url(#clip532)\" style=\"stroke:#000000; stroke-linecap:butt; stroke-linejoin:round; stroke-width:4; stroke-opacity:1; fill:none\" points=\"\n  988.78,410.699 988.78,1384.24 1091.78,1384.24 1091.78,410.699 988.78,410.699 \n  \"/>\n<path clip-path=\"url(#clip532)\" d=\"\nM1091.78 345.796 L1091.78 1384.24 L1194.79 1384.24 L1194.79 345.796 L1091.78 345.796 L1091.78 345.796  Z\n  \" fill=\"#009af9\" fill-rule=\"evenodd\" fill-opacity=\"1\"/>\n<polyline clip-path=\"url(#clip532)\" style=\"stroke:#000000; stroke-linecap:butt; stroke-linejoin:round; stroke-width:4; stroke-opacity:1; fill:none\" points=\"\n  1091.78,345.796 1091.78,1384.24 1194.79,1384.24 1194.79,345.796 1091.78,345.796 \n  \"/>\n<path clip-path=\"url(#clip532)\" d=\"\nM1194.79 605.407 L1194.79 1384.24 L1297.79 1384.24 L1297.79 605.407 L1194.79 605.407 L1194.79 605.407  Z\n  \" fill=\"#009af9\" fill-rule=\"evenodd\" fill-opacity=\"1\"/>\n<polyline clip-path=\"url(#clip532)\" style=\"stroke:#000000; stroke-linecap:butt; stroke-linejoin:round; stroke-width:4; stroke-opacity:1; fill:none\" points=\"\n  1194.79,605.407 1194.79,1384.24 1297.79,1384.24 1297.79,605.407 1194.79,605.407 \n  \"/>\n<path clip-path=\"url(#clip532)\" d=\"\nM1297.79 637.858 L1297.79 1384.24 L1400.8 1384.24 L1400.8 637.858 L1297.79 637.858 L1297.79 637.858  Z\n  \" fill=\"#009af9\" fill-rule=\"evenodd\" fill-opacity=\"1\"/>\n<polyline clip-path=\"url(#clip532)\" style=\"stroke:#000000; stroke-linecap:butt; stroke-linejoin:round; stroke-width:4; stroke-opacity:1; fill:none\" points=\"\n  1297.79,637.858 1297.79,1384.24 1400.8,1384.24 1400.8,637.858 1297.79,637.858 \n  \"/>\n<path clip-path=\"url(#clip532)\" d=\"\nM1400.8 1027.27 L1400.8 1384.24 L1503.8 1384.24 L1503.8 1027.27 L1400.8 1027.27 L1400.8 1027.27  Z\n  \" fill=\"#009af9\" fill-rule=\"evenodd\" fill-opacity=\"1\"/>\n<polyline clip-path=\"url(#clip532)\" style=\"stroke:#000000; stroke-linecap:butt; stroke-linejoin:round; stroke-width:4; stroke-opacity:1; fill:none\" points=\"\n  1400.8,1027.27 1400.8,1384.24 1503.8,1384.24 1503.8,1027.27 1400.8,1027.27 \n  \"/>\n<path clip-path=\"url(#clip532)\" d=\"\nM1503.8 572.955 L1503.8 1384.24 L1606.81 1384.24 L1606.81 572.955 L1503.8 572.955 L1503.8 572.955  Z\n  \" fill=\"#009af9\" fill-rule=\"evenodd\" fill-opacity=\"1\"/>\n<polyline clip-path=\"url(#clip532)\" style=\"stroke:#000000; stroke-linecap:butt; stroke-linejoin:round; stroke-width:4; stroke-opacity:1; fill:none\" points=\"\n  1503.8,572.955 1503.8,1384.24 1606.81,1384.24 1606.81,572.955 1503.8,572.955 \n  \"/>\n<path clip-path=\"url(#clip532)\" d=\"\nM1606.81 994.822 L1606.81 1384.24 L1709.81 1384.24 L1709.81 994.822 L1606.81 994.822 L1606.81 994.822  Z\n  \" fill=\"#009af9\" fill-rule=\"evenodd\" fill-opacity=\"1\"/>\n<polyline clip-path=\"url(#clip532)\" style=\"stroke:#000000; stroke-linecap:butt; stroke-linejoin:round; stroke-width:4; stroke-opacity:1; fill:none\" points=\"\n  1606.81,994.822 1606.81,1384.24 1709.81,1384.24 1709.81,994.822 1606.81,994.822 \n  \"/>\n<path clip-path=\"url(#clip532)\" d=\"\nM1709.81 1059.73 L1709.81 1384.24 L1812.82 1384.24 L1812.82 1059.73 L1709.81 1059.73 L1709.81 1059.73  Z\n  \" fill=\"#009af9\" fill-rule=\"evenodd\" fill-opacity=\"1\"/>\n<polyline clip-path=\"url(#clip532)\" style=\"stroke:#000000; stroke-linecap:butt; stroke-linejoin:round; stroke-width:4; stroke-opacity:1; fill:none\" points=\"\n  1709.81,1059.73 1709.81,1384.24 1812.82,1384.24 1812.82,1059.73 1709.81,1059.73 \n  \"/>\n<path clip-path=\"url(#clip532)\" d=\"\nM1812.82 897.469 L1812.82 1384.24 L1915.82 1384.24 L1915.82 897.469 L1812.82 897.469 L1812.82 897.469  Z\n  \" fill=\"#009af9\" fill-rule=\"evenodd\" fill-opacity=\"1\"/>\n<polyline clip-path=\"url(#clip532)\" style=\"stroke:#000000; stroke-linecap:butt; stroke-linejoin:round; stroke-width:4; stroke-opacity:1; fill:none\" points=\"\n  1812.82,897.469 1812.82,1384.24 1915.82,1384.24 1915.82,897.469 1812.82,897.469 \n  \"/>\n<path clip-path=\"url(#clip532)\" d=\"\nM1915.82 1157.08 L1915.82 1384.24 L2018.82 1384.24 L2018.82 1157.08 L1915.82 1157.08 L1915.82 1157.08  Z\n  \" fill=\"#009af9\" fill-rule=\"evenodd\" fill-opacity=\"1\"/>\n<polyline clip-path=\"url(#clip532)\" style=\"stroke:#000000; stroke-linecap:butt; stroke-linejoin:round; stroke-width:4; stroke-opacity:1; fill:none\" points=\"\n  1915.82,1157.08 1915.82,1384.24 2018.82,1384.24 2018.82,1157.08 1915.82,1157.08 \n  \"/>\n<path clip-path=\"url(#clip532)\" d=\"\nM2018.82 1157.08 L2018.82 1384.24 L2121.83 1384.24 L2121.83 1157.08 L2018.82 1157.08 L2018.82 1157.08  Z\n  \" fill=\"#009af9\" fill-rule=\"evenodd\" fill-opacity=\"1\"/>\n<polyline clip-path=\"url(#clip532)\" style=\"stroke:#000000; stroke-linecap:butt; stroke-linejoin:round; stroke-width:4; stroke-opacity:1; fill:none\" points=\"\n  2018.82,1157.08 2018.82,1384.24 2121.83,1384.24 2121.83,1157.08 2018.82,1157.08 \n  \"/>\n<path clip-path=\"url(#clip532)\" d=\"\nM2121.83 1351.79 L2121.83 1384.24 L2224.83 1384.24 L2224.83 1351.79 L2121.83 1351.79 L2121.83 1351.79  Z\n  \" fill=\"#009af9\" fill-rule=\"evenodd\" fill-opacity=\"1\"/>\n<polyline clip-path=\"url(#clip532)\" style=\"stroke:#000000; stroke-linecap:butt; stroke-linejoin:round; stroke-width:4; stroke-opacity:1; fill:none\" points=\"\n  2121.83,1351.79 2121.83,1384.24 2224.83,1384.24 2224.83,1351.79 2121.83,1351.79 \n  \"/>\n<path clip-path=\"url(#clip532)\" d=\"\nM2224.83 1221.98 L2224.83 1384.24 L2327.84 1384.24 L2327.84 1221.98 L2224.83 1221.98 L2224.83 1221.98  Z\n  \" fill=\"#009af9\" fill-rule=\"evenodd\" fill-opacity=\"1\"/>\n<polyline clip-path=\"url(#clip532)\" style=\"stroke:#000000; stroke-linecap:butt; stroke-linejoin:round; stroke-width:4; stroke-opacity:1; fill:none\" points=\"\n  2224.83,1221.98 2224.83,1384.24 2327.84,1384.24 2327.84,1221.98 2224.83,1221.98 \n  \"/>\n<path clip-path=\"url(#clip532)\" d=\"\nM2327.84 1351.79 L2327.84 1384.24 L2430.84 1384.24 L2430.84 1351.79 L2327.84 1351.79 L2327.84 1351.79  Z\n  \" fill=\"#009af9\" fill-rule=\"evenodd\" fill-opacity=\"1\"/>\n<polyline clip-path=\"url(#clip532)\" style=\"stroke:#000000; stroke-linecap:butt; stroke-linejoin:round; stroke-width:4; stroke-opacity:1; fill:none\" points=\"\n  2327.84,1351.79 2327.84,1384.24 2430.84,1384.24 2430.84,1351.79 2327.84,1351.79 \n  \"/>\n<path clip-path=\"url(#clip532)\" d=\"\nM2430.84 1189.53 L2430.84 1384.24 L2533.85 1384.24 L2533.85 1189.53 L2430.84 1189.53 L2430.84 1189.53  Z\n  \" fill=\"#009af9\" fill-rule=\"evenodd\" fill-opacity=\"1\"/>\n<polyline clip-path=\"url(#clip532)\" style=\"stroke:#000000; stroke-linecap:butt; stroke-linejoin:round; stroke-width:4; stroke-opacity:1; fill:none\" points=\"\n  2430.84,1189.53 2430.84,1384.24 2533.85,1384.24 2533.85,1189.53 2430.84,1189.53 \n  \"/>\n<path clip-path=\"url(#clip532)\" d=\"\nM2533.85 1351.79 L2533.85 1384.24 L2636.85 1384.24 L2636.85 1351.79 L2533.85 1351.79 L2533.85 1351.79  Z\n  \" fill=\"#009af9\" fill-rule=\"evenodd\" fill-opacity=\"1\"/>\n<polyline clip-path=\"url(#clip532)\" style=\"stroke:#000000; stroke-linecap:butt; stroke-linejoin:round; stroke-width:4; stroke-opacity:1; fill:none\" points=\"\n  2533.85,1351.79 2533.85,1384.24 2636.85,1384.24 2636.85,1351.79 2533.85,1351.79 \n  \"/>\n<path clip-path=\"url(#clip532)\" d=\"\nM2636.85 1286.88 L2636.85 1384.24 L2739.86 1384.24 L2739.86 1286.88 L2636.85 1286.88 L2636.85 1286.88  Z\n  \" fill=\"#009af9\" fill-rule=\"evenodd\" fill-opacity=\"1\"/>\n<polyline clip-path=\"url(#clip532)\" style=\"stroke:#000000; stroke-linecap:butt; stroke-linejoin:round; stroke-width:4; stroke-opacity:1; fill:none\" points=\"\n  2636.85,1286.88 2636.85,1384.24 2739.86,1384.24 2739.86,1286.88 2636.85,1286.88 \n  \"/>\n<path clip-path=\"url(#clip532)\" d=\"\nM2739.86 1221.98 L2739.86 1384.24 L2842.86 1384.24 L2842.86 1221.98 L2739.86 1221.98 L2739.86 1221.98  Z\n  \" fill=\"#009af9\" fill-rule=\"evenodd\" fill-opacity=\"1\"/>\n<polyline clip-path=\"url(#clip532)\" style=\"stroke:#000000; stroke-linecap:butt; stroke-linejoin:round; stroke-width:4; stroke-opacity:1; fill:none\" points=\"\n  2739.86,1221.98 2739.86,1384.24 2842.86,1384.24 2842.86,1221.98 2739.86,1221.98 \n  \"/>\n<path clip-path=\"url(#clip532)\" d=\"\nM2842.86 1351.79 L2842.86 1384.24 L2945.87 1384.24 L2945.87 1351.79 L2842.86 1351.79 L2842.86 1351.79  Z\n  \" fill=\"#009af9\" fill-rule=\"evenodd\" fill-opacity=\"1\"/>\n<polyline clip-path=\"url(#clip532)\" style=\"stroke:#000000; stroke-linecap:butt; stroke-linejoin:round; stroke-width:4; stroke-opacity:1; fill:none\" points=\"\n  2842.86,1351.79 2842.86,1384.24 2945.87,1384.24 2945.87,1351.79 2842.86,1351.79 \n  \"/>\n<path clip-path=\"url(#clip532)\" d=\"\nM2945.87 1384.24 L2945.87 1384.24 L3048.87 1384.24 L3048.87 1384.24 L2945.87 1384.24 L2945.87 1384.24  Z\n  \" fill=\"#009af9\" fill-rule=\"evenodd\" fill-opacity=\"1\"/>\n<polyline clip-path=\"url(#clip532)\" style=\"stroke:#000000; stroke-linecap:butt; stroke-linejoin:round; stroke-width:4; stroke-opacity:1; fill:none\" points=\"\n  2945.87,1384.24 2945.87,1384.24 3048.87,1384.24 2945.87,1384.24 \n  \"/>\n<path clip-path=\"url(#clip532)\" d=\"\nM3048.87 1286.88 L3048.87 1384.24 L3151.87 1384.24 L3151.87 1286.88 L3048.87 1286.88 L3048.87 1286.88  Z\n  \" fill=\"#009af9\" fill-rule=\"evenodd\" fill-opacity=\"1\"/>\n<polyline clip-path=\"url(#clip532)\" style=\"stroke:#000000; stroke-linecap:butt; stroke-linejoin:round; stroke-width:4; stroke-opacity:1; fill:none\" points=\"\n  3048.87,1286.88 3048.87,1384.24 3151.87,1384.24 3151.87,1286.88 3048.87,1286.88 \n  \"/>\n<path clip-path=\"url(#clip532)\" d=\"\nM3151.87 1351.79 L3151.87 1384.24 L3254.88 1384.24 L3254.88 1351.79 L3151.87 1351.79 L3151.87 1351.79  Z\n  \" fill=\"#009af9\" fill-rule=\"evenodd\" fill-opacity=\"1\"/>\n<polyline clip-path=\"url(#clip532)\" style=\"stroke:#000000; stroke-linecap:butt; stroke-linejoin:round; stroke-width:4; stroke-opacity:1; fill:none\" points=\"\n  3151.87,1351.79 3151.87,1384.24 3254.88,1384.24 3254.88,1351.79 3151.87,1351.79 \n  \"/>\n<path clip-path=\"url(#clip532)\" d=\"\nM3254.88 1286.88 L3254.88 1384.24 L3357.88 1384.24 L3357.88 1286.88 L3254.88 1286.88 L3254.88 1286.88  Z\n  \" fill=\"#009af9\" fill-rule=\"evenodd\" fill-opacity=\"1\"/>\n<polyline clip-path=\"url(#clip532)\" style=\"stroke:#000000; stroke-linecap:butt; stroke-linejoin:round; stroke-width:4; stroke-opacity:1; fill:none\" points=\"\n  3254.88,1286.88 3254.88,1384.24 3357.88,1384.24 3357.88,1286.88 3254.88,1286.88 \n  \"/>\n<path clip-path=\"url(#clip532)\" d=\"\nM3357.88 1319.34 L3357.88 1384.24 L3460.89 1384.24 L3460.89 1319.34 L3357.88 1319.34 L3357.88 1319.34  Z\n  \" fill=\"#009af9\" fill-rule=\"evenodd\" fill-opacity=\"1\"/>\n<polyline clip-path=\"url(#clip532)\" style=\"stroke:#000000; stroke-linecap:butt; stroke-linejoin:round; stroke-width:4; stroke-opacity:1; fill:none\" points=\"\n  3357.88,1319.34 3357.88,1384.24 3460.89,1384.24 3460.89,1319.34 3357.88,1319.34 \n  \"/>\n<path clip-path=\"url(#clip532)\" d=\"\nM3460.89 1254.43 L3460.89 1384.24 L3563.89 1384.24 L3563.89 1254.43 L3460.89 1254.43 L3460.89 1254.43  Z\n  \" fill=\"#009af9\" fill-rule=\"evenodd\" fill-opacity=\"1\"/>\n<polyline clip-path=\"url(#clip532)\" style=\"stroke:#000000; stroke-linecap:butt; stroke-linejoin:round; stroke-width:4; stroke-opacity:1; fill:none\" points=\"\n  3460.89,1254.43 3460.89,1384.24 3563.89,1384.24 3563.89,1254.43 3460.89,1254.43 \n  \"/>\n<path clip-path=\"url(#clip532)\" d=\"\nM3563.89 1319.34 L3563.89 1384.24 L3666.9 1384.24 L3666.9 1319.34 L3563.89 1319.34 L3563.89 1319.34  Z\n  \" fill=\"#009af9\" fill-rule=\"evenodd\" fill-opacity=\"1\"/>\n<polyline clip-path=\"url(#clip532)\" style=\"stroke:#000000; stroke-linecap:butt; stroke-linejoin:round; stroke-width:4; stroke-opacity:1; fill:none\" points=\"\n  3563.89,1319.34 3563.89,1384.24 3666.9,1384.24 3666.9,1319.34 3563.89,1319.34 \n  \"/>\n<path clip-path=\"url(#clip532)\" d=\"\nM3666.9 1351.79 L3666.9 1384.24 L3769.9 1384.24 L3769.9 1351.79 L3666.9 1351.79 L3666.9 1351.79  Z\n  \" fill=\"#009af9\" fill-rule=\"evenodd\" fill-opacity=\"1\"/>\n<polyline clip-path=\"url(#clip532)\" style=\"stroke:#000000; stroke-linecap:butt; stroke-linejoin:round; stroke-width:4; stroke-opacity:1; fill:none\" points=\"\n  3666.9,1351.79 3666.9,1384.24 3769.9,1384.24 3769.9,1351.79 3666.9,1351.79 \n  \"/>\n<path clip-path=\"url(#clip532)\" d=\"\nM3769.9 1351.79 L3769.9 1384.24 L3872.91 1384.24 L3872.91 1351.79 L3769.9 1351.79 L3769.9 1351.79  Z\n  \" fill=\"#009af9\" fill-rule=\"evenodd\" fill-opacity=\"1\"/>\n<polyline clip-path=\"url(#clip532)\" style=\"stroke:#000000; stroke-linecap:butt; stroke-linejoin:round; stroke-width:4; stroke-opacity:1; fill:none\" points=\"\n  3769.9,1351.79 3769.9,1384.24 3872.91,1384.24 3872.91,1351.79 3769.9,1351.79 \n  \"/>\n<path clip-path=\"url(#clip532)\" d=\"\nM3872.91 1351.79 L3872.91 1384.24 L3975.91 1384.24 L3975.91 1351.79 L3872.91 1351.79 L3872.91 1351.79  Z\n  \" fill=\"#009af9\" fill-rule=\"evenodd\" fill-opacity=\"1\"/>\n<polyline clip-path=\"url(#clip532)\" style=\"stroke:#000000; stroke-linecap:butt; stroke-linejoin:round; stroke-width:4; stroke-opacity:1; fill:none\" points=\"\n  3872.91,1351.79 3872.91,1384.24 3975.91,1384.24 3975.91,1351.79 3872.91,1351.79 \n  \"/>\n<path clip-path=\"url(#clip532)\" d=\"\nM3975.91 1384.24 L3975.91 1384.24 L4078.92 1384.24 L4078.92 1384.24 L3975.91 1384.24 L3975.91 1384.24  Z\n  \" fill=\"#009af9\" fill-rule=\"evenodd\" fill-opacity=\"1\"/>\n<polyline clip-path=\"url(#clip532)\" style=\"stroke:#000000; stroke-linecap:butt; stroke-linejoin:round; stroke-width:4; stroke-opacity:1; fill:none\" points=\"\n  3975.91,1384.24 3975.91,1384.24 4078.92,1384.24 3975.91,1384.24 \n  \"/>\n<path clip-path=\"url(#clip532)\" d=\"\nM4078.92 1351.79 L4078.92 1384.24 L4181.92 1384.24 L4181.92 1351.79 L4078.92 1351.79 L4078.92 1351.79  Z\n  \" fill=\"#009af9\" fill-rule=\"evenodd\" fill-opacity=\"1\"/>\n<polyline clip-path=\"url(#clip532)\" style=\"stroke:#000000; stroke-linecap:butt; stroke-linejoin:round; stroke-width:4; stroke-opacity:1; fill:none\" points=\"\n  4078.92,1351.79 4078.92,1384.24 4181.92,1384.24 4181.92,1351.79 4078.92,1351.79 \n  \"/>\n<path clip-path=\"url(#clip532)\" d=\"\nM4181.92 1384.24 L4181.92 1384.24 L4284.92 1384.24 L4284.92 1384.24 L4181.92 1384.24 L4181.92 1384.24  Z\n  \" fill=\"#009af9\" fill-rule=\"evenodd\" fill-opacity=\"1\"/>\n<polyline clip-path=\"url(#clip532)\" style=\"stroke:#000000; stroke-linecap:butt; stroke-linejoin:round; stroke-width:4; stroke-opacity:1; fill:none\" points=\"\n  4181.92,1384.24 4181.92,1384.24 4284.92,1384.24 4181.92,1384.24 \n  \"/>\n<path clip-path=\"url(#clip532)\" d=\"\nM4284.92 1384.24 L4284.92 1384.24 L4387.93 1384.24 L4387.93 1384.24 L4284.92 1384.24 L4284.92 1384.24  Z\n  \" fill=\"#009af9\" fill-rule=\"evenodd\" fill-opacity=\"1\"/>\n<polyline clip-path=\"url(#clip532)\" style=\"stroke:#000000; stroke-linecap:butt; stroke-linejoin:round; stroke-width:4; stroke-opacity:1; fill:none\" points=\"\n  4284.92,1384.24 4284.92,1384.24 4387.93,1384.24 4284.92,1384.24 \n  \"/>\n<path clip-path=\"url(#clip532)\" d=\"\nM4387.93 1384.24 L4387.93 1384.24 L4490.93 1384.24 L4490.93 1384.24 L4387.93 1384.24 L4387.93 1384.24  Z\n  \" fill=\"#009af9\" fill-rule=\"evenodd\" fill-opacity=\"1\"/>\n<polyline clip-path=\"url(#clip532)\" style=\"stroke:#000000; stroke-linecap:butt; stroke-linejoin:round; stroke-width:4; stroke-opacity:1; fill:none\" points=\"\n  4387.93,1384.24 4387.93,1384.24 4490.93,1384.24 4387.93,1384.24 \n  \"/>\n<path clip-path=\"url(#clip532)\" d=\"\nM4490.93 1384.24 L4490.93 1384.24 L4593.94 1384.24 L4593.94 1384.24 L4490.93 1384.24 L4490.93 1384.24  Z\n  \" fill=\"#009af9\" fill-rule=\"evenodd\" fill-opacity=\"1\"/>\n<polyline clip-path=\"url(#clip532)\" style=\"stroke:#000000; stroke-linecap:butt; stroke-linejoin:round; stroke-width:4; stroke-opacity:1; fill:none\" points=\"\n  4490.93,1384.24 4490.93,1384.24 4593.94,1384.24 4490.93,1384.24 \n  \"/>\n<path clip-path=\"url(#clip532)\" d=\"\nM4593.94 1351.79 L4593.94 1384.24 L4696.94 1384.24 L4696.94 1351.79 L4593.94 1351.79 L4593.94 1351.79  Z\n  \" fill=\"#009af9\" fill-rule=\"evenodd\" fill-opacity=\"1\"/>\n<polyline clip-path=\"url(#clip532)\" style=\"stroke:#000000; stroke-linecap:butt; stroke-linejoin:round; stroke-width:4; stroke-opacity:1; fill:none\" points=\"\n  4593.94,1351.79 4593.94,1384.24 4696.94,1384.24 4696.94,1351.79 4593.94,1351.79 \n  \"/>\n<path clip-path=\"url(#clip532)\" d=\"\nM4696.94 1384.24 L4696.94 1384.24 L4799.95 1384.24 L4799.95 1384.24 L4696.94 1384.24 L4696.94 1384.24  Z\n  \" fill=\"#009af9\" fill-rule=\"evenodd\" fill-opacity=\"1\"/>\n<polyline clip-path=\"url(#clip532)\" style=\"stroke:#000000; stroke-linecap:butt; stroke-linejoin:round; stroke-width:4; stroke-opacity:1; fill:none\" points=\"\n  4696.94,1384.24 4696.94,1384.24 4799.95,1384.24 4696.94,1384.24 \n  \"/>\n<path clip-path=\"url(#clip532)\" d=\"\nM4799.95 1384.24 L4799.95 1384.24 L4902.95 1384.24 L4902.95 1384.24 L4799.95 1384.24 L4799.95 1384.24  Z\n  \" fill=\"#009af9\" fill-rule=\"evenodd\" fill-opacity=\"1\"/>\n<polyline clip-path=\"url(#clip532)\" style=\"stroke:#000000; stroke-linecap:butt; stroke-linejoin:round; stroke-width:4; stroke-opacity:1; fill:none\" points=\"\n  4799.95,1384.24 4799.95,1384.24 4902.95,1384.24 4799.95,1384.24 \n  \"/>\n<path clip-path=\"url(#clip532)\" d=\"\nM4902.95 1384.24 L4902.95 1384.24 L5005.96 1384.24 L5005.96 1384.24 L4902.95 1384.24 L4902.95 1384.24  Z\n  \" fill=\"#009af9\" fill-rule=\"evenodd\" fill-opacity=\"1\"/>\n<polyline clip-path=\"url(#clip532)\" style=\"stroke:#000000; stroke-linecap:butt; stroke-linejoin:round; stroke-width:4; stroke-opacity:1; fill:none\" points=\"\n  4902.95,1384.24 4902.95,1384.24 5005.96,1384.24 4902.95,1384.24 \n  \"/>\n<path clip-path=\"url(#clip532)\" d=\"\nM5005.96 1384.24 L5005.96 1384.24 L5108.96 1384.24 L5108.96 1384.24 L5005.96 1384.24 L5005.96 1384.24  Z\n  \" fill=\"#009af9\" fill-rule=\"evenodd\" fill-opacity=\"1\"/>\n<polyline clip-path=\"url(#clip532)\" style=\"stroke:#000000; stroke-linecap:butt; stroke-linejoin:round; stroke-width:4; stroke-opacity:1; fill:none\" points=\"\n  5005.96,1384.24 5005.96,1384.24 5108.96,1384.24 5005.96,1384.24 \n  \"/>\n<path clip-path=\"url(#clip532)\" d=\"\nM5108.96 1384.24 L5108.96 1384.24 L5211.97 1384.24 L5211.97 1384.24 L5108.96 1384.24 L5108.96 1384.24  Z\n  \" fill=\"#009af9\" fill-rule=\"evenodd\" fill-opacity=\"1\"/>\n<polyline clip-path=\"url(#clip532)\" style=\"stroke:#000000; stroke-linecap:butt; stroke-linejoin:round; stroke-width:4; stroke-opacity:1; fill:none\" points=\"\n  5108.96,1384.24 5108.96,1384.24 5211.97,1384.24 5108.96,1384.24 \n  \"/>\n<path clip-path=\"url(#clip532)\" d=\"\nM5211.97 1384.24 L5211.97 1384.24 L5314.97 1384.24 L5314.97 1384.24 L5211.97 1384.24 L5211.97 1384.24  Z\n  \" fill=\"#009af9\" fill-rule=\"evenodd\" fill-opacity=\"1\"/>\n<polyline clip-path=\"url(#clip532)\" style=\"stroke:#000000; stroke-linecap:butt; stroke-linejoin:round; stroke-width:4; stroke-opacity:1; fill:none\" points=\"\n  5211.97,1384.24 5211.97,1384.24 5314.97,1384.24 5211.97,1384.24 \n  \"/>\n<path clip-path=\"url(#clip532)\" d=\"\nM5314.97 1384.24 L5314.97 1384.24 L5417.97 1384.24 L5417.97 1384.24 L5314.97 1384.24 L5314.97 1384.24  Z\n  \" fill=\"#009af9\" fill-rule=\"evenodd\" fill-opacity=\"1\"/>\n<polyline clip-path=\"url(#clip532)\" style=\"stroke:#000000; stroke-linecap:butt; stroke-linejoin:round; stroke-width:4; stroke-opacity:1; fill:none\" points=\"\n  5314.97,1384.24 5314.97,1384.24 5417.97,1384.24 5314.97,1384.24 \n  \"/>\n<path clip-path=\"url(#clip532)\" d=\"\nM5417.97 1384.24 L5417.97 1384.24 L5520.98 1384.24 L5520.98 1384.24 L5417.97 1384.24 L5417.97 1384.24  Z\n  \" fill=\"#009af9\" fill-rule=\"evenodd\" fill-opacity=\"1\"/>\n<polyline clip-path=\"url(#clip532)\" style=\"stroke:#000000; stroke-linecap:butt; stroke-linejoin:round; stroke-width:4; stroke-opacity:1; fill:none\" points=\"\n  5417.97,1384.24 5417.97,1384.24 5520.98,1384.24 5417.97,1384.24 \n  \"/>\n<path clip-path=\"url(#clip532)\" d=\"\nM5520.98 1384.24 L5520.98 1384.24 L5623.98 1384.24 L5623.98 1384.24 L5520.98 1384.24 L5520.98 1384.24  Z\n  \" fill=\"#009af9\" fill-rule=\"evenodd\" fill-opacity=\"1\"/>\n<polyline clip-path=\"url(#clip532)\" style=\"stroke:#000000; stroke-linecap:butt; stroke-linejoin:round; stroke-width:4; stroke-opacity:1; fill:none\" points=\"\n  5520.98,1384.24 5520.98,1384.24 5623.98,1384.24 5520.98,1384.24 \n  \"/>\n<path clip-path=\"url(#clip532)\" d=\"\nM5623.98 1384.24 L5623.98 1384.24 L5726.99 1384.24 L5726.99 1384.24 L5623.98 1384.24 L5623.98 1384.24  Z\n  \" fill=\"#009af9\" fill-rule=\"evenodd\" fill-opacity=\"1\"/>\n<polyline clip-path=\"url(#clip532)\" style=\"stroke:#000000; stroke-linecap:butt; stroke-linejoin:round; stroke-width:4; stroke-opacity:1; fill:none\" points=\"\n  5623.98,1384.24 5623.98,1384.24 5726.99,1384.24 5623.98,1384.24 \n  \"/>\n<path clip-path=\"url(#clip532)\" d=\"\nM5726.99 1351.79 L5726.99 1384.24 L5829.99 1384.24 L5829.99 1351.79 L5726.99 1351.79 L5726.99 1351.79  Z\n  \" fill=\"#009af9\" fill-rule=\"evenodd\" fill-opacity=\"1\"/>\n<polyline clip-path=\"url(#clip532)\" style=\"stroke:#000000; stroke-linecap:butt; stroke-linejoin:round; stroke-width:4; stroke-opacity:1; fill:none\" points=\"\n  5726.99,1351.79 5726.99,1384.24 5829.99,1384.24 5829.99,1351.79 5726.99,1351.79 \n  \"/>\n<path clip-path=\"url(#clip532)\" d=\"\nM5829.99 1384.24 L5829.99 1384.24 L5933 1384.24 L5933 1384.24 L5829.99 1384.24 L5829.99 1384.24  Z\n  \" fill=\"#009af9\" fill-rule=\"evenodd\" fill-opacity=\"1\"/>\n<polyline clip-path=\"url(#clip532)\" style=\"stroke:#000000; stroke-linecap:butt; stroke-linejoin:round; stroke-width:4; stroke-opacity:1; fill:none\" points=\"\n  5829.99,1384.24 5829.99,1384.24 5933,1384.24 5829.99,1384.24 \n  \"/>\n<path clip-path=\"url(#clip532)\" d=\"\nM5933 1384.24 L5933 1384.24 L6036 1384.24 L6036 1384.24 L5933 1384.24 L5933 1384.24  Z\n  \" fill=\"#009af9\" fill-rule=\"evenodd\" fill-opacity=\"1\"/>\n<polyline clip-path=\"url(#clip532)\" style=\"stroke:#000000; stroke-linecap:butt; stroke-linejoin:round; stroke-width:4; stroke-opacity:1; fill:none\" points=\"\n  5933,1384.24 5933,1384.24 6036,1384.24 5933,1384.24 \n  \"/>\n<path clip-path=\"url(#clip532)\" d=\"\nM6036 1384.24 L6036 1384.24 L6139.01 1384.24 L6139.01 1384.24 L6036 1384.24 L6036 1384.24  Z\n  \" fill=\"#009af9\" fill-rule=\"evenodd\" fill-opacity=\"1\"/>\n<polyline clip-path=\"url(#clip532)\" style=\"stroke:#000000; stroke-linecap:butt; stroke-linejoin:round; stroke-width:4; stroke-opacity:1; fill:none\" points=\"\n  6036,1384.24 6036,1384.24 6139.01,1384.24 6036,1384.24 \n  \"/>\n<path clip-path=\"url(#clip532)\" d=\"\nM6139.01 1384.24 L6139.01 1384.24 L6242.01 1384.24 L6242.01 1384.24 L6139.01 1384.24 L6139.01 1384.24  Z\n  \" fill=\"#009af9\" fill-rule=\"evenodd\" fill-opacity=\"1\"/>\n<polyline clip-path=\"url(#clip532)\" style=\"stroke:#000000; stroke-linecap:butt; stroke-linejoin:round; stroke-width:4; stroke-opacity:1; fill:none\" points=\"\n  6139.01,1384.24 6139.01,1384.24 6242.01,1384.24 6139.01,1384.24 \n  \"/>\n<path clip-path=\"url(#clip532)\" d=\"\nM6242.01 1384.24 L6242.01 1384.24 L6345.02 1384.24 L6345.02 1384.24 L6242.01 1384.24 L6242.01 1384.24  Z\n  \" fill=\"#009af9\" fill-rule=\"evenodd\" fill-opacity=\"1\"/>\n<polyline clip-path=\"url(#clip532)\" style=\"stroke:#000000; stroke-linecap:butt; stroke-linejoin:round; stroke-width:4; stroke-opacity:1; fill:none\" points=\"\n  6242.01,1384.24 6242.01,1384.24 6345.02,1384.24 6242.01,1384.24 \n  \"/>\n<path clip-path=\"url(#clip532)\" d=\"\nM6345.02 1384.24 L6345.02 1384.24 L6448.02 1384.24 L6448.02 1384.24 L6345.02 1384.24 L6345.02 1384.24  Z\n  \" fill=\"#009af9\" fill-rule=\"evenodd\" fill-opacity=\"1\"/>\n<polyline clip-path=\"url(#clip532)\" style=\"stroke:#000000; stroke-linecap:butt; stroke-linejoin:round; stroke-width:4; stroke-opacity:1; fill:none\" points=\"\n  6345.02,1384.24 6345.02,1384.24 6448.02,1384.24 6345.02,1384.24 \n  \"/>\n<path clip-path=\"url(#clip532)\" d=\"\nM6448.02 1384.24 L6448.02 1384.24 L6551.02 1384.24 L6551.02 1384.24 L6448.02 1384.24 L6448.02 1384.24  Z\n  \" fill=\"#009af9\" fill-rule=\"evenodd\" fill-opacity=\"1\"/>\n<polyline clip-path=\"url(#clip532)\" style=\"stroke:#000000; stroke-linecap:butt; stroke-linejoin:round; stroke-width:4; stroke-opacity:1; fill:none\" points=\"\n  6448.02,1384.24 6448.02,1384.24 6551.02,1384.24 6448.02,1384.24 \n  \"/>\n<path clip-path=\"url(#clip532)\" d=\"\nM6551.02 1384.24 L6551.02 1384.24 L6654.03 1384.24 L6654.03 1384.24 L6551.02 1384.24 L6551.02 1384.24  Z\n  \" fill=\"#009af9\" fill-rule=\"evenodd\" fill-opacity=\"1\"/>\n<polyline clip-path=\"url(#clip532)\" style=\"stroke:#000000; stroke-linecap:butt; stroke-linejoin:round; stroke-width:4; stroke-opacity:1; fill:none\" points=\"\n  6551.02,1384.24 6551.02,1384.24 6654.03,1384.24 6551.02,1384.24 \n  \"/>\n<path clip-path=\"url(#clip532)\" d=\"\nM6654.03 1384.24 L6654.03 1384.24 L6757.03 1384.24 L6757.03 1384.24 L6654.03 1384.24 L6654.03 1384.24  Z\n  \" fill=\"#009af9\" fill-rule=\"evenodd\" fill-opacity=\"1\"/>\n<polyline clip-path=\"url(#clip532)\" style=\"stroke:#000000; stroke-linecap:butt; stroke-linejoin:round; stroke-width:4; stroke-opacity:1; fill:none\" points=\"\n  6654.03,1384.24 6654.03,1384.24 6757.03,1384.24 6654.03,1384.24 \n  \"/>\n<path clip-path=\"url(#clip532)\" d=\"\nM6757.03 1384.24 L6757.03 1384.24 L6860.04 1384.24 L6860.04 1384.24 L6757.03 1384.24 L6757.03 1384.24  Z\n  \" fill=\"#009af9\" fill-rule=\"evenodd\" fill-opacity=\"1\"/>\n<polyline clip-path=\"url(#clip532)\" style=\"stroke:#000000; stroke-linecap:butt; stroke-linejoin:round; stroke-width:4; stroke-opacity:1; fill:none\" points=\"\n  6757.03,1384.24 6757.03,1384.24 6860.04,1384.24 6757.03,1384.24 \n  \"/>\n<path clip-path=\"url(#clip532)\" d=\"\nM6860.04 1351.79 L6860.04 1384.24 L6963.04 1384.24 L6963.04 1351.79 L6860.04 1351.79 L6860.04 1351.79  Z\n  \" fill=\"#009af9\" fill-rule=\"evenodd\" fill-opacity=\"1\"/>\n<polyline clip-path=\"url(#clip532)\" style=\"stroke:#000000; stroke-linecap:butt; stroke-linejoin:round; stroke-width:4; stroke-opacity:1; fill:none\" points=\"\n  6860.04,1351.79 6860.04,1384.24 6963.04,1384.24 6963.04,1351.79 6860.04,1351.79 \n  \"/>\n<path clip-path=\"url(#clip532)\" d=\"\nM6963.04 1384.24 L6963.04 1384.24 L7066.05 1384.24 L7066.05 1384.24 L6963.04 1384.24 L6963.04 1384.24  Z\n  \" fill=\"#009af9\" fill-rule=\"evenodd\" fill-opacity=\"1\"/>\n<polyline clip-path=\"url(#clip532)\" style=\"stroke:#000000; stroke-linecap:butt; stroke-linejoin:round; stroke-width:4; stroke-opacity:1; fill:none\" points=\"\n  6963.04,1384.24 6963.04,1384.24 7066.05,1384.24 6963.04,1384.24 \n  \"/>\n<path clip-path=\"url(#clip532)\" d=\"\nM7066.05 1384.24 L7066.05 1384.24 L7169.05 1384.24 L7169.05 1384.24 L7066.05 1384.24 L7066.05 1384.24  Z\n  \" fill=\"#009af9\" fill-rule=\"evenodd\" fill-opacity=\"1\"/>\n<polyline clip-path=\"url(#clip532)\" style=\"stroke:#000000; stroke-linecap:butt; stroke-linejoin:round; stroke-width:4; stroke-opacity:1; fill:none\" points=\"\n  7066.05,1384.24 7066.05,1384.24 7169.05,1384.24 7066.05,1384.24 \n  \"/>\n<path clip-path=\"url(#clip532)\" d=\"\nM7169.05 1384.24 L7169.05 1384.24 L7272.06 1384.24 L7272.06 1384.24 L7169.05 1384.24 L7169.05 1384.24  Z\n  \" fill=\"#009af9\" fill-rule=\"evenodd\" fill-opacity=\"1\"/>\n<polyline clip-path=\"url(#clip532)\" style=\"stroke:#000000; stroke-linecap:butt; stroke-linejoin:round; stroke-width:4; stroke-opacity:1; fill:none\" points=\"\n  7169.05,1384.24 7169.05,1384.24 7272.06,1384.24 7169.05,1384.24 \n  \"/>\n<path clip-path=\"url(#clip532)\" d=\"\nM7272.06 1384.24 L7272.06 1384.24 L7375.06 1384.24 L7375.06 1384.24 L7272.06 1384.24 L7272.06 1384.24  Z\n  \" fill=\"#009af9\" fill-rule=\"evenodd\" fill-opacity=\"1\"/>\n<polyline clip-path=\"url(#clip532)\" style=\"stroke:#000000; stroke-linecap:butt; stroke-linejoin:round; stroke-width:4; stroke-opacity:1; fill:none\" points=\"\n  7272.06,1384.24 7272.06,1384.24 7375.06,1384.24 7272.06,1384.24 \n  \"/>\n<path clip-path=\"url(#clip532)\" d=\"\nM7375.06 1384.24 L7375.06 1384.24 L7478.07 1384.24 L7478.07 1384.24 L7375.06 1384.24 L7375.06 1384.24  Z\n  \" fill=\"#009af9\" fill-rule=\"evenodd\" fill-opacity=\"1\"/>\n<polyline clip-path=\"url(#clip532)\" style=\"stroke:#000000; stroke-linecap:butt; stroke-linejoin:round; stroke-width:4; stroke-opacity:1; fill:none\" points=\"\n  7375.06,1384.24 7375.06,1384.24 7478.07,1384.24 7375.06,1384.24 \n  \"/>\n<path clip-path=\"url(#clip532)\" d=\"\nM7478.07 1384.24 L7478.07 1384.24 L7581.07 1384.24 L7581.07 1384.24 L7478.07 1384.24 L7478.07 1384.24  Z\n  \" fill=\"#009af9\" fill-rule=\"evenodd\" fill-opacity=\"1\"/>\n<polyline clip-path=\"url(#clip532)\" style=\"stroke:#000000; stroke-linecap:butt; stroke-linejoin:round; stroke-width:4; stroke-opacity:1; fill:none\" points=\"\n  7478.07,1384.24 7478.07,1384.24 7581.07,1384.24 7478.07,1384.24 \n  \"/>\n<path clip-path=\"url(#clip532)\" d=\"\nM7581.07 1384.24 L7581.07 1384.24 L7684.07 1384.24 L7684.07 1384.24 L7581.07 1384.24 L7581.07 1384.24  Z\n  \" fill=\"#009af9\" fill-rule=\"evenodd\" fill-opacity=\"1\"/>\n<polyline clip-path=\"url(#clip532)\" style=\"stroke:#000000; stroke-linecap:butt; stroke-linejoin:round; stroke-width:4; stroke-opacity:1; fill:none\" points=\"\n  7581.07,1384.24 7581.07,1384.24 7684.07,1384.24 7581.07,1384.24 \n  \"/>\n<path clip-path=\"url(#clip532)\" d=\"\nM7684.07 1384.24 L7684.07 1384.24 L7787.08 1384.24 L7787.08 1384.24 L7684.07 1384.24 L7684.07 1384.24  Z\n  \" fill=\"#009af9\" fill-rule=\"evenodd\" fill-opacity=\"1\"/>\n<polyline clip-path=\"url(#clip532)\" style=\"stroke:#000000; stroke-linecap:butt; stroke-linejoin:round; stroke-width:4; stroke-opacity:1; fill:none\" points=\"\n  7684.07,1384.24 7684.07,1384.24 7787.08,1384.24 7684.07,1384.24 \n  \"/>\n<path clip-path=\"url(#clip532)\" d=\"\nM7787.08 1384.24 L7787.08 1384.24 L7890.08 1384.24 L7890.08 1384.24 L7787.08 1384.24 L7787.08 1384.24  Z\n  \" fill=\"#009af9\" fill-rule=\"evenodd\" fill-opacity=\"1\"/>\n<polyline clip-path=\"url(#clip532)\" style=\"stroke:#000000; stroke-linecap:butt; stroke-linejoin:round; stroke-width:4; stroke-opacity:1; fill:none\" points=\"\n  7787.08,1384.24 7787.08,1384.24 7890.08,1384.24 7787.08,1384.24 \n  \"/>\n<path clip-path=\"url(#clip532)\" d=\"\nM7890.08 1384.24 L7890.08 1384.24 L7993.09 1384.24 L7993.09 1384.24 L7890.08 1384.24 L7890.08 1384.24  Z\n  \" fill=\"#009af9\" fill-rule=\"evenodd\" fill-opacity=\"1\"/>\n<polyline clip-path=\"url(#clip532)\" style=\"stroke:#000000; stroke-linecap:butt; stroke-linejoin:round; stroke-width:4; stroke-opacity:1; fill:none\" points=\"\n  7890.08,1384.24 7890.08,1384.24 7993.09,1384.24 7890.08,1384.24 \n  \"/>\n<path clip-path=\"url(#clip532)\" d=\"\nM7993.09 1384.24 L7993.09 1384.24 L8096.09 1384.24 L8096.09 1384.24 L7993.09 1384.24 L7993.09 1384.24  Z\n  \" fill=\"#009af9\" fill-rule=\"evenodd\" fill-opacity=\"1\"/>\n<polyline clip-path=\"url(#clip532)\" style=\"stroke:#000000; stroke-linecap:butt; stroke-linejoin:round; stroke-width:4; stroke-opacity:1; fill:none\" points=\"\n  7993.09,1384.24 7993.09,1384.24 8096.09,1384.24 7993.09,1384.24 \n  \"/>\n<path clip-path=\"url(#clip532)\" d=\"\nM8096.09 1384.24 L8096.09 1384.24 L8199.1 1384.24 L8199.1 1384.24 L8096.09 1384.24 L8096.09 1384.24  Z\n  \" fill=\"#009af9\" fill-rule=\"evenodd\" fill-opacity=\"1\"/>\n<polyline clip-path=\"url(#clip532)\" style=\"stroke:#000000; stroke-linecap:butt; stroke-linejoin:round; stroke-width:4; stroke-opacity:1; fill:none\" points=\"\n  8096.09,1384.24 8096.09,1384.24 8199.1,1384.24 8096.09,1384.24 \n  \"/>\n<path clip-path=\"url(#clip532)\" d=\"\nM8199.1 1384.24 L8199.1 1384.24 L8302.1 1384.24 L8302.1 1384.24 L8199.1 1384.24 L8199.1 1384.24  Z\n  \" fill=\"#009af9\" fill-rule=\"evenodd\" fill-opacity=\"1\"/>\n<polyline clip-path=\"url(#clip532)\" style=\"stroke:#000000; stroke-linecap:butt; stroke-linejoin:round; stroke-width:4; stroke-opacity:1; fill:none\" points=\"\n  8199.1,1384.24 8199.1,1384.24 8302.1,1384.24 8199.1,1384.24 \n  \"/>\n<path clip-path=\"url(#clip532)\" d=\"\nM8302.1 1384.24 L8302.1 1384.24 L8405.11 1384.24 L8405.11 1384.24 L8302.1 1384.24 L8302.1 1384.24  Z\n  \" fill=\"#009af9\" fill-rule=\"evenodd\" fill-opacity=\"1\"/>\n<polyline clip-path=\"url(#clip532)\" style=\"stroke:#000000; stroke-linecap:butt; stroke-linejoin:round; stroke-width:4; stroke-opacity:1; fill:none\" points=\"\n  8302.1,1384.24 8302.1,1384.24 8405.11,1384.24 8302.1,1384.24 \n  \"/>\n<path clip-path=\"url(#clip532)\" d=\"\nM8405.11 1384.24 L8405.11 1384.24 L8508.11 1384.24 L8508.11 1384.24 L8405.11 1384.24 L8405.11 1384.24  Z\n  \" fill=\"#009af9\" fill-rule=\"evenodd\" fill-opacity=\"1\"/>\n<polyline clip-path=\"url(#clip532)\" style=\"stroke:#000000; stroke-linecap:butt; stroke-linejoin:round; stroke-width:4; stroke-opacity:1; fill:none\" points=\"\n  8405.11,1384.24 8405.11,1384.24 8508.11,1384.24 8405.11,1384.24 \n  \"/>\n<path clip-path=\"url(#clip532)\" d=\"\nM8508.11 1384.24 L8508.11 1384.24 L8611.12 1384.24 L8611.12 1384.24 L8508.11 1384.24 L8508.11 1384.24  Z\n  \" fill=\"#009af9\" fill-rule=\"evenodd\" fill-opacity=\"1\"/>\n<polyline clip-path=\"url(#clip532)\" style=\"stroke:#000000; stroke-linecap:butt; stroke-linejoin:round; stroke-width:4; stroke-opacity:1; fill:none\" points=\"\n  8508.11,1384.24 8508.11,1384.24 8611.12,1384.24 8508.11,1384.24 \n  \"/>\n<path clip-path=\"url(#clip532)\" d=\"\nM8611.12 1384.24 L8611.12 1384.24 L8714.12 1384.24 L8714.12 1384.24 L8611.12 1384.24 L8611.12 1384.24  Z\n  \" fill=\"#009af9\" fill-rule=\"evenodd\" fill-opacity=\"1\"/>\n<polyline clip-path=\"url(#clip532)\" style=\"stroke:#000000; stroke-linecap:butt; stroke-linejoin:round; stroke-width:4; stroke-opacity:1; fill:none\" points=\"\n  8611.12,1384.24 8611.12,1384.24 8714.12,1384.24 8611.12,1384.24 \n  \"/>\n<path clip-path=\"url(#clip532)\" d=\"\nM8714.12 1384.24 L8714.12 1384.24 L8817.12 1384.24 L8817.12 1384.24 L8714.12 1384.24 L8714.12 1384.24  Z\n  \" fill=\"#009af9\" fill-rule=\"evenodd\" fill-opacity=\"1\"/>\n<polyline clip-path=\"url(#clip532)\" style=\"stroke:#000000; stroke-linecap:butt; stroke-linejoin:round; stroke-width:4; stroke-opacity:1; fill:none\" points=\"\n  8714.12,1384.24 8714.12,1384.24 8817.12,1384.24 8714.12,1384.24 \n  \"/>\n<path clip-path=\"url(#clip532)\" d=\"\nM8817.12 1384.24 L8817.12 1384.24 L8920.13 1384.24 L8920.13 1384.24 L8817.12 1384.24 L8817.12 1384.24  Z\n  \" fill=\"#009af9\" fill-rule=\"evenodd\" fill-opacity=\"1\"/>\n<polyline clip-path=\"url(#clip532)\" style=\"stroke:#000000; stroke-linecap:butt; stroke-linejoin:round; stroke-width:4; stroke-opacity:1; fill:none\" points=\"\n  8817.12,1384.24 8817.12,1384.24 8920.13,1384.24 8817.12,1384.24 \n  \"/>\n<path clip-path=\"url(#clip532)\" d=\"\nM8920.13 1384.24 L8920.13 1384.24 L9023.13 1384.24 L9023.13 1384.24 L8920.13 1384.24 L8920.13 1384.24  Z\n  \" fill=\"#009af9\" fill-rule=\"evenodd\" fill-opacity=\"1\"/>\n<polyline clip-path=\"url(#clip532)\" style=\"stroke:#000000; stroke-linecap:butt; stroke-linejoin:round; stroke-width:4; stroke-opacity:1; fill:none\" points=\"\n  8920.13,1384.24 8920.13,1384.24 9023.13,1384.24 8920.13,1384.24 \n  \"/>\n<path clip-path=\"url(#clip532)\" d=\"\nM9023.13 1384.24 L9023.13 1384.24 L9126.14 1384.24 L9126.14 1384.24 L9023.13 1384.24 L9023.13 1384.24  Z\n  \" fill=\"#009af9\" fill-rule=\"evenodd\" fill-opacity=\"1\"/>\n<polyline clip-path=\"url(#clip532)\" style=\"stroke:#000000; stroke-linecap:butt; stroke-linejoin:round; stroke-width:4; stroke-opacity:1; fill:none\" points=\"\n  9023.13,1384.24 9023.13,1384.24 9126.14,1384.24 9023.13,1384.24 \n  \"/>\n<path clip-path=\"url(#clip532)\" d=\"\nM9126.14 1384.24 L9126.14 1384.24 L9229.14 1384.24 L9229.14 1384.24 L9126.14 1384.24 L9126.14 1384.24  Z\n  \" fill=\"#009af9\" fill-rule=\"evenodd\" fill-opacity=\"1\"/>\n<polyline clip-path=\"url(#clip532)\" style=\"stroke:#000000; stroke-linecap:butt; stroke-linejoin:round; stroke-width:4; stroke-opacity:1; fill:none\" points=\"\n  9126.14,1384.24 9126.14,1384.24 9229.14,1384.24 9126.14,1384.24 \n  \"/>\n<path clip-path=\"url(#clip532)\" d=\"\nM9229.14 1351.79 L9229.14 1384.24 L9332.15 1384.24 L9332.15 1351.79 L9229.14 1351.79 L9229.14 1351.79  Z\n  \" fill=\"#009af9\" fill-rule=\"evenodd\" fill-opacity=\"1\"/>\n<polyline clip-path=\"url(#clip532)\" style=\"stroke:#000000; stroke-linecap:butt; stroke-linejoin:round; stroke-width:4; stroke-opacity:1; fill:none\" points=\"\n  9229.14,1351.79 9229.14,1384.24 9332.15,1384.24 9332.15,1351.79 9229.14,1351.79 \n  \"/>\n<path clip-path=\"url(#clip532)\" d=\"\nM9332.15 1384.24 L9332.15 1384.24 L9435.15 1384.24 L9435.15 1384.24 L9332.15 1384.24 L9332.15 1384.24  Z\n  \" fill=\"#009af9\" fill-rule=\"evenodd\" fill-opacity=\"1\"/>\n<polyline clip-path=\"url(#clip532)\" style=\"stroke:#000000; stroke-linecap:butt; stroke-linejoin:round; stroke-width:4; stroke-opacity:1; fill:none\" points=\"\n  9332.15,1384.24 9332.15,1384.24 9435.15,1384.24 9332.15,1384.24 \n  \"/>\n<path clip-path=\"url(#clip532)\" d=\"\nM9435.15 1384.24 L9435.15 1384.24 L9538.16 1384.24 L9538.16 1384.24 L9435.15 1384.24 L9435.15 1384.24  Z\n  \" fill=\"#009af9\" fill-rule=\"evenodd\" fill-opacity=\"1\"/>\n<polyline clip-path=\"url(#clip532)\" style=\"stroke:#000000; stroke-linecap:butt; stroke-linejoin:round; stroke-width:4; stroke-opacity:1; fill:none\" points=\"\n  9435.15,1384.24 9435.15,1384.24 9538.16,1384.24 9435.15,1384.24 \n  \"/>\n<path clip-path=\"url(#clip532)\" d=\"\nM9538.16 1384.24 L9538.16 1384.24 L9641.16 1384.24 L9641.16 1384.24 L9538.16 1384.24 L9538.16 1384.24  Z\n  \" fill=\"#009af9\" fill-rule=\"evenodd\" fill-opacity=\"1\"/>\n<polyline clip-path=\"url(#clip532)\" style=\"stroke:#000000; stroke-linecap:butt; stroke-linejoin:round; stroke-width:4; stroke-opacity:1; fill:none\" points=\"\n  9538.16,1384.24 9538.16,1384.24 9641.16,1384.24 9538.16,1384.24 \n  \"/>\n<path clip-path=\"url(#clip532)\" d=\"\nM9641.16 1384.24 L9641.16 1384.24 L9744.17 1384.24 L9744.17 1384.24 L9641.16 1384.24 L9641.16 1384.24  Z\n  \" fill=\"#009af9\" fill-rule=\"evenodd\" fill-opacity=\"1\"/>\n<polyline clip-path=\"url(#clip532)\" style=\"stroke:#000000; stroke-linecap:butt; stroke-linejoin:round; stroke-width:4; stroke-opacity:1; fill:none\" points=\"\n  9641.16,1384.24 9641.16,1384.24 9744.17,1384.24 9641.16,1384.24 \n  \"/>\n<path clip-path=\"url(#clip532)\" d=\"\nM9744.17 1384.24 L9744.17 1384.24 L9847.17 1384.24 L9847.17 1384.24 L9744.17 1384.24 L9744.17 1384.24  Z\n  \" fill=\"#009af9\" fill-rule=\"evenodd\" fill-opacity=\"1\"/>\n<polyline clip-path=\"url(#clip532)\" style=\"stroke:#000000; stroke-linecap:butt; stroke-linejoin:round; stroke-width:4; stroke-opacity:1; fill:none\" points=\"\n  9744.17,1384.24 9744.17,1384.24 9847.17,1384.24 9744.17,1384.24 \n  \"/>\n<path clip-path=\"url(#clip532)\" d=\"\nM9847.17 1384.24 L9847.17 1384.24 L9950.17 1384.24 L9950.17 1384.24 L9847.17 1384.24 L9847.17 1384.24  Z\n  \" fill=\"#009af9\" fill-rule=\"evenodd\" fill-opacity=\"1\"/>\n<polyline clip-path=\"url(#clip532)\" style=\"stroke:#000000; stroke-linecap:butt; stroke-linejoin:round; stroke-width:4; stroke-opacity:1; fill:none\" points=\"\n  9847.17,1384.24 9847.17,1384.24 9950.17,1384.24 9847.17,1384.24 \n  \"/>\n<path clip-path=\"url(#clip532)\" d=\"\nM9950.17 1384.24 L9950.17 1384.24 L10053.2 1384.24 L10053.2 1384.24 L9950.17 1384.24 L9950.17 1384.24  Z\n  \" fill=\"#009af9\" fill-rule=\"evenodd\" fill-opacity=\"1\"/>\n<polyline clip-path=\"url(#clip532)\" style=\"stroke:#000000; stroke-linecap:butt; stroke-linejoin:round; stroke-width:4; stroke-opacity:1; fill:none\" points=\"\n  9950.17,1384.24 9950.17,1384.24 10053.2,1384.24 9950.17,1384.24 \n  \"/>\n<path clip-path=\"url(#clip532)\" d=\"\nM10053.2 1384.24 L10053.2 1384.24 L10156.2 1384.24 L10156.2 1384.24 L10053.2 1384.24 L10053.2 1384.24  Z\n  \" fill=\"#009af9\" fill-rule=\"evenodd\" fill-opacity=\"1\"/>\n<polyline clip-path=\"url(#clip532)\" style=\"stroke:#000000; stroke-linecap:butt; stroke-linejoin:round; stroke-width:4; stroke-opacity:1; fill:none\" points=\"\n  10053.2,1384.24 10053.2,1384.24 10156.2,1384.24 10053.2,1384.24 \n  \"/>\n<path clip-path=\"url(#clip532)\" d=\"\nM10156.2 1384.24 L10156.2 1384.24 L10259.2 1384.24 L10259.2 1384.24 L10156.2 1384.24 L10156.2 1384.24  Z\n  \" fill=\"#009af9\" fill-rule=\"evenodd\" fill-opacity=\"1\"/>\n<polyline clip-path=\"url(#clip532)\" style=\"stroke:#000000; stroke-linecap:butt; stroke-linejoin:round; stroke-width:4; stroke-opacity:1; fill:none\" points=\"\n  10156.2,1384.24 10156.2,1384.24 10259.2,1384.24 10156.2,1384.24 \n  \"/>\n<path clip-path=\"url(#clip532)\" d=\"\nM10259.2 1384.24 L10259.2 1384.24 L10362.2 1384.24 L10362.2 1384.24 L10259.2 1384.24 L10259.2 1384.24  Z\n  \" fill=\"#009af9\" fill-rule=\"evenodd\" fill-opacity=\"1\"/>\n<polyline clip-path=\"url(#clip532)\" style=\"stroke:#000000; stroke-linecap:butt; stroke-linejoin:round; stroke-width:4; stroke-opacity:1; fill:none\" points=\"\n  10259.2,1384.24 10259.2,1384.24 10362.2,1384.24 10259.2,1384.24 \n  \"/>\n<path clip-path=\"url(#clip532)\" d=\"\nM10362.2 1384.24 L10362.2 1384.24 L10465.2 1384.24 L10465.2 1384.24 L10362.2 1384.24 L10362.2 1384.24  Z\n  \" fill=\"#009af9\" fill-rule=\"evenodd\" fill-opacity=\"1\"/>\n<polyline clip-path=\"url(#clip532)\" style=\"stroke:#000000; stroke-linecap:butt; stroke-linejoin:round; stroke-width:4; stroke-opacity:1; fill:none\" points=\"\n  10362.2,1384.24 10362.2,1384.24 10465.2,1384.24 10362.2,1384.24 \n  \"/>\n<path clip-path=\"url(#clip532)\" d=\"\nM10465.2 1384.24 L10465.2 1384.24 L10568.2 1384.24 L10568.2 1384.24 L10465.2 1384.24 L10465.2 1384.24  Z\n  \" fill=\"#009af9\" fill-rule=\"evenodd\" fill-opacity=\"1\"/>\n<polyline clip-path=\"url(#clip532)\" style=\"stroke:#000000; stroke-linecap:butt; stroke-linejoin:round; stroke-width:4; stroke-opacity:1; fill:none\" points=\"\n  10465.2,1384.24 10465.2,1384.24 10568.2,1384.24 10465.2,1384.24 \n  \"/>\n<path clip-path=\"url(#clip532)\" d=\"\nM10568.2 1384.24 L10568.2 1384.24 L10671.2 1384.24 L10671.2 1384.24 L10568.2 1384.24 L10568.2 1384.24  Z\n  \" fill=\"#009af9\" fill-rule=\"evenodd\" fill-opacity=\"1\"/>\n<polyline clip-path=\"url(#clip532)\" style=\"stroke:#000000; stroke-linecap:butt; stroke-linejoin:round; stroke-width:4; stroke-opacity:1; fill:none\" points=\"\n  10568.2,1384.24 10568.2,1384.24 10671.2,1384.24 10568.2,1384.24 \n  \"/>\n<path clip-path=\"url(#clip532)\" d=\"\nM10671.2 1384.24 L10671.2 1384.24 L10774.2 1384.24 L10774.2 1384.24 L10671.2 1384.24 L10671.2 1384.24  Z\n  \" fill=\"#009af9\" fill-rule=\"evenodd\" fill-opacity=\"1\"/>\n<polyline clip-path=\"url(#clip532)\" style=\"stroke:#000000; stroke-linecap:butt; stroke-linejoin:round; stroke-width:4; stroke-opacity:1; fill:none\" points=\"\n  10671.2,1384.24 10671.2,1384.24 10774.2,1384.24 10671.2,1384.24 \n  \"/>\n<path clip-path=\"url(#clip532)\" d=\"\nM10774.2 1384.24 L10774.2 1384.24 L10877.2 1384.24 L10877.2 1384.24 L10774.2 1384.24 L10774.2 1384.24  Z\n  \" fill=\"#009af9\" fill-rule=\"evenodd\" fill-opacity=\"1\"/>\n<polyline clip-path=\"url(#clip532)\" style=\"stroke:#000000; stroke-linecap:butt; stroke-linejoin:round; stroke-width:4; stroke-opacity:1; fill:none\" points=\"\n  10774.2,1384.24 10774.2,1384.24 10877.2,1384.24 10774.2,1384.24 \n  \"/>\n<path clip-path=\"url(#clip532)\" d=\"\nM10877.2 1384.24 L10877.2 1384.24 L10980.2 1384.24 L10980.2 1384.24 L10877.2 1384.24 L10877.2 1384.24  Z\n  \" fill=\"#009af9\" fill-rule=\"evenodd\" fill-opacity=\"1\"/>\n<polyline clip-path=\"url(#clip532)\" style=\"stroke:#000000; stroke-linecap:butt; stroke-linejoin:round; stroke-width:4; stroke-opacity:1; fill:none\" points=\"\n  10877.2,1384.24 10877.2,1384.24 10980.2,1384.24 10877.2,1384.24 \n  \"/>\n<path clip-path=\"url(#clip532)\" d=\"\nM10980.2 1384.24 L10980.2 1384.24 L11083.2 1384.24 L11083.2 1384.24 L10980.2 1384.24 L10980.2 1384.24  Z\n  \" fill=\"#009af9\" fill-rule=\"evenodd\" fill-opacity=\"1\"/>\n<polyline clip-path=\"url(#clip532)\" style=\"stroke:#000000; stroke-linecap:butt; stroke-linejoin:round; stroke-width:4; stroke-opacity:1; fill:none\" points=\"\n  10980.2,1384.24 10980.2,1384.24 11083.2,1384.24 10980.2,1384.24 \n  \"/>\n<path clip-path=\"url(#clip532)\" d=\"\nM11083.2 1384.24 L11083.2 1384.24 L11186.2 1384.24 L11186.2 1384.24 L11083.2 1384.24 L11083.2 1384.24  Z\n  \" fill=\"#009af9\" fill-rule=\"evenodd\" fill-opacity=\"1\"/>\n<polyline clip-path=\"url(#clip532)\" style=\"stroke:#000000; stroke-linecap:butt; stroke-linejoin:round; stroke-width:4; stroke-opacity:1; fill:none\" points=\"\n  11083.2,1384.24 11083.2,1384.24 11186.2,1384.24 11083.2,1384.24 \n  \"/>\n<path clip-path=\"url(#clip532)\" d=\"\nM11186.2 1384.24 L11186.2 1384.24 L11289.2 1384.24 L11289.2 1384.24 L11186.2 1384.24 L11186.2 1384.24  Z\n  \" fill=\"#009af9\" fill-rule=\"evenodd\" fill-opacity=\"1\"/>\n<polyline clip-path=\"url(#clip532)\" style=\"stroke:#000000; stroke-linecap:butt; stroke-linejoin:round; stroke-width:4; stroke-opacity:1; fill:none\" points=\"\n  11186.2,1384.24 11186.2,1384.24 11289.2,1384.24 11186.2,1384.24 \n  \"/>\n<path clip-path=\"url(#clip532)\" d=\"\nM11289.2 1384.24 L11289.2 1384.24 L11392.2 1384.24 L11392.2 1384.24 L11289.2 1384.24 L11289.2 1384.24  Z\n  \" fill=\"#009af9\" fill-rule=\"evenodd\" fill-opacity=\"1\"/>\n<polyline clip-path=\"url(#clip532)\" style=\"stroke:#000000; stroke-linecap:butt; stroke-linejoin:round; stroke-width:4; stroke-opacity:1; fill:none\" points=\"\n  11289.2,1384.24 11289.2,1384.24 11392.2,1384.24 11289.2,1384.24 \n  \"/>\n<path clip-path=\"url(#clip532)\" d=\"\nM11392.2 1384.24 L11392.2 1384.24 L11495.2 1384.24 L11495.2 1384.24 L11392.2 1384.24 L11392.2 1384.24  Z\n  \" fill=\"#009af9\" fill-rule=\"evenodd\" fill-opacity=\"1\"/>\n<polyline clip-path=\"url(#clip532)\" style=\"stroke:#000000; stroke-linecap:butt; stroke-linejoin:round; stroke-width:4; stroke-opacity:1; fill:none\" points=\"\n  11392.2,1384.24 11392.2,1384.24 11495.2,1384.24 11392.2,1384.24 \n  \"/>\n<path clip-path=\"url(#clip532)\" d=\"\nM11495.2 1384.24 L11495.2 1384.24 L11598.2 1384.24 L11598.2 1384.24 L11495.2 1384.24 L11495.2 1384.24  Z\n  \" fill=\"#009af9\" fill-rule=\"evenodd\" fill-opacity=\"1\"/>\n<polyline clip-path=\"url(#clip532)\" style=\"stroke:#000000; stroke-linecap:butt; stroke-linejoin:round; stroke-width:4; stroke-opacity:1; fill:none\" points=\"\n  11495.2,1384.24 11495.2,1384.24 11598.2,1384.24 11495.2,1384.24 \n  \"/>\n<path clip-path=\"url(#clip532)\" d=\"\nM11598.2 1384.24 L11598.2 1384.24 L11701.3 1384.24 L11701.3 1384.24 L11598.2 1384.24 L11598.2 1384.24  Z\n  \" fill=\"#009af9\" fill-rule=\"evenodd\" fill-opacity=\"1\"/>\n<polyline clip-path=\"url(#clip532)\" style=\"stroke:#000000; stroke-linecap:butt; stroke-linejoin:round; stroke-width:4; stroke-opacity:1; fill:none\" points=\"\n  11598.2,1384.24 11598.2,1384.24 11701.3,1384.24 11598.2,1384.24 \n  \"/>\n<path clip-path=\"url(#clip532)\" d=\"\nM11701.3 1384.24 L11701.3 1384.24 L11804.3 1384.24 L11804.3 1384.24 L11701.3 1384.24 L11701.3 1384.24  Z\n  \" fill=\"#009af9\" fill-rule=\"evenodd\" fill-opacity=\"1\"/>\n<polyline clip-path=\"url(#clip532)\" style=\"stroke:#000000; stroke-linecap:butt; stroke-linejoin:round; stroke-width:4; stroke-opacity:1; fill:none\" points=\"\n  11701.3,1384.24 11701.3,1384.24 11804.3,1384.24 11701.3,1384.24 \n  \"/>\n<path clip-path=\"url(#clip532)\" d=\"\nM11804.3 1384.24 L11804.3 1384.24 L11907.3 1384.24 L11907.3 1384.24 L11804.3 1384.24 L11804.3 1384.24  Z\n  \" fill=\"#009af9\" fill-rule=\"evenodd\" fill-opacity=\"1\"/>\n<polyline clip-path=\"url(#clip532)\" style=\"stroke:#000000; stroke-linecap:butt; stroke-linejoin:round; stroke-width:4; stroke-opacity:1; fill:none\" points=\"\n  11804.3,1384.24 11804.3,1384.24 11907.3,1384.24 11804.3,1384.24 \n  \"/>\n<path clip-path=\"url(#clip532)\" d=\"\nM11907.3 1384.24 L11907.3 1384.24 L12010.3 1384.24 L12010.3 1384.24 L11907.3 1384.24 L11907.3 1384.24  Z\n  \" fill=\"#009af9\" fill-rule=\"evenodd\" fill-opacity=\"1\"/>\n<polyline clip-path=\"url(#clip532)\" style=\"stroke:#000000; stroke-linecap:butt; stroke-linejoin:round; stroke-width:4; stroke-opacity:1; fill:none\" points=\"\n  11907.3,1384.24 11907.3,1384.24 12010.3,1384.24 11907.3,1384.24 \n  \"/>\n<path clip-path=\"url(#clip532)\" d=\"\nM12010.3 1384.24 L12010.3 1384.24 L12113.3 1384.24 L12113.3 1384.24 L12010.3 1384.24 L12010.3 1384.24  Z\n  \" fill=\"#009af9\" fill-rule=\"evenodd\" fill-opacity=\"1\"/>\n<polyline clip-path=\"url(#clip532)\" style=\"stroke:#000000; stroke-linecap:butt; stroke-linejoin:round; stroke-width:4; stroke-opacity:1; fill:none\" points=\"\n  12010.3,1384.24 12010.3,1384.24 12113.3,1384.24 12010.3,1384.24 \n  \"/>\n<path clip-path=\"url(#clip532)\" d=\"\nM12113.3 1384.24 L12113.3 1384.24 L12216.3 1384.24 L12216.3 1384.24 L12113.3 1384.24 L12113.3 1384.24  Z\n  \" fill=\"#009af9\" fill-rule=\"evenodd\" fill-opacity=\"1\"/>\n<polyline clip-path=\"url(#clip532)\" style=\"stroke:#000000; stroke-linecap:butt; stroke-linejoin:round; stroke-width:4; stroke-opacity:1; fill:none\" points=\"\n  12113.3,1384.24 12113.3,1384.24 12216.3,1384.24 12113.3,1384.24 \n  \"/>\n<path clip-path=\"url(#clip532)\" d=\"\nM12216.3 1384.24 L12216.3 1384.24 L12319.3 1384.24 L12319.3 1384.24 L12216.3 1384.24 L12216.3 1384.24  Z\n  \" fill=\"#009af9\" fill-rule=\"evenodd\" fill-opacity=\"1\"/>\n<polyline clip-path=\"url(#clip532)\" style=\"stroke:#000000; stroke-linecap:butt; stroke-linejoin:round; stroke-width:4; stroke-opacity:1; fill:none\" points=\"\n  12216.3,1384.24 12216.3,1384.24 12319.3,1384.24 12216.3,1384.24 \n  \"/>\n<path clip-path=\"url(#clip532)\" d=\"\nM12319.3 1384.24 L12319.3 1384.24 L12422.3 1384.24 L12422.3 1384.24 L12319.3 1384.24 L12319.3 1384.24  Z\n  \" fill=\"#009af9\" fill-rule=\"evenodd\" fill-opacity=\"1\"/>\n<polyline clip-path=\"url(#clip532)\" style=\"stroke:#000000; stroke-linecap:butt; stroke-linejoin:round; stroke-width:4; stroke-opacity:1; fill:none\" points=\"\n  12319.3,1384.24 12319.3,1384.24 12422.3,1384.24 12319.3,1384.24 \n  \"/>\n<path clip-path=\"url(#clip532)\" d=\"\nM12422.3 1384.24 L12422.3 1384.24 L12525.3 1384.24 L12525.3 1384.24 L12422.3 1384.24 L12422.3 1384.24  Z\n  \" fill=\"#009af9\" fill-rule=\"evenodd\" fill-opacity=\"1\"/>\n<polyline clip-path=\"url(#clip532)\" style=\"stroke:#000000; stroke-linecap:butt; stroke-linejoin:round; stroke-width:4; stroke-opacity:1; fill:none\" points=\"\n  12422.3,1384.24 12422.3,1384.24 12525.3,1384.24 12422.3,1384.24 \n  \"/>\n<path clip-path=\"url(#clip532)\" d=\"\nM12525.3 1384.24 L12525.3 1384.24 L12628.3 1384.24 L12628.3 1384.24 L12525.3 1384.24 L12525.3 1384.24  Z\n  \" fill=\"#009af9\" fill-rule=\"evenodd\" fill-opacity=\"1\"/>\n<polyline clip-path=\"url(#clip532)\" style=\"stroke:#000000; stroke-linecap:butt; stroke-linejoin:round; stroke-width:4; stroke-opacity:1; fill:none\" points=\"\n  12525.3,1384.24 12525.3,1384.24 12628.3,1384.24 12525.3,1384.24 \n  \"/>\n<path clip-path=\"url(#clip532)\" d=\"\nM12628.3 1384.24 L12628.3 1384.24 L12731.3 1384.24 L12731.3 1384.24 L12628.3 1384.24 L12628.3 1384.24  Z\n  \" fill=\"#009af9\" fill-rule=\"evenodd\" fill-opacity=\"1\"/>\n<polyline clip-path=\"url(#clip532)\" style=\"stroke:#000000; stroke-linecap:butt; stroke-linejoin:round; stroke-width:4; stroke-opacity:1; fill:none\" points=\"\n  12628.3,1384.24 12628.3,1384.24 12731.3,1384.24 12628.3,1384.24 \n  \"/>\n<path clip-path=\"url(#clip532)\" d=\"\nM12731.3 1384.24 L12731.3 1384.24 L12834.3 1384.24 L12834.3 1384.24 L12731.3 1384.24 L12731.3 1384.24  Z\n  \" fill=\"#009af9\" fill-rule=\"evenodd\" fill-opacity=\"1\"/>\n<polyline clip-path=\"url(#clip532)\" style=\"stroke:#000000; stroke-linecap:butt; stroke-linejoin:round; stroke-width:4; stroke-opacity:1; fill:none\" points=\"\n  12731.3,1384.24 12731.3,1384.24 12834.3,1384.24 12731.3,1384.24 \n  \"/>\n<path clip-path=\"url(#clip532)\" d=\"\nM12834.3 1384.24 L12834.3 1384.24 L12937.3 1384.24 L12937.3 1384.24 L12834.3 1384.24 L12834.3 1384.24  Z\n  \" fill=\"#009af9\" fill-rule=\"evenodd\" fill-opacity=\"1\"/>\n<polyline clip-path=\"url(#clip532)\" style=\"stroke:#000000; stroke-linecap:butt; stroke-linejoin:round; stroke-width:4; stroke-opacity:1; fill:none\" points=\"\n  12834.3,1384.24 12834.3,1384.24 12937.3,1384.24 12834.3,1384.24 \n  \"/>\n<path clip-path=\"url(#clip532)\" d=\"\nM12937.3 1384.24 L12937.3 1384.24 L13040.3 1384.24 L13040.3 1384.24 L12937.3 1384.24 L12937.3 1384.24  Z\n  \" fill=\"#009af9\" fill-rule=\"evenodd\" fill-opacity=\"1\"/>\n<polyline clip-path=\"url(#clip532)\" style=\"stroke:#000000; stroke-linecap:butt; stroke-linejoin:round; stroke-width:4; stroke-opacity:1; fill:none\" points=\"\n  12937.3,1384.24 12937.3,1384.24 13040.3,1384.24 12937.3,1384.24 \n  \"/>\n<path clip-path=\"url(#clip532)\" d=\"\nM13040.3 1384.24 L13040.3 1384.24 L13143.3 1384.24 L13143.3 1384.24 L13040.3 1384.24 L13040.3 1384.24  Z\n  \" fill=\"#009af9\" fill-rule=\"evenodd\" fill-opacity=\"1\"/>\n<polyline clip-path=\"url(#clip532)\" style=\"stroke:#000000; stroke-linecap:butt; stroke-linejoin:round; stroke-width:4; stroke-opacity:1; fill:none\" points=\"\n  13040.3,1384.24 13040.3,1384.24 13143.3,1384.24 13040.3,1384.24 \n  \"/>\n<path clip-path=\"url(#clip532)\" d=\"\nM13143.3 1384.24 L13143.3 1384.24 L13246.3 1384.24 L13246.3 1384.24 L13143.3 1384.24 L13143.3 1384.24  Z\n  \" fill=\"#009af9\" fill-rule=\"evenodd\" fill-opacity=\"1\"/>\n<polyline clip-path=\"url(#clip532)\" style=\"stroke:#000000; stroke-linecap:butt; stroke-linejoin:round; stroke-width:4; stroke-opacity:1; fill:none\" points=\"\n  13143.3,1384.24 13143.3,1384.24 13246.3,1384.24 13143.3,1384.24 \n  \"/>\n<path clip-path=\"url(#clip532)\" d=\"\nM13246.3 1384.24 L13246.3 1384.24 L13349.3 1384.24 L13349.3 1384.24 L13246.3 1384.24 L13246.3 1384.24  Z\n  \" fill=\"#009af9\" fill-rule=\"evenodd\" fill-opacity=\"1\"/>\n<polyline clip-path=\"url(#clip532)\" style=\"stroke:#000000; stroke-linecap:butt; stroke-linejoin:round; stroke-width:4; stroke-opacity:1; fill:none\" points=\"\n  13246.3,1384.24 13246.3,1384.24 13349.3,1384.24 13246.3,1384.24 \n  \"/>\n<path clip-path=\"url(#clip532)\" d=\"\nM13349.3 1384.24 L13349.3 1384.24 L13452.3 1384.24 L13452.3 1384.24 L13349.3 1384.24 L13349.3 1384.24  Z\n  \" fill=\"#009af9\" fill-rule=\"evenodd\" fill-opacity=\"1\"/>\n<polyline clip-path=\"url(#clip532)\" style=\"stroke:#000000; stroke-linecap:butt; stroke-linejoin:round; stroke-width:4; stroke-opacity:1; fill:none\" points=\"\n  13349.3,1384.24 13349.3,1384.24 13452.3,1384.24 13349.3,1384.24 \n  \"/>\n<path clip-path=\"url(#clip532)\" d=\"\nM13452.3 1384.24 L13452.3 1384.24 L13555.3 1384.24 L13555.3 1384.24 L13452.3 1384.24 L13452.3 1384.24  Z\n  \" fill=\"#009af9\" fill-rule=\"evenodd\" fill-opacity=\"1\"/>\n<polyline clip-path=\"url(#clip532)\" style=\"stroke:#000000; stroke-linecap:butt; stroke-linejoin:round; stroke-width:4; stroke-opacity:1; fill:none\" points=\"\n  13452.3,1384.24 13452.3,1384.24 13555.3,1384.24 13452.3,1384.24 \n  \"/>\n<path clip-path=\"url(#clip532)\" d=\"\nM13555.3 1384.24 L13555.3 1384.24 L13658.3 1384.24 L13658.3 1384.24 L13555.3 1384.24 L13555.3 1384.24  Z\n  \" fill=\"#009af9\" fill-rule=\"evenodd\" fill-opacity=\"1\"/>\n<polyline clip-path=\"url(#clip532)\" style=\"stroke:#000000; stroke-linecap:butt; stroke-linejoin:round; stroke-width:4; stroke-opacity:1; fill:none\" points=\"\n  13555.3,1384.24 13555.3,1384.24 13658.3,1384.24 13555.3,1384.24 \n  \"/>\n<path clip-path=\"url(#clip532)\" d=\"\nM13658.3 1384.24 L13658.3 1384.24 L13761.3 1384.24 L13761.3 1384.24 L13658.3 1384.24 L13658.3 1384.24  Z\n  \" fill=\"#009af9\" fill-rule=\"evenodd\" fill-opacity=\"1\"/>\n<polyline clip-path=\"url(#clip532)\" style=\"stroke:#000000; stroke-linecap:butt; stroke-linejoin:round; stroke-width:4; stroke-opacity:1; fill:none\" points=\"\n  13658.3,1384.24 13658.3,1384.24 13761.3,1384.24 13658.3,1384.24 \n  \"/>\n<path clip-path=\"url(#clip532)\" d=\"\nM13761.3 1384.24 L13761.3 1384.24 L13864.3 1384.24 L13864.3 1384.24 L13761.3 1384.24 L13761.3 1384.24  Z\n  \" fill=\"#009af9\" fill-rule=\"evenodd\" fill-opacity=\"1\"/>\n<polyline clip-path=\"url(#clip532)\" style=\"stroke:#000000; stroke-linecap:butt; stroke-linejoin:round; stroke-width:4; stroke-opacity:1; fill:none\" points=\"\n  13761.3,1384.24 13761.3,1384.24 13864.3,1384.24 13761.3,1384.24 \n  \"/>\n<path clip-path=\"url(#clip532)\" d=\"\nM13864.3 1384.24 L13864.3 1384.24 L13967.4 1384.24 L13967.4 1384.24 L13864.3 1384.24 L13864.3 1384.24  Z\n  \" fill=\"#009af9\" fill-rule=\"evenodd\" fill-opacity=\"1\"/>\n<polyline clip-path=\"url(#clip532)\" style=\"stroke:#000000; stroke-linecap:butt; stroke-linejoin:round; stroke-width:4; stroke-opacity:1; fill:none\" points=\"\n  13864.3,1384.24 13864.3,1384.24 13967.4,1384.24 13864.3,1384.24 \n  \"/>\n<path clip-path=\"url(#clip532)\" d=\"\nM13967.4 1384.24 L13967.4 1384.24 L14070.4 1384.24 L14070.4 1384.24 L13967.4 1384.24 L13967.4 1384.24  Z\n  \" fill=\"#009af9\" fill-rule=\"evenodd\" fill-opacity=\"1\"/>\n<polyline clip-path=\"url(#clip532)\" style=\"stroke:#000000; stroke-linecap:butt; stroke-linejoin:round; stroke-width:4; stroke-opacity:1; fill:none\" points=\"\n  13967.4,1384.24 13967.4,1384.24 14070.4,1384.24 13967.4,1384.24 \n  \"/>\n<path clip-path=\"url(#clip532)\" d=\"\nM14070.4 1384.24 L14070.4 1384.24 L14173.4 1384.24 L14173.4 1384.24 L14070.4 1384.24 L14070.4 1384.24  Z\n  \" fill=\"#009af9\" fill-rule=\"evenodd\" fill-opacity=\"1\"/>\n<polyline clip-path=\"url(#clip532)\" style=\"stroke:#000000; stroke-linecap:butt; stroke-linejoin:round; stroke-width:4; stroke-opacity:1; fill:none\" points=\"\n  14070.4,1384.24 14070.4,1384.24 14173.4,1384.24 14070.4,1384.24 \n  \"/>\n<path clip-path=\"url(#clip532)\" d=\"\nM14173.4 1384.24 L14173.4 1384.24 L14276.4 1384.24 L14276.4 1384.24 L14173.4 1384.24 L14173.4 1384.24  Z\n  \" fill=\"#009af9\" fill-rule=\"evenodd\" fill-opacity=\"1\"/>\n<polyline clip-path=\"url(#clip532)\" style=\"stroke:#000000; stroke-linecap:butt; stroke-linejoin:round; stroke-width:4; stroke-opacity:1; fill:none\" points=\"\n  14173.4,1384.24 14173.4,1384.24 14276.4,1384.24 14173.4,1384.24 \n  \"/>\n<path clip-path=\"url(#clip532)\" d=\"\nM14276.4 1384.24 L14276.4 1384.24 L14379.4 1384.24 L14379.4 1384.24 L14276.4 1384.24 L14276.4 1384.24  Z\n  \" fill=\"#009af9\" fill-rule=\"evenodd\" fill-opacity=\"1\"/>\n<polyline clip-path=\"url(#clip532)\" style=\"stroke:#000000; stroke-linecap:butt; stroke-linejoin:round; stroke-width:4; stroke-opacity:1; fill:none\" points=\"\n  14276.4,1384.24 14276.4,1384.24 14379.4,1384.24 14276.4,1384.24 \n  \"/>\n<path clip-path=\"url(#clip532)\" d=\"\nM14379.4 1384.24 L14379.4 1384.24 L14482.4 1384.24 L14482.4 1384.24 L14379.4 1384.24 L14379.4 1384.24  Z\n  \" fill=\"#009af9\" fill-rule=\"evenodd\" fill-opacity=\"1\"/>\n<polyline clip-path=\"url(#clip532)\" style=\"stroke:#000000; stroke-linecap:butt; stroke-linejoin:round; stroke-width:4; stroke-opacity:1; fill:none\" points=\"\n  14379.4,1384.24 14379.4,1384.24 14482.4,1384.24 14379.4,1384.24 \n  \"/>\n<path clip-path=\"url(#clip532)\" d=\"\nM14482.4 1384.24 L14482.4 1384.24 L14585.4 1384.24 L14585.4 1384.24 L14482.4 1384.24 L14482.4 1384.24  Z\n  \" fill=\"#009af9\" fill-rule=\"evenodd\" fill-opacity=\"1\"/>\n<polyline clip-path=\"url(#clip532)\" style=\"stroke:#000000; stroke-linecap:butt; stroke-linejoin:round; stroke-width:4; stroke-opacity:1; fill:none\" points=\"\n  14482.4,1384.24 14482.4,1384.24 14585.4,1384.24 14482.4,1384.24 \n  \"/>\n<path clip-path=\"url(#clip532)\" d=\"\nM14585.4 1384.24 L14585.4 1384.24 L14688.4 1384.24 L14688.4 1384.24 L14585.4 1384.24 L14585.4 1384.24  Z\n  \" fill=\"#009af9\" fill-rule=\"evenodd\" fill-opacity=\"1\"/>\n<polyline clip-path=\"url(#clip532)\" style=\"stroke:#000000; stroke-linecap:butt; stroke-linejoin:round; stroke-width:4; stroke-opacity:1; fill:none\" points=\"\n  14585.4,1384.24 14585.4,1384.24 14688.4,1384.24 14585.4,1384.24 \n  \"/>\n<path clip-path=\"url(#clip532)\" d=\"\nM14688.4 1384.24 L14688.4 1384.24 L14791.4 1384.24 L14791.4 1384.24 L14688.4 1384.24 L14688.4 1384.24  Z\n  \" fill=\"#009af9\" fill-rule=\"evenodd\" fill-opacity=\"1\"/>\n<polyline clip-path=\"url(#clip532)\" style=\"stroke:#000000; stroke-linecap:butt; stroke-linejoin:round; stroke-width:4; stroke-opacity:1; fill:none\" points=\"\n  14688.4,1384.24 14688.4,1384.24 14791.4,1384.24 14688.4,1384.24 \n  \"/>\n<path clip-path=\"url(#clip532)\" d=\"\nM14791.4 1384.24 L14791.4 1384.24 L14894.4 1384.24 L14894.4 1384.24 L14791.4 1384.24 L14791.4 1384.24  Z\n  \" fill=\"#009af9\" fill-rule=\"evenodd\" fill-opacity=\"1\"/>\n<polyline clip-path=\"url(#clip532)\" style=\"stroke:#000000; stroke-linecap:butt; stroke-linejoin:round; stroke-width:4; stroke-opacity:1; fill:none\" points=\"\n  14791.4,1384.24 14791.4,1384.24 14894.4,1384.24 14791.4,1384.24 \n  \"/>\n<path clip-path=\"url(#clip532)\" d=\"\nM14894.4 1384.24 L14894.4 1384.24 L14997.4 1384.24 L14997.4 1384.24 L14894.4 1384.24 L14894.4 1384.24  Z\n  \" fill=\"#009af9\" fill-rule=\"evenodd\" fill-opacity=\"1\"/>\n<polyline clip-path=\"url(#clip532)\" style=\"stroke:#000000; stroke-linecap:butt; stroke-linejoin:round; stroke-width:4; stroke-opacity:1; fill:none\" points=\"\n  14894.4,1384.24 14894.4,1384.24 14997.4,1384.24 14894.4,1384.24 \n  \"/>\n<path clip-path=\"url(#clip532)\" d=\"\nM14997.4 1384.24 L14997.4 1384.24 L15100.4 1384.24 L15100.4 1384.24 L14997.4 1384.24 L14997.4 1384.24  Z\n  \" fill=\"#009af9\" fill-rule=\"evenodd\" fill-opacity=\"1\"/>\n<polyline clip-path=\"url(#clip532)\" style=\"stroke:#000000; stroke-linecap:butt; stroke-linejoin:round; stroke-width:4; stroke-opacity:1; fill:none\" points=\"\n  14997.4,1384.24 14997.4,1384.24 15100.4,1384.24 14997.4,1384.24 \n  \"/>\n<path clip-path=\"url(#clip532)\" d=\"\nM15100.4 1384.24 L15100.4 1384.24 L15203.4 1384.24 L15203.4 1384.24 L15100.4 1384.24 L15100.4 1384.24  Z\n  \" fill=\"#009af9\" fill-rule=\"evenodd\" fill-opacity=\"1\"/>\n<polyline clip-path=\"url(#clip532)\" style=\"stroke:#000000; stroke-linecap:butt; stroke-linejoin:round; stroke-width:4; stroke-opacity:1; fill:none\" points=\"\n  15100.4,1384.24 15100.4,1384.24 15203.4,1384.24 15100.4,1384.24 \n  \"/>\n<path clip-path=\"url(#clip532)\" d=\"\nM15203.4 1384.24 L15203.4 1384.24 L15306.4 1384.24 L15306.4 1384.24 L15203.4 1384.24 L15203.4 1384.24  Z\n  \" fill=\"#009af9\" fill-rule=\"evenodd\" fill-opacity=\"1\"/>\n<polyline clip-path=\"url(#clip532)\" style=\"stroke:#000000; stroke-linecap:butt; stroke-linejoin:round; stroke-width:4; stroke-opacity:1; fill:none\" points=\"\n  15203.4,1384.24 15203.4,1384.24 15306.4,1384.24 15203.4,1384.24 \n  \"/>\n<path clip-path=\"url(#clip532)\" d=\"\nM15306.4 1384.24 L15306.4 1384.24 L15409.4 1384.24 L15409.4 1384.24 L15306.4 1384.24 L15306.4 1384.24  Z\n  \" fill=\"#009af9\" fill-rule=\"evenodd\" fill-opacity=\"1\"/>\n<polyline clip-path=\"url(#clip532)\" style=\"stroke:#000000; stroke-linecap:butt; stroke-linejoin:round; stroke-width:4; stroke-opacity:1; fill:none\" points=\"\n  15306.4,1384.24 15306.4,1384.24 15409.4,1384.24 15306.4,1384.24 \n  \"/>\n<path clip-path=\"url(#clip532)\" d=\"\nM15409.4 1384.24 L15409.4 1384.24 L15512.4 1384.24 L15512.4 1384.24 L15409.4 1384.24 L15409.4 1384.24  Z\n  \" fill=\"#009af9\" fill-rule=\"evenodd\" fill-opacity=\"1\"/>\n<polyline clip-path=\"url(#clip532)\" style=\"stroke:#000000; stroke-linecap:butt; stroke-linejoin:round; stroke-width:4; stroke-opacity:1; fill:none\" points=\"\n  15409.4,1384.24 15409.4,1384.24 15512.4,1384.24 15409.4,1384.24 \n  \"/>\n<path clip-path=\"url(#clip532)\" d=\"\nM15512.4 1384.24 L15512.4 1384.24 L15615.4 1384.24 L15615.4 1384.24 L15512.4 1384.24 L15512.4 1384.24  Z\n  \" fill=\"#009af9\" fill-rule=\"evenodd\" fill-opacity=\"1\"/>\n<polyline clip-path=\"url(#clip532)\" style=\"stroke:#000000; stroke-linecap:butt; stroke-linejoin:round; stroke-width:4; stroke-opacity:1; fill:none\" points=\"\n  15512.4,1384.24 15512.4,1384.24 15615.4,1384.24 15512.4,1384.24 \n  \"/>\n<path clip-path=\"url(#clip532)\" d=\"\nM15615.4 1384.24 L15615.4 1384.24 L15718.4 1384.24 L15718.4 1384.24 L15615.4 1384.24 L15615.4 1384.24  Z\n  \" fill=\"#009af9\" fill-rule=\"evenodd\" fill-opacity=\"1\"/>\n<polyline clip-path=\"url(#clip532)\" style=\"stroke:#000000; stroke-linecap:butt; stroke-linejoin:round; stroke-width:4; stroke-opacity:1; fill:none\" points=\"\n  15615.4,1384.24 15615.4,1384.24 15718.4,1384.24 15615.4,1384.24 \n  \"/>\n<path clip-path=\"url(#clip532)\" d=\"\nM15718.4 1384.24 L15718.4 1384.24 L15821.4 1384.24 L15821.4 1384.24 L15718.4 1384.24 L15718.4 1384.24  Z\n  \" fill=\"#009af9\" fill-rule=\"evenodd\" fill-opacity=\"1\"/>\n<polyline clip-path=\"url(#clip532)\" style=\"stroke:#000000; stroke-linecap:butt; stroke-linejoin:round; stroke-width:4; stroke-opacity:1; fill:none\" points=\"\n  15718.4,1384.24 15718.4,1384.24 15821.4,1384.24 15718.4,1384.24 \n  \"/>\n<path clip-path=\"url(#clip532)\" d=\"\nM15821.4 1384.24 L15821.4 1384.24 L15924.4 1384.24 L15924.4 1384.24 L15821.4 1384.24 L15821.4 1384.24  Z\n  \" fill=\"#009af9\" fill-rule=\"evenodd\" fill-opacity=\"1\"/>\n<polyline clip-path=\"url(#clip532)\" style=\"stroke:#000000; stroke-linecap:butt; stroke-linejoin:round; stroke-width:4; stroke-opacity:1; fill:none\" points=\"\n  15821.4,1384.24 15821.4,1384.24 15924.4,1384.24 15821.4,1384.24 \n  \"/>\n<path clip-path=\"url(#clip532)\" d=\"\nM15924.4 1384.24 L15924.4 1384.24 L16027.4 1384.24 L16027.4 1384.24 L15924.4 1384.24 L15924.4 1384.24  Z\n  \" fill=\"#009af9\" fill-rule=\"evenodd\" fill-opacity=\"1\"/>\n<polyline clip-path=\"url(#clip532)\" style=\"stroke:#000000; stroke-linecap:butt; stroke-linejoin:round; stroke-width:4; stroke-opacity:1; fill:none\" points=\"\n  15924.4,1384.24 15924.4,1384.24 16027.4,1384.24 15924.4,1384.24 \n  \"/>\n<path clip-path=\"url(#clip532)\" d=\"\nM16027.4 1384.24 L16027.4 1384.24 L16130.4 1384.24 L16130.4 1384.24 L16027.4 1384.24 L16027.4 1384.24  Z\n  \" fill=\"#009af9\" fill-rule=\"evenodd\" fill-opacity=\"1\"/>\n<polyline clip-path=\"url(#clip532)\" style=\"stroke:#000000; stroke-linecap:butt; stroke-linejoin:round; stroke-width:4; stroke-opacity:1; fill:none\" points=\"\n  16027.4,1384.24 16027.4,1384.24 16130.4,1384.24 16027.4,1384.24 \n  \"/>\n<path clip-path=\"url(#clip532)\" d=\"\nM16130.4 1384.24 L16130.4 1384.24 L16233.5 1384.24 L16233.5 1384.24 L16130.4 1384.24 L16130.4 1384.24  Z\n  \" fill=\"#009af9\" fill-rule=\"evenodd\" fill-opacity=\"1\"/>\n<polyline clip-path=\"url(#clip532)\" style=\"stroke:#000000; stroke-linecap:butt; stroke-linejoin:round; stroke-width:4; stroke-opacity:1; fill:none\" points=\"\n  16130.4,1384.24 16130.4,1384.24 16233.5,1384.24 16130.4,1384.24 \n  \"/>\n<path clip-path=\"url(#clip532)\" d=\"\nM16233.5 1384.24 L16233.5 1384.24 L16336.5 1384.24 L16336.5 1384.24 L16233.5 1384.24 L16233.5 1384.24  Z\n  \" fill=\"#009af9\" fill-rule=\"evenodd\" fill-opacity=\"1\"/>\n<polyline clip-path=\"url(#clip532)\" style=\"stroke:#000000; stroke-linecap:butt; stroke-linejoin:round; stroke-width:4; stroke-opacity:1; fill:none\" points=\"\n  16233.5,1384.24 16233.5,1384.24 16336.5,1384.24 16233.5,1384.24 \n  \"/>\n<path clip-path=\"url(#clip532)\" d=\"\nM16336.5 1384.24 L16336.5 1384.24 L16439.5 1384.24 L16439.5 1384.24 L16336.5 1384.24 L16336.5 1384.24  Z\n  \" fill=\"#009af9\" fill-rule=\"evenodd\" fill-opacity=\"1\"/>\n<polyline clip-path=\"url(#clip532)\" style=\"stroke:#000000; stroke-linecap:butt; stroke-linejoin:round; stroke-width:4; stroke-opacity:1; fill:none\" points=\"\n  16336.5,1384.24 16336.5,1384.24 16439.5,1384.24 16336.5,1384.24 \n  \"/>\n<path clip-path=\"url(#clip532)\" d=\"\nM16439.5 1384.24 L16439.5 1384.24 L16542.5 1384.24 L16542.5 1384.24 L16439.5 1384.24 L16439.5 1384.24  Z\n  \" fill=\"#009af9\" fill-rule=\"evenodd\" fill-opacity=\"1\"/>\n<polyline clip-path=\"url(#clip532)\" style=\"stroke:#000000; stroke-linecap:butt; stroke-linejoin:round; stroke-width:4; stroke-opacity:1; fill:none\" points=\"\n  16439.5,1384.24 16439.5,1384.24 16542.5,1384.24 16439.5,1384.24 \n  \"/>\n<path clip-path=\"url(#clip532)\" d=\"\nM16542.5 1384.24 L16542.5 1384.24 L16645.5 1384.24 L16645.5 1384.24 L16542.5 1384.24 L16542.5 1384.24  Z\n  \" fill=\"#009af9\" fill-rule=\"evenodd\" fill-opacity=\"1\"/>\n<polyline clip-path=\"url(#clip532)\" style=\"stroke:#000000; stroke-linecap:butt; stroke-linejoin:round; stroke-width:4; stroke-opacity:1; fill:none\" points=\"\n  16542.5,1384.24 16542.5,1384.24 16645.5,1384.24 16542.5,1384.24 \n  \"/>\n<path clip-path=\"url(#clip532)\" d=\"\nM16645.5 1384.24 L16645.5 1384.24 L16748.5 1384.24 L16748.5 1384.24 L16645.5 1384.24 L16645.5 1384.24  Z\n  \" fill=\"#009af9\" fill-rule=\"evenodd\" fill-opacity=\"1\"/>\n<polyline clip-path=\"url(#clip532)\" style=\"stroke:#000000; stroke-linecap:butt; stroke-linejoin:round; stroke-width:4; stroke-opacity:1; fill:none\" points=\"\n  16645.5,1384.24 16645.5,1384.24 16748.5,1384.24 16645.5,1384.24 \n  \"/>\n<path clip-path=\"url(#clip532)\" d=\"\nM16748.5 1384.24 L16748.5 1384.24 L16851.5 1384.24 L16851.5 1384.24 L16748.5 1384.24 L16748.5 1384.24  Z\n  \" fill=\"#009af9\" fill-rule=\"evenodd\" fill-opacity=\"1\"/>\n<polyline clip-path=\"url(#clip532)\" style=\"stroke:#000000; stroke-linecap:butt; stroke-linejoin:round; stroke-width:4; stroke-opacity:1; fill:none\" points=\"\n  16748.5,1384.24 16748.5,1384.24 16851.5,1384.24 16748.5,1384.24 \n  \"/>\n<path clip-path=\"url(#clip532)\" d=\"\nM16851.5 1384.24 L16851.5 1384.24 L16954.5 1384.24 L16954.5 1384.24 L16851.5 1384.24 L16851.5 1384.24  Z\n  \" fill=\"#009af9\" fill-rule=\"evenodd\" fill-opacity=\"1\"/>\n<polyline clip-path=\"url(#clip532)\" style=\"stroke:#000000; stroke-linecap:butt; stroke-linejoin:round; stroke-width:4; stroke-opacity:1; fill:none\" points=\"\n  16851.5,1384.24 16851.5,1384.24 16954.5,1384.24 16851.5,1384.24 \n  \"/>\n<path clip-path=\"url(#clip532)\" d=\"\nM16954.5 1384.24 L16954.5 1384.24 L17057.5 1384.24 L17057.5 1384.24 L16954.5 1384.24 L16954.5 1384.24  Z\n  \" fill=\"#009af9\" fill-rule=\"evenodd\" fill-opacity=\"1\"/>\n<polyline clip-path=\"url(#clip532)\" style=\"stroke:#000000; stroke-linecap:butt; stroke-linejoin:round; stroke-width:4; stroke-opacity:1; fill:none\" points=\"\n  16954.5,1384.24 16954.5,1384.24 17057.5,1384.24 16954.5,1384.24 \n  \"/>\n<path clip-path=\"url(#clip532)\" d=\"\nM17057.5 1384.24 L17057.5 1384.24 L17160.5 1384.24 L17160.5 1384.24 L17057.5 1384.24 L17057.5 1384.24  Z\n  \" fill=\"#009af9\" fill-rule=\"evenodd\" fill-opacity=\"1\"/>\n<polyline clip-path=\"url(#clip532)\" style=\"stroke:#000000; stroke-linecap:butt; stroke-linejoin:round; stroke-width:4; stroke-opacity:1; fill:none\" points=\"\n  17057.5,1384.24 17057.5,1384.24 17160.5,1384.24 17057.5,1384.24 \n  \"/>\n<path clip-path=\"url(#clip532)\" d=\"\nM17160.5 1384.24 L17160.5 1384.24 L17263.5 1384.24 L17263.5 1384.24 L17160.5 1384.24 L17160.5 1384.24  Z\n  \" fill=\"#009af9\" fill-rule=\"evenodd\" fill-opacity=\"1\"/>\n<polyline clip-path=\"url(#clip532)\" style=\"stroke:#000000; stroke-linecap:butt; stroke-linejoin:round; stroke-width:4; stroke-opacity:1; fill:none\" points=\"\n  17160.5,1384.24 17160.5,1384.24 17263.5,1384.24 17160.5,1384.24 \n  \"/>\n<path clip-path=\"url(#clip532)\" d=\"\nM17263.5 1384.24 L17263.5 1384.24 L17366.5 1384.24 L17366.5 1384.24 L17263.5 1384.24 L17263.5 1384.24  Z\n  \" fill=\"#009af9\" fill-rule=\"evenodd\" fill-opacity=\"1\"/>\n<polyline clip-path=\"url(#clip532)\" style=\"stroke:#000000; stroke-linecap:butt; stroke-linejoin:round; stroke-width:4; stroke-opacity:1; fill:none\" points=\"\n  17263.5,1384.24 17263.5,1384.24 17366.5,1384.24 17263.5,1384.24 \n  \"/>\n<path clip-path=\"url(#clip532)\" d=\"\nM17366.5 1384.24 L17366.5 1384.24 L17469.5 1384.24 L17469.5 1384.24 L17366.5 1384.24 L17366.5 1384.24  Z\n  \" fill=\"#009af9\" fill-rule=\"evenodd\" fill-opacity=\"1\"/>\n<polyline clip-path=\"url(#clip532)\" style=\"stroke:#000000; stroke-linecap:butt; stroke-linejoin:round; stroke-width:4; stroke-opacity:1; fill:none\" points=\"\n  17366.5,1384.24 17366.5,1384.24 17469.5,1384.24 17366.5,1384.24 \n  \"/>\n<path clip-path=\"url(#clip532)\" d=\"\nM17469.5 1384.24 L17469.5 1384.24 L17572.5 1384.24 L17572.5 1384.24 L17469.5 1384.24 L17469.5 1384.24  Z\n  \" fill=\"#009af9\" fill-rule=\"evenodd\" fill-opacity=\"1\"/>\n<polyline clip-path=\"url(#clip532)\" style=\"stroke:#000000; stroke-linecap:butt; stroke-linejoin:round; stroke-width:4; stroke-opacity:1; fill:none\" points=\"\n  17469.5,1384.24 17469.5,1384.24 17572.5,1384.24 17469.5,1384.24 \n  \"/>\n<path clip-path=\"url(#clip532)\" d=\"\nM17572.5 1384.24 L17572.5 1384.24 L17675.5 1384.24 L17675.5 1384.24 L17572.5 1384.24 L17572.5 1384.24  Z\n  \" fill=\"#009af9\" fill-rule=\"evenodd\" fill-opacity=\"1\"/>\n<polyline clip-path=\"url(#clip532)\" style=\"stroke:#000000; stroke-linecap:butt; stroke-linejoin:round; stroke-width:4; stroke-opacity:1; fill:none\" points=\"\n  17572.5,1384.24 17572.5,1384.24 17675.5,1384.24 17572.5,1384.24 \n  \"/>\n<path clip-path=\"url(#clip532)\" d=\"\nM17675.5 1384.24 L17675.5 1384.24 L17778.5 1384.24 L17778.5 1384.24 L17675.5 1384.24 L17675.5 1384.24  Z\n  \" fill=\"#009af9\" fill-rule=\"evenodd\" fill-opacity=\"1\"/>\n<polyline clip-path=\"url(#clip532)\" style=\"stroke:#000000; stroke-linecap:butt; stroke-linejoin:round; stroke-width:4; stroke-opacity:1; fill:none\" points=\"\n  17675.5,1384.24 17675.5,1384.24 17778.5,1384.24 17675.5,1384.24 \n  \"/>\n<path clip-path=\"url(#clip532)\" d=\"\nM17778.5 1384.24 L17778.5 1384.24 L17881.5 1384.24 L17881.5 1384.24 L17778.5 1384.24 L17778.5 1384.24  Z\n  \" fill=\"#009af9\" fill-rule=\"evenodd\" fill-opacity=\"1\"/>\n<polyline clip-path=\"url(#clip532)\" style=\"stroke:#000000; stroke-linecap:butt; stroke-linejoin:round; stroke-width:4; stroke-opacity:1; fill:none\" points=\"\n  17778.5,1384.24 17778.5,1384.24 17881.5,1384.24 17778.5,1384.24 \n  \"/>\n<path clip-path=\"url(#clip532)\" d=\"\nM17881.5 1351.79 L17881.5 1384.24 L17984.5 1384.24 L17984.5 1351.79 L17881.5 1351.79 L17881.5 1351.79  Z\n  \" fill=\"#009af9\" fill-rule=\"evenodd\" fill-opacity=\"1\"/>\n<polyline clip-path=\"url(#clip532)\" style=\"stroke:#000000; stroke-linecap:butt; stroke-linejoin:round; stroke-width:4; stroke-opacity:1; fill:none\" points=\"\n  17881.5,1351.79 17881.5,1384.24 17984.5,1384.24 17984.5,1351.79 17881.5,1351.79 \n  \"/>\n<path clip-path=\"url(#clip532)\" d=\"\nM17984.5 1384.24 L17984.5 1384.24 L18087.5 1384.24 L18087.5 1384.24 L17984.5 1384.24 L17984.5 1384.24  Z\n  \" fill=\"#009af9\" fill-rule=\"evenodd\" fill-opacity=\"1\"/>\n<polyline clip-path=\"url(#clip532)\" style=\"stroke:#000000; stroke-linecap:butt; stroke-linejoin:round; stroke-width:4; stroke-opacity:1; fill:none\" points=\"\n  17984.5,1384.24 17984.5,1384.24 18087.5,1384.24 17984.5,1384.24 \n  \"/>\n<path clip-path=\"url(#clip532)\" d=\"\nM18087.5 1384.24 L18087.5 1384.24 L18190.5 1384.24 L18190.5 1384.24 L18087.5 1384.24 L18087.5 1384.24  Z\n  \" fill=\"#009af9\" fill-rule=\"evenodd\" fill-opacity=\"1\"/>\n<polyline clip-path=\"url(#clip532)\" style=\"stroke:#000000; stroke-linecap:butt; stroke-linejoin:round; stroke-width:4; stroke-opacity:1; fill:none\" points=\"\n  18087.5,1384.24 18087.5,1384.24 18190.5,1384.24 18087.5,1384.24 \n  \"/>\n<path clip-path=\"url(#clip532)\" d=\"\nM18190.5 1384.24 L18190.5 1384.24 L18293.5 1384.24 L18293.5 1384.24 L18190.5 1384.24 L18190.5 1384.24  Z\n  \" fill=\"#009af9\" fill-rule=\"evenodd\" fill-opacity=\"1\"/>\n<polyline clip-path=\"url(#clip532)\" style=\"stroke:#000000; stroke-linecap:butt; stroke-linejoin:round; stroke-width:4; stroke-opacity:1; fill:none\" points=\"\n  18190.5,1384.24 18190.5,1384.24 18293.5,1384.24 18190.5,1384.24 \n  \"/>\n<path clip-path=\"url(#clip532)\" d=\"\nM18293.5 1384.24 L18293.5 1384.24 L18396.5 1384.24 L18396.5 1384.24 L18293.5 1384.24 L18293.5 1384.24  Z\n  \" fill=\"#009af9\" fill-rule=\"evenodd\" fill-opacity=\"1\"/>\n<polyline clip-path=\"url(#clip532)\" style=\"stroke:#000000; stroke-linecap:butt; stroke-linejoin:round; stroke-width:4; stroke-opacity:1; fill:none\" points=\"\n  18293.5,1384.24 18293.5,1384.24 18396.5,1384.24 18293.5,1384.24 \n  \"/>\n<path clip-path=\"url(#clip532)\" d=\"\nM18396.5 1384.24 L18396.5 1384.24 L18499.6 1384.24 L18499.6 1384.24 L18396.5 1384.24 L18396.5 1384.24  Z\n  \" fill=\"#009af9\" fill-rule=\"evenodd\" fill-opacity=\"1\"/>\n<polyline clip-path=\"url(#clip532)\" style=\"stroke:#000000; stroke-linecap:butt; stroke-linejoin:round; stroke-width:4; stroke-opacity:1; fill:none\" points=\"\n  18396.5,1384.24 18396.5,1384.24 18499.6,1384.24 18396.5,1384.24 \n  \"/>\n<path clip-path=\"url(#clip532)\" d=\"\nM18499.6 1384.24 L18499.6 1384.24 L18602.6 1384.24 L18602.6 1384.24 L18499.6 1384.24 L18499.6 1384.24  Z\n  \" fill=\"#009af9\" fill-rule=\"evenodd\" fill-opacity=\"1\"/>\n<polyline clip-path=\"url(#clip532)\" style=\"stroke:#000000; stroke-linecap:butt; stroke-linejoin:round; stroke-width:4; stroke-opacity:1; fill:none\" points=\"\n  18499.6,1384.24 18499.6,1384.24 18602.6,1384.24 18499.6,1384.24 \n  \"/>\n<path clip-path=\"url(#clip532)\" d=\"\nM18602.6 1384.24 L18602.6 1384.24 L18705.6 1384.24 L18705.6 1384.24 L18602.6 1384.24 L18602.6 1384.24  Z\n  \" fill=\"#009af9\" fill-rule=\"evenodd\" fill-opacity=\"1\"/>\n<polyline clip-path=\"url(#clip532)\" style=\"stroke:#000000; stroke-linecap:butt; stroke-linejoin:round; stroke-width:4; stroke-opacity:1; fill:none\" points=\"\n  18602.6,1384.24 18602.6,1384.24 18705.6,1384.24 18602.6,1384.24 \n  \"/>\n<path clip-path=\"url(#clip532)\" d=\"\nM18705.6 1384.24 L18705.6 1384.24 L18808.6 1384.24 L18808.6 1384.24 L18705.6 1384.24 L18705.6 1384.24  Z\n  \" fill=\"#009af9\" fill-rule=\"evenodd\" fill-opacity=\"1\"/>\n<polyline clip-path=\"url(#clip532)\" style=\"stroke:#000000; stroke-linecap:butt; stroke-linejoin:round; stroke-width:4; stroke-opacity:1; fill:none\" points=\"\n  18705.6,1384.24 18705.6,1384.24 18808.6,1384.24 18705.6,1384.24 \n  \"/>\n<path clip-path=\"url(#clip532)\" d=\"\nM18808.6 1384.24 L18808.6 1384.24 L18911.6 1384.24 L18911.6 1384.24 L18808.6 1384.24 L18808.6 1384.24  Z\n  \" fill=\"#009af9\" fill-rule=\"evenodd\" fill-opacity=\"1\"/>\n<polyline clip-path=\"url(#clip532)\" style=\"stroke:#000000; stroke-linecap:butt; stroke-linejoin:round; stroke-width:4; stroke-opacity:1; fill:none\" points=\"\n  18808.6,1384.24 18808.6,1384.24 18911.6,1384.24 18808.6,1384.24 \n  \"/>\n<path clip-path=\"url(#clip532)\" d=\"\nM18911.6 1384.24 L18911.6 1384.24 L19014.6 1384.24 L19014.6 1384.24 L18911.6 1384.24 L18911.6 1384.24  Z\n  \" fill=\"#009af9\" fill-rule=\"evenodd\" fill-opacity=\"1\"/>\n<polyline clip-path=\"url(#clip532)\" style=\"stroke:#000000; stroke-linecap:butt; stroke-linejoin:round; stroke-width:4; stroke-opacity:1; fill:none\" points=\"\n  18911.6,1384.24 18911.6,1384.24 19014.6,1384.24 18911.6,1384.24 \n  \"/>\n<path clip-path=\"url(#clip532)\" d=\"\nM19014.6 1384.24 L19014.6 1384.24 L19117.6 1384.24 L19117.6 1384.24 L19014.6 1384.24 L19014.6 1384.24  Z\n  \" fill=\"#009af9\" fill-rule=\"evenodd\" fill-opacity=\"1\"/>\n<polyline clip-path=\"url(#clip532)\" style=\"stroke:#000000; stroke-linecap:butt; stroke-linejoin:round; stroke-width:4; stroke-opacity:1; fill:none\" points=\"\n  19014.6,1384.24 19014.6,1384.24 19117.6,1384.24 19014.6,1384.24 \n  \"/>\n<path clip-path=\"url(#clip532)\" d=\"\nM19117.6 1384.24 L19117.6 1384.24 L19220.6 1384.24 L19220.6 1384.24 L19117.6 1384.24 L19117.6 1384.24  Z\n  \" fill=\"#009af9\" fill-rule=\"evenodd\" fill-opacity=\"1\"/>\n<polyline clip-path=\"url(#clip532)\" style=\"stroke:#000000; stroke-linecap:butt; stroke-linejoin:round; stroke-width:4; stroke-opacity:1; fill:none\" points=\"\n  19117.6,1384.24 19117.6,1384.24 19220.6,1384.24 19117.6,1384.24 \n  \"/>\n<path clip-path=\"url(#clip532)\" d=\"\nM19220.6 1384.24 L19220.6 1384.24 L19323.6 1384.24 L19323.6 1384.24 L19220.6 1384.24 L19220.6 1384.24  Z\n  \" fill=\"#009af9\" fill-rule=\"evenodd\" fill-opacity=\"1\"/>\n<polyline clip-path=\"url(#clip532)\" style=\"stroke:#000000; stroke-linecap:butt; stroke-linejoin:round; stroke-width:4; stroke-opacity:1; fill:none\" points=\"\n  19220.6,1384.24 19220.6,1384.24 19323.6,1384.24 19220.6,1384.24 \n  \"/>\n<path clip-path=\"url(#clip532)\" d=\"\nM19323.6 1384.24 L19323.6 1384.24 L19426.6 1384.24 L19426.6 1384.24 L19323.6 1384.24 L19323.6 1384.24  Z\n  \" fill=\"#009af9\" fill-rule=\"evenodd\" fill-opacity=\"1\"/>\n<polyline clip-path=\"url(#clip532)\" style=\"stroke:#000000; stroke-linecap:butt; stroke-linejoin:round; stroke-width:4; stroke-opacity:1; fill:none\" points=\"\n  19323.6,1384.24 19323.6,1384.24 19426.6,1384.24 19323.6,1384.24 \n  \"/>\n<path clip-path=\"url(#clip532)\" d=\"\nM19426.6 1384.24 L19426.6 1384.24 L19529.6 1384.24 L19529.6 1384.24 L19426.6 1384.24 L19426.6 1384.24  Z\n  \" fill=\"#009af9\" fill-rule=\"evenodd\" fill-opacity=\"1\"/>\n<polyline clip-path=\"url(#clip532)\" style=\"stroke:#000000; stroke-linecap:butt; stroke-linejoin:round; stroke-width:4; stroke-opacity:1; fill:none\" points=\"\n  19426.6,1384.24 19426.6,1384.24 19529.6,1384.24 19426.6,1384.24 \n  \"/>\n<path clip-path=\"url(#clip532)\" d=\"\nM19529.6 1384.24 L19529.6 1384.24 L19632.6 1384.24 L19632.6 1384.24 L19529.6 1384.24 L19529.6 1384.24  Z\n  \" fill=\"#009af9\" fill-rule=\"evenodd\" fill-opacity=\"1\"/>\n<polyline clip-path=\"url(#clip532)\" style=\"stroke:#000000; stroke-linecap:butt; stroke-linejoin:round; stroke-width:4; stroke-opacity:1; fill:none\" points=\"\n  19529.6,1384.24 19529.6,1384.24 19632.6,1384.24 19529.6,1384.24 \n  \"/>\n<path clip-path=\"url(#clip532)\" d=\"\nM19632.6 1384.24 L19632.6 1384.24 L19735.6 1384.24 L19735.6 1384.24 L19632.6 1384.24 L19632.6 1384.24  Z\n  \" fill=\"#009af9\" fill-rule=\"evenodd\" fill-opacity=\"1\"/>\n<polyline clip-path=\"url(#clip532)\" style=\"stroke:#000000; stroke-linecap:butt; stroke-linejoin:round; stroke-width:4; stroke-opacity:1; fill:none\" points=\"\n  19632.6,1384.24 19632.6,1384.24 19735.6,1384.24 19632.6,1384.24 \n  \"/>\n<path clip-path=\"url(#clip532)\" d=\"\nM19735.6 1384.24 L19735.6 1384.24 L19838.6 1384.24 L19838.6 1384.24 L19735.6 1384.24 L19735.6 1384.24  Z\n  \" fill=\"#009af9\" fill-rule=\"evenodd\" fill-opacity=\"1\"/>\n<polyline clip-path=\"url(#clip532)\" style=\"stroke:#000000; stroke-linecap:butt; stroke-linejoin:round; stroke-width:4; stroke-opacity:1; fill:none\" points=\"\n  19735.6,1384.24 19735.6,1384.24 19838.6,1384.24 19735.6,1384.24 \n  \"/>\n<path clip-path=\"url(#clip532)\" d=\"\nM19838.6 1384.24 L19838.6 1384.24 L19941.6 1384.24 L19941.6 1384.24 L19838.6 1384.24 L19838.6 1384.24  Z\n  \" fill=\"#009af9\" fill-rule=\"evenodd\" fill-opacity=\"1\"/>\n<polyline clip-path=\"url(#clip532)\" style=\"stroke:#000000; stroke-linecap:butt; stroke-linejoin:round; stroke-width:4; stroke-opacity:1; fill:none\" points=\"\n  19838.6,1384.24 19838.6,1384.24 19941.6,1384.24 19838.6,1384.24 \n  \"/>\n<path clip-path=\"url(#clip532)\" d=\"\nM19941.6 1384.24 L19941.6 1384.24 L20044.6 1384.24 L20044.6 1384.24 L19941.6 1384.24 L19941.6 1384.24  Z\n  \" fill=\"#009af9\" fill-rule=\"evenodd\" fill-opacity=\"1\"/>\n<polyline clip-path=\"url(#clip532)\" style=\"stroke:#000000; stroke-linecap:butt; stroke-linejoin:round; stroke-width:4; stroke-opacity:1; fill:none\" points=\"\n  19941.6,1384.24 19941.6,1384.24 20044.6,1384.24 19941.6,1384.24 \n  \"/>\n<path clip-path=\"url(#clip532)\" d=\"\nM20044.6 1384.24 L20044.6 1384.24 L20147.6 1384.24 L20147.6 1384.24 L20044.6 1384.24 L20044.6 1384.24  Z\n  \" fill=\"#009af9\" fill-rule=\"evenodd\" fill-opacity=\"1\"/>\n<polyline clip-path=\"url(#clip532)\" style=\"stroke:#000000; stroke-linecap:butt; stroke-linejoin:round; stroke-width:4; stroke-opacity:1; fill:none\" points=\"\n  20044.6,1384.24 20044.6,1384.24 20147.6,1384.24 20044.6,1384.24 \n  \"/>\n<path clip-path=\"url(#clip532)\" d=\"\nM20147.6 1384.24 L20147.6 1384.24 L20250.6 1384.24 L20250.6 1384.24 L20147.6 1384.24 L20147.6 1384.24  Z\n  \" fill=\"#009af9\" fill-rule=\"evenodd\" fill-opacity=\"1\"/>\n<polyline clip-path=\"url(#clip532)\" style=\"stroke:#000000; stroke-linecap:butt; stroke-linejoin:round; stroke-width:4; stroke-opacity:1; fill:none\" points=\"\n  20147.6,1384.24 20147.6,1384.24 20250.6,1384.24 20147.6,1384.24 \n  \"/>\n<path clip-path=\"url(#clip532)\" d=\"\nM20250.6 1384.24 L20250.6 1384.24 L20353.6 1384.24 L20353.6 1384.24 L20250.6 1384.24 L20250.6 1384.24  Z\n  \" fill=\"#009af9\" fill-rule=\"evenodd\" fill-opacity=\"1\"/>\n<polyline clip-path=\"url(#clip532)\" style=\"stroke:#000000; stroke-linecap:butt; stroke-linejoin:round; stroke-width:4; stroke-opacity:1; fill:none\" points=\"\n  20250.6,1384.24 20250.6,1384.24 20353.6,1384.24 20250.6,1384.24 \n  \"/>\n<path clip-path=\"url(#clip532)\" d=\"\nM20353.6 1384.24 L20353.6 1384.24 L20456.6 1384.24 L20456.6 1384.24 L20353.6 1384.24 L20353.6 1384.24  Z\n  \" fill=\"#009af9\" fill-rule=\"evenodd\" fill-opacity=\"1\"/>\n<polyline clip-path=\"url(#clip532)\" style=\"stroke:#000000; stroke-linecap:butt; stroke-linejoin:round; stroke-width:4; stroke-opacity:1; fill:none\" points=\"\n  20353.6,1384.24 20353.6,1384.24 20456.6,1384.24 20353.6,1384.24 \n  \"/>\n<path clip-path=\"url(#clip532)\" d=\"\nM20456.6 1384.24 L20456.6 1384.24 L20559.6 1384.24 L20559.6 1384.24 L20456.6 1384.24 L20456.6 1384.24  Z\n  \" fill=\"#009af9\" fill-rule=\"evenodd\" fill-opacity=\"1\"/>\n<polyline clip-path=\"url(#clip532)\" style=\"stroke:#000000; stroke-linecap:butt; stroke-linejoin:round; stroke-width:4; stroke-opacity:1; fill:none\" points=\"\n  20456.6,1384.24 20456.6,1384.24 20559.6,1384.24 20456.6,1384.24 \n  \"/>\n<path clip-path=\"url(#clip532)\" d=\"\nM20559.6 1384.24 L20559.6 1384.24 L20662.6 1384.24 L20662.6 1384.24 L20559.6 1384.24 L20559.6 1384.24  Z\n  \" fill=\"#009af9\" fill-rule=\"evenodd\" fill-opacity=\"1\"/>\n<polyline clip-path=\"url(#clip532)\" style=\"stroke:#000000; stroke-linecap:butt; stroke-linejoin:round; stroke-width:4; stroke-opacity:1; fill:none\" points=\"\n  20559.6,1384.24 20559.6,1384.24 20662.6,1384.24 20559.6,1384.24 \n  \"/>\n<path clip-path=\"url(#clip532)\" d=\"\nM20662.6 1384.24 L20662.6 1384.24 L20765.7 1384.24 L20765.7 1384.24 L20662.6 1384.24 L20662.6 1384.24  Z\n  \" fill=\"#009af9\" fill-rule=\"evenodd\" fill-opacity=\"1\"/>\n<polyline clip-path=\"url(#clip532)\" style=\"stroke:#000000; stroke-linecap:butt; stroke-linejoin:round; stroke-width:4; stroke-opacity:1; fill:none\" points=\"\n  20662.6,1384.24 20662.6,1384.24 20765.7,1384.24 20662.6,1384.24 \n  \"/>\n<path clip-path=\"url(#clip532)\" d=\"\nM20765.7 1384.24 L20765.7 1384.24 L20868.7 1384.24 L20868.7 1384.24 L20765.7 1384.24 L20765.7 1384.24  Z\n  \" fill=\"#009af9\" fill-rule=\"evenodd\" fill-opacity=\"1\"/>\n<polyline clip-path=\"url(#clip532)\" style=\"stroke:#000000; stroke-linecap:butt; stroke-linejoin:round; stroke-width:4; stroke-opacity:1; fill:none\" points=\"\n  20765.7,1384.24 20765.7,1384.24 20868.7,1384.24 20765.7,1384.24 \n  \"/>\n<path clip-path=\"url(#clip532)\" d=\"\nM20868.7 1384.24 L20868.7 1384.24 L20971.7 1384.24 L20971.7 1384.24 L20868.7 1384.24 L20868.7 1384.24  Z\n  \" fill=\"#009af9\" fill-rule=\"evenodd\" fill-opacity=\"1\"/>\n<polyline clip-path=\"url(#clip532)\" style=\"stroke:#000000; stroke-linecap:butt; stroke-linejoin:round; stroke-width:4; stroke-opacity:1; fill:none\" points=\"\n  20868.7,1384.24 20868.7,1384.24 20971.7,1384.24 20868.7,1384.24 \n  \"/>\n<path clip-path=\"url(#clip532)\" d=\"\nM20971.7 1384.24 L20971.7 1384.24 L21074.7 1384.24 L21074.7 1384.24 L20971.7 1384.24 L20971.7 1384.24  Z\n  \" fill=\"#009af9\" fill-rule=\"evenodd\" fill-opacity=\"1\"/>\n<polyline clip-path=\"url(#clip532)\" style=\"stroke:#000000; stroke-linecap:butt; stroke-linejoin:round; stroke-width:4; stroke-opacity:1; fill:none\" points=\"\n  20971.7,1384.24 20971.7,1384.24 21074.7,1384.24 20971.7,1384.24 \n  \"/>\n<path clip-path=\"url(#clip532)\" d=\"\nM21074.7 1384.24 L21074.7 1384.24 L21177.7 1384.24 L21177.7 1384.24 L21074.7 1384.24 L21074.7 1384.24  Z\n  \" fill=\"#009af9\" fill-rule=\"evenodd\" fill-opacity=\"1\"/>\n<polyline clip-path=\"url(#clip532)\" style=\"stroke:#000000; stroke-linecap:butt; stroke-linejoin:round; stroke-width:4; stroke-opacity:1; fill:none\" points=\"\n  21074.7,1384.24 21074.7,1384.24 21177.7,1384.24 21074.7,1384.24 \n  \"/>\n<path clip-path=\"url(#clip532)\" d=\"\nM21177.7 1384.24 L21177.7 1384.24 L21280.7 1384.24 L21280.7 1384.24 L21177.7 1384.24 L21177.7 1384.24  Z\n  \" fill=\"#009af9\" fill-rule=\"evenodd\" fill-opacity=\"1\"/>\n<polyline clip-path=\"url(#clip532)\" style=\"stroke:#000000; stroke-linecap:butt; stroke-linejoin:round; stroke-width:4; stroke-opacity:1; fill:none\" points=\"\n  21177.7,1384.24 21177.7,1384.24 21280.7,1384.24 21177.7,1384.24 \n  \"/>\n<path clip-path=\"url(#clip532)\" d=\"\nM21280.7 1384.24 L21280.7 1384.24 L21383.7 1384.24 L21383.7 1384.24 L21280.7 1384.24 L21280.7 1384.24  Z\n  \" fill=\"#009af9\" fill-rule=\"evenodd\" fill-opacity=\"1\"/>\n<polyline clip-path=\"url(#clip532)\" style=\"stroke:#000000; stroke-linecap:butt; stroke-linejoin:round; stroke-width:4; stroke-opacity:1; fill:none\" points=\"\n  21280.7,1384.24 21280.7,1384.24 21383.7,1384.24 21280.7,1384.24 \n  \"/>\n<path clip-path=\"url(#clip532)\" d=\"\nM21383.7 1384.24 L21383.7 1384.24 L21486.7 1384.24 L21486.7 1384.24 L21383.7 1384.24 L21383.7 1384.24  Z\n  \" fill=\"#009af9\" fill-rule=\"evenodd\" fill-opacity=\"1\"/>\n<polyline clip-path=\"url(#clip532)\" style=\"stroke:#000000; stroke-linecap:butt; stroke-linejoin:round; stroke-width:4; stroke-opacity:1; fill:none\" points=\"\n  21383.7,1384.24 21383.7,1384.24 21486.7,1384.24 21383.7,1384.24 \n  \"/>\n<path clip-path=\"url(#clip532)\" d=\"\nM21486.7 1384.24 L21486.7 1384.24 L21589.7 1384.24 L21589.7 1384.24 L21486.7 1384.24 L21486.7 1384.24  Z\n  \" fill=\"#009af9\" fill-rule=\"evenodd\" fill-opacity=\"1\"/>\n<polyline clip-path=\"url(#clip532)\" style=\"stroke:#000000; stroke-linecap:butt; stroke-linejoin:round; stroke-width:4; stroke-opacity:1; fill:none\" points=\"\n  21486.7,1384.24 21486.7,1384.24 21589.7,1384.24 21486.7,1384.24 \n  \"/>\n<path clip-path=\"url(#clip532)\" d=\"\nM21589.7 1384.24 L21589.7 1384.24 L21692.7 1384.24 L21692.7 1384.24 L21589.7 1384.24 L21589.7 1384.24  Z\n  \" fill=\"#009af9\" fill-rule=\"evenodd\" fill-opacity=\"1\"/>\n<polyline clip-path=\"url(#clip532)\" style=\"stroke:#000000; stroke-linecap:butt; stroke-linejoin:round; stroke-width:4; stroke-opacity:1; fill:none\" points=\"\n  21589.7,1384.24 21589.7,1384.24 21692.7,1384.24 21589.7,1384.24 \n  \"/>\n<path clip-path=\"url(#clip532)\" d=\"\nM21692.7 1384.24 L21692.7 1384.24 L21795.7 1384.24 L21795.7 1384.24 L21692.7 1384.24 L21692.7 1384.24  Z\n  \" fill=\"#009af9\" fill-rule=\"evenodd\" fill-opacity=\"1\"/>\n<polyline clip-path=\"url(#clip532)\" style=\"stroke:#000000; stroke-linecap:butt; stroke-linejoin:round; stroke-width:4; stroke-opacity:1; fill:none\" points=\"\n  21692.7,1384.24 21692.7,1384.24 21795.7,1384.24 21692.7,1384.24 \n  \"/>\n<path clip-path=\"url(#clip532)\" d=\"\nM21795.7 1384.24 L21795.7 1384.24 L21898.7 1384.24 L21898.7 1384.24 L21795.7 1384.24 L21795.7 1384.24  Z\n  \" fill=\"#009af9\" fill-rule=\"evenodd\" fill-opacity=\"1\"/>\n<polyline clip-path=\"url(#clip532)\" style=\"stroke:#000000; stroke-linecap:butt; stroke-linejoin:round; stroke-width:4; stroke-opacity:1; fill:none\" points=\"\n  21795.7,1384.24 21795.7,1384.24 21898.7,1384.24 21795.7,1384.24 \n  \"/>\n<path clip-path=\"url(#clip532)\" d=\"\nM21898.7 1384.24 L21898.7 1384.24 L22001.7 1384.24 L22001.7 1384.24 L21898.7 1384.24 L21898.7 1384.24  Z\n  \" fill=\"#009af9\" fill-rule=\"evenodd\" fill-opacity=\"1\"/>\n<polyline clip-path=\"url(#clip532)\" style=\"stroke:#000000; stroke-linecap:butt; stroke-linejoin:round; stroke-width:4; stroke-opacity:1; fill:none\" points=\"\n  21898.7,1384.24 21898.7,1384.24 22001.7,1384.24 21898.7,1384.24 \n  \"/>\n<path clip-path=\"url(#clip532)\" d=\"\nM22001.7 1384.24 L22001.7 1384.24 L22104.7 1384.24 L22104.7 1384.24 L22001.7 1384.24 L22001.7 1384.24  Z\n  \" fill=\"#009af9\" fill-rule=\"evenodd\" fill-opacity=\"1\"/>\n<polyline clip-path=\"url(#clip532)\" style=\"stroke:#000000; stroke-linecap:butt; stroke-linejoin:round; stroke-width:4; stroke-opacity:1; fill:none\" points=\"\n  22001.7,1384.24 22001.7,1384.24 22104.7,1384.24 22001.7,1384.24 \n  \"/>\n<path clip-path=\"url(#clip532)\" d=\"\nM22104.7 1384.24 L22104.7 1384.24 L22207.7 1384.24 L22207.7 1384.24 L22104.7 1384.24 L22104.7 1384.24  Z\n  \" fill=\"#009af9\" fill-rule=\"evenodd\" fill-opacity=\"1\"/>\n<polyline clip-path=\"url(#clip532)\" style=\"stroke:#000000; stroke-linecap:butt; stroke-linejoin:round; stroke-width:4; stroke-opacity:1; fill:none\" points=\"\n  22104.7,1384.24 22104.7,1384.24 22207.7,1384.24 22104.7,1384.24 \n  \"/>\n<path clip-path=\"url(#clip532)\" d=\"\nM22207.7 1384.24 L22207.7 1384.24 L22310.7 1384.24 L22310.7 1384.24 L22207.7 1384.24 L22207.7 1384.24  Z\n  \" fill=\"#009af9\" fill-rule=\"evenodd\" fill-opacity=\"1\"/>\n<polyline clip-path=\"url(#clip532)\" style=\"stroke:#000000; stroke-linecap:butt; stroke-linejoin:round; stroke-width:4; stroke-opacity:1; fill:none\" points=\"\n  22207.7,1384.24 22207.7,1384.24 22310.7,1384.24 22207.7,1384.24 \n  \"/>\n<path clip-path=\"url(#clip532)\" d=\"\nM22310.7 1384.24 L22310.7 1384.24 L22413.7 1384.24 L22413.7 1384.24 L22310.7 1384.24 L22310.7 1384.24  Z\n  \" fill=\"#009af9\" fill-rule=\"evenodd\" fill-opacity=\"1\"/>\n<polyline clip-path=\"url(#clip532)\" style=\"stroke:#000000; stroke-linecap:butt; stroke-linejoin:round; stroke-width:4; stroke-opacity:1; fill:none\" points=\"\n  22310.7,1384.24 22310.7,1384.24 22413.7,1384.24 22310.7,1384.24 \n  \"/>\n<path clip-path=\"url(#clip532)\" d=\"\nM22413.7 1384.24 L22413.7 1384.24 L22516.7 1384.24 L22516.7 1384.24 L22413.7 1384.24 L22413.7 1384.24  Z\n  \" fill=\"#009af9\" fill-rule=\"evenodd\" fill-opacity=\"1\"/>\n<polyline clip-path=\"url(#clip532)\" style=\"stroke:#000000; stroke-linecap:butt; stroke-linejoin:round; stroke-width:4; stroke-opacity:1; fill:none\" points=\"\n  22413.7,1384.24 22413.7,1384.24 22516.7,1384.24 22413.7,1384.24 \n  \"/>\n<path clip-path=\"url(#clip532)\" d=\"\nM22516.7 1384.24 L22516.7 1384.24 L22619.7 1384.24 L22619.7 1384.24 L22516.7 1384.24 L22516.7 1384.24  Z\n  \" fill=\"#009af9\" fill-rule=\"evenodd\" fill-opacity=\"1\"/>\n<polyline clip-path=\"url(#clip532)\" style=\"stroke:#000000; stroke-linecap:butt; stroke-linejoin:round; stroke-width:4; stroke-opacity:1; fill:none\" points=\"\n  22516.7,1384.24 22516.7,1384.24 22619.7,1384.24 22516.7,1384.24 \n  \"/>\n<path clip-path=\"url(#clip532)\" d=\"\nM22619.7 1384.24 L22619.7 1384.24 L22722.7 1384.24 L22722.7 1384.24 L22619.7 1384.24 L22619.7 1384.24  Z\n  \" fill=\"#009af9\" fill-rule=\"evenodd\" fill-opacity=\"1\"/>\n<polyline clip-path=\"url(#clip532)\" style=\"stroke:#000000; stroke-linecap:butt; stroke-linejoin:round; stroke-width:4; stroke-opacity:1; fill:none\" points=\"\n  22619.7,1384.24 22619.7,1384.24 22722.7,1384.24 22619.7,1384.24 \n  \"/>\n<path clip-path=\"url(#clip532)\" d=\"\nM22722.7 1384.24 L22722.7 1384.24 L22825.7 1384.24 L22825.7 1384.24 L22722.7 1384.24 L22722.7 1384.24  Z\n  \" fill=\"#009af9\" fill-rule=\"evenodd\" fill-opacity=\"1\"/>\n<polyline clip-path=\"url(#clip532)\" style=\"stroke:#000000; stroke-linecap:butt; stroke-linejoin:round; stroke-width:4; stroke-opacity:1; fill:none\" points=\"\n  22722.7,1384.24 22722.7,1384.24 22825.7,1384.24 22722.7,1384.24 \n  \"/>\n<path clip-path=\"url(#clip532)\" d=\"\nM22825.7 1384.24 L22825.7 1384.24 L22928.7 1384.24 L22928.7 1384.24 L22825.7 1384.24 L22825.7 1384.24  Z\n  \" fill=\"#009af9\" fill-rule=\"evenodd\" fill-opacity=\"1\"/>\n<polyline clip-path=\"url(#clip532)\" style=\"stroke:#000000; stroke-linecap:butt; stroke-linejoin:round; stroke-width:4; stroke-opacity:1; fill:none\" points=\"\n  22825.7,1384.24 22825.7,1384.24 22928.7,1384.24 22825.7,1384.24 \n  \"/>\n<path clip-path=\"url(#clip532)\" d=\"\nM22928.7 1384.24 L22928.7 1384.24 L23031.8 1384.24 L23031.8 1384.24 L22928.7 1384.24 L22928.7 1384.24  Z\n  \" fill=\"#009af9\" fill-rule=\"evenodd\" fill-opacity=\"1\"/>\n<polyline clip-path=\"url(#clip532)\" style=\"stroke:#000000; stroke-linecap:butt; stroke-linejoin:round; stroke-width:4; stroke-opacity:1; fill:none\" points=\"\n  22928.7,1384.24 22928.7,1384.24 23031.8,1384.24 22928.7,1384.24 \n  \"/>\n<path clip-path=\"url(#clip532)\" d=\"\nM23031.8 1384.24 L23031.8 1384.24 L23134.8 1384.24 L23134.8 1384.24 L23031.8 1384.24 L23031.8 1384.24  Z\n  \" fill=\"#009af9\" fill-rule=\"evenodd\" fill-opacity=\"1\"/>\n<polyline clip-path=\"url(#clip532)\" style=\"stroke:#000000; stroke-linecap:butt; stroke-linejoin:round; stroke-width:4; stroke-opacity:1; fill:none\" points=\"\n  23031.8,1384.24 23031.8,1384.24 23134.8,1384.24 23031.8,1384.24 \n  \"/>\n<path clip-path=\"url(#clip532)\" d=\"\nM23134.8 1384.24 L23134.8 1384.24 L23237.8 1384.24 L23237.8 1384.24 L23134.8 1384.24 L23134.8 1384.24  Z\n  \" fill=\"#009af9\" fill-rule=\"evenodd\" fill-opacity=\"1\"/>\n<polyline clip-path=\"url(#clip532)\" style=\"stroke:#000000; stroke-linecap:butt; stroke-linejoin:round; stroke-width:4; stroke-opacity:1; fill:none\" points=\"\n  23134.8,1384.24 23134.8,1384.24 23237.8,1384.24 23134.8,1384.24 \n  \"/>\n<path clip-path=\"url(#clip532)\" d=\"\nM23237.8 1384.24 L23237.8 1384.24 L23340.8 1384.24 L23340.8 1384.24 L23237.8 1384.24 L23237.8 1384.24  Z\n  \" fill=\"#009af9\" fill-rule=\"evenodd\" fill-opacity=\"1\"/>\n<polyline clip-path=\"url(#clip532)\" style=\"stroke:#000000; stroke-linecap:butt; stroke-linejoin:round; stroke-width:4; stroke-opacity:1; fill:none\" points=\"\n  23237.8,1384.24 23237.8,1384.24 23340.8,1384.24 23237.8,1384.24 \n  \"/>\n<path clip-path=\"url(#clip532)\" d=\"\nM23340.8 1384.24 L23340.8 1384.24 L23443.8 1384.24 L23443.8 1384.24 L23340.8 1384.24 L23340.8 1384.24  Z\n  \" fill=\"#009af9\" fill-rule=\"evenodd\" fill-opacity=\"1\"/>\n<polyline clip-path=\"url(#clip532)\" style=\"stroke:#000000; stroke-linecap:butt; stroke-linejoin:round; stroke-width:4; stroke-opacity:1; fill:none\" points=\"\n  23340.8,1384.24 23340.8,1384.24 23443.8,1384.24 23340.8,1384.24 \n  \"/>\n<path clip-path=\"url(#clip532)\" d=\"\nM23443.8 1384.24 L23443.8 1384.24 L23546.8 1384.24 L23546.8 1384.24 L23443.8 1384.24 L23443.8 1384.24  Z\n  \" fill=\"#009af9\" fill-rule=\"evenodd\" fill-opacity=\"1\"/>\n<polyline clip-path=\"url(#clip532)\" style=\"stroke:#000000; stroke-linecap:butt; stroke-linejoin:round; stroke-width:4; stroke-opacity:1; fill:none\" points=\"\n  23443.8,1384.24 23443.8,1384.24 23546.8,1384.24 23443.8,1384.24 \n  \"/>\n<path clip-path=\"url(#clip532)\" d=\"\nM23546.8 1384.24 L23546.8 1384.24 L23649.8 1384.24 L23649.8 1384.24 L23546.8 1384.24 L23546.8 1384.24  Z\n  \" fill=\"#009af9\" fill-rule=\"evenodd\" fill-opacity=\"1\"/>\n<polyline clip-path=\"url(#clip532)\" style=\"stroke:#000000; stroke-linecap:butt; stroke-linejoin:round; stroke-width:4; stroke-opacity:1; fill:none\" points=\"\n  23546.8,1384.24 23546.8,1384.24 23649.8,1384.24 23546.8,1384.24 \n  \"/>\n<path clip-path=\"url(#clip532)\" d=\"\nM23649.8 1384.24 L23649.8 1384.24 L23752.8 1384.24 L23752.8 1384.24 L23649.8 1384.24 L23649.8 1384.24  Z\n  \" fill=\"#009af9\" fill-rule=\"evenodd\" fill-opacity=\"1\"/>\n<polyline clip-path=\"url(#clip532)\" style=\"stroke:#000000; stroke-linecap:butt; stroke-linejoin:round; stroke-width:4; stroke-opacity:1; fill:none\" points=\"\n  23649.8,1384.24 23649.8,1384.24 23752.8,1384.24 23649.8,1384.24 \n  \"/>\n<path clip-path=\"url(#clip532)\" d=\"\nM23752.8 1384.24 L23752.8 1384.24 L23855.8 1384.24 L23855.8 1384.24 L23752.8 1384.24 L23752.8 1384.24  Z\n  \" fill=\"#009af9\" fill-rule=\"evenodd\" fill-opacity=\"1\"/>\n<polyline clip-path=\"url(#clip532)\" style=\"stroke:#000000; stroke-linecap:butt; stroke-linejoin:round; stroke-width:4; stroke-opacity:1; fill:none\" points=\"\n  23752.8,1384.24 23752.8,1384.24 23855.8,1384.24 23752.8,1384.24 \n  \"/>\n<path clip-path=\"url(#clip532)\" d=\"\nM23855.8 1384.24 L23855.8 1384.24 L23958.8 1384.24 L23958.8 1384.24 L23855.8 1384.24 L23855.8 1384.24  Z\n  \" fill=\"#009af9\" fill-rule=\"evenodd\" fill-opacity=\"1\"/>\n<polyline clip-path=\"url(#clip532)\" style=\"stroke:#000000; stroke-linecap:butt; stroke-linejoin:round; stroke-width:4; stroke-opacity:1; fill:none\" points=\"\n  23855.8,1384.24 23855.8,1384.24 23958.8,1384.24 23855.8,1384.24 \n  \"/>\n<path clip-path=\"url(#clip532)\" d=\"\nM23958.8 1384.24 L23958.8 1384.24 L24061.8 1384.24 L24061.8 1384.24 L23958.8 1384.24 L23958.8 1384.24  Z\n  \" fill=\"#009af9\" fill-rule=\"evenodd\" fill-opacity=\"1\"/>\n<polyline clip-path=\"url(#clip532)\" style=\"stroke:#000000; stroke-linecap:butt; stroke-linejoin:round; stroke-width:4; stroke-opacity:1; fill:none\" points=\"\n  23958.8,1384.24 23958.8,1384.24 24061.8,1384.24 23958.8,1384.24 \n  \"/>\n<path clip-path=\"url(#clip532)\" d=\"\nM24061.8 1384.24 L24061.8 1384.24 L24164.8 1384.24 L24164.8 1384.24 L24061.8 1384.24 L24061.8 1384.24  Z\n  \" fill=\"#009af9\" fill-rule=\"evenodd\" fill-opacity=\"1\"/>\n<polyline clip-path=\"url(#clip532)\" style=\"stroke:#000000; stroke-linecap:butt; stroke-linejoin:round; stroke-width:4; stroke-opacity:1; fill:none\" points=\"\n  24061.8,1384.24 24061.8,1384.24 24164.8,1384.24 24061.8,1384.24 \n  \"/>\n<path clip-path=\"url(#clip532)\" d=\"\nM24164.8 1384.24 L24164.8 1384.24 L24267.8 1384.24 L24267.8 1384.24 L24164.8 1384.24 L24164.8 1384.24  Z\n  \" fill=\"#009af9\" fill-rule=\"evenodd\" fill-opacity=\"1\"/>\n<polyline clip-path=\"url(#clip532)\" style=\"stroke:#000000; stroke-linecap:butt; stroke-linejoin:round; stroke-width:4; stroke-opacity:1; fill:none\" points=\"\n  24164.8,1384.24 24164.8,1384.24 24267.8,1384.24 24164.8,1384.24 \n  \"/>\n<path clip-path=\"url(#clip532)\" d=\"\nM24267.8 1384.24 L24267.8 1384.24 L24370.8 1384.24 L24370.8 1384.24 L24267.8 1384.24 L24267.8 1384.24  Z\n  \" fill=\"#009af9\" fill-rule=\"evenodd\" fill-opacity=\"1\"/>\n<polyline clip-path=\"url(#clip532)\" style=\"stroke:#000000; stroke-linecap:butt; stroke-linejoin:round; stroke-width:4; stroke-opacity:1; fill:none\" points=\"\n  24267.8,1384.24 24267.8,1384.24 24370.8,1384.24 24267.8,1384.24 \n  \"/>\n<path clip-path=\"url(#clip532)\" d=\"\nM24370.8 1384.24 L24370.8 1384.24 L24473.8 1384.24 L24473.8 1384.24 L24370.8 1384.24 L24370.8 1384.24  Z\n  \" fill=\"#009af9\" fill-rule=\"evenodd\" fill-opacity=\"1\"/>\n<polyline clip-path=\"url(#clip532)\" style=\"stroke:#000000; stroke-linecap:butt; stroke-linejoin:round; stroke-width:4; stroke-opacity:1; fill:none\" points=\"\n  24370.8,1384.24 24370.8,1384.24 24473.8,1384.24 24370.8,1384.24 \n  \"/>\n<path clip-path=\"url(#clip532)\" d=\"\nM24473.8 1384.24 L24473.8 1384.24 L24576.8 1384.24 L24576.8 1384.24 L24473.8 1384.24 L24473.8 1384.24  Z\n  \" fill=\"#009af9\" fill-rule=\"evenodd\" fill-opacity=\"1\"/>\n<polyline clip-path=\"url(#clip532)\" style=\"stroke:#000000; stroke-linecap:butt; stroke-linejoin:round; stroke-width:4; stroke-opacity:1; fill:none\" points=\"\n  24473.8,1384.24 24473.8,1384.24 24576.8,1384.24 24473.8,1384.24 \n  \"/>\n<path clip-path=\"url(#clip532)\" d=\"\nM24576.8 1384.24 L24576.8 1384.24 L24679.8 1384.24 L24679.8 1384.24 L24576.8 1384.24 L24576.8 1384.24  Z\n  \" fill=\"#009af9\" fill-rule=\"evenodd\" fill-opacity=\"1\"/>\n<polyline clip-path=\"url(#clip532)\" style=\"stroke:#000000; stroke-linecap:butt; stroke-linejoin:round; stroke-width:4; stroke-opacity:1; fill:none\" points=\"\n  24576.8,1384.24 24576.8,1384.24 24679.8,1384.24 24576.8,1384.24 \n  \"/>\n<path clip-path=\"url(#clip532)\" d=\"\nM24679.8 1384.24 L24679.8 1384.24 L24782.8 1384.24 L24782.8 1384.24 L24679.8 1384.24 L24679.8 1384.24  Z\n  \" fill=\"#009af9\" fill-rule=\"evenodd\" fill-opacity=\"1\"/>\n<polyline clip-path=\"url(#clip532)\" style=\"stroke:#000000; stroke-linecap:butt; stroke-linejoin:round; stroke-width:4; stroke-opacity:1; fill:none\" points=\"\n  24679.8,1384.24 24679.8,1384.24 24782.8,1384.24 24679.8,1384.24 \n  \"/>\n<path clip-path=\"url(#clip532)\" d=\"\nM24782.8 1384.24 L24782.8 1384.24 L24885.8 1384.24 L24885.8 1384.24 L24782.8 1384.24 L24782.8 1384.24  Z\n  \" fill=\"#009af9\" fill-rule=\"evenodd\" fill-opacity=\"1\"/>\n<polyline clip-path=\"url(#clip532)\" style=\"stroke:#000000; stroke-linecap:butt; stroke-linejoin:round; stroke-width:4; stroke-opacity:1; fill:none\" points=\"\n  24782.8,1384.24 24782.8,1384.24 24885.8,1384.24 24782.8,1384.24 \n  \"/>\n<path clip-path=\"url(#clip532)\" d=\"\nM24885.8 1384.24 L24885.8 1384.24 L24988.8 1384.24 L24988.8 1384.24 L24885.8 1384.24 L24885.8 1384.24  Z\n  \" fill=\"#009af9\" fill-rule=\"evenodd\" fill-opacity=\"1\"/>\n<polyline clip-path=\"url(#clip532)\" style=\"stroke:#000000; stroke-linecap:butt; stroke-linejoin:round; stroke-width:4; stroke-opacity:1; fill:none\" points=\"\n  24885.8,1384.24 24885.8,1384.24 24988.8,1384.24 24885.8,1384.24 \n  \"/>\n<path clip-path=\"url(#clip532)\" d=\"\nM24988.8 1384.24 L24988.8 1384.24 L25091.8 1384.24 L25091.8 1384.24 L24988.8 1384.24 L24988.8 1384.24  Z\n  \" fill=\"#009af9\" fill-rule=\"evenodd\" fill-opacity=\"1\"/>\n<polyline clip-path=\"url(#clip532)\" style=\"stroke:#000000; stroke-linecap:butt; stroke-linejoin:round; stroke-width:4; stroke-opacity:1; fill:none\" points=\"\n  24988.8,1384.24 24988.8,1384.24 25091.8,1384.24 24988.8,1384.24 \n  \"/>\n<path clip-path=\"url(#clip532)\" d=\"\nM25091.8 1384.24 L25091.8 1384.24 L25194.8 1384.24 L25194.8 1384.24 L25091.8 1384.24 L25091.8 1384.24  Z\n  \" fill=\"#009af9\" fill-rule=\"evenodd\" fill-opacity=\"1\"/>\n<polyline clip-path=\"url(#clip532)\" style=\"stroke:#000000; stroke-linecap:butt; stroke-linejoin:round; stroke-width:4; stroke-opacity:1; fill:none\" points=\"\n  25091.8,1384.24 25091.8,1384.24 25194.8,1384.24 25091.8,1384.24 \n  \"/>\n<path clip-path=\"url(#clip532)\" d=\"\nM25194.8 1384.24 L25194.8 1384.24 L25297.9 1384.24 L25297.9 1384.24 L25194.8 1384.24 L25194.8 1384.24  Z\n  \" fill=\"#009af9\" fill-rule=\"evenodd\" fill-opacity=\"1\"/>\n<polyline clip-path=\"url(#clip532)\" style=\"stroke:#000000; stroke-linecap:butt; stroke-linejoin:round; stroke-width:4; stroke-opacity:1; fill:none\" points=\"\n  25194.8,1384.24 25194.8,1384.24 25297.9,1384.24 25194.8,1384.24 \n  \"/>\n<path clip-path=\"url(#clip532)\" d=\"\nM25297.9 1384.24 L25297.9 1384.24 L25400.9 1384.24 L25400.9 1384.24 L25297.9 1384.24 L25297.9 1384.24  Z\n  \" fill=\"#009af9\" fill-rule=\"evenodd\" fill-opacity=\"1\"/>\n<polyline clip-path=\"url(#clip532)\" style=\"stroke:#000000; stroke-linecap:butt; stroke-linejoin:round; stroke-width:4; stroke-opacity:1; fill:none\" points=\"\n  25297.9,1384.24 25297.9,1384.24 25400.9,1384.24 25297.9,1384.24 \n  \"/>\n<path clip-path=\"url(#clip532)\" d=\"\nM25400.9 1384.24 L25400.9 1384.24 L25503.9 1384.24 L25503.9 1384.24 L25400.9 1384.24 L25400.9 1384.24  Z\n  \" fill=\"#009af9\" fill-rule=\"evenodd\" fill-opacity=\"1\"/>\n<polyline clip-path=\"url(#clip532)\" style=\"stroke:#000000; stroke-linecap:butt; stroke-linejoin:round; stroke-width:4; stroke-opacity:1; fill:none\" points=\"\n  25400.9,1384.24 25400.9,1384.24 25503.9,1384.24 25400.9,1384.24 \n  \"/>\n<path clip-path=\"url(#clip532)\" d=\"\nM25503.9 1384.24 L25503.9 1384.24 L25606.9 1384.24 L25606.9 1384.24 L25503.9 1384.24 L25503.9 1384.24  Z\n  \" fill=\"#009af9\" fill-rule=\"evenodd\" fill-opacity=\"1\"/>\n<polyline clip-path=\"url(#clip532)\" style=\"stroke:#000000; stroke-linecap:butt; stroke-linejoin:round; stroke-width:4; stroke-opacity:1; fill:none\" points=\"\n  25503.9,1384.24 25503.9,1384.24 25606.9,1384.24 25503.9,1384.24 \n  \"/>\n<path clip-path=\"url(#clip532)\" d=\"\nM25606.9 1384.24 L25606.9 1384.24 L25709.9 1384.24 L25709.9 1384.24 L25606.9 1384.24 L25606.9 1384.24  Z\n  \" fill=\"#009af9\" fill-rule=\"evenodd\" fill-opacity=\"1\"/>\n<polyline clip-path=\"url(#clip532)\" style=\"stroke:#000000; stroke-linecap:butt; stroke-linejoin:round; stroke-width:4; stroke-opacity:1; fill:none\" points=\"\n  25606.9,1384.24 25606.9,1384.24 25709.9,1384.24 25606.9,1384.24 \n  \"/>\n<path clip-path=\"url(#clip532)\" d=\"\nM25709.9 1384.24 L25709.9 1384.24 L25812.9 1384.24 L25812.9 1384.24 L25709.9 1384.24 L25709.9 1384.24  Z\n  \" fill=\"#009af9\" fill-rule=\"evenodd\" fill-opacity=\"1\"/>\n<polyline clip-path=\"url(#clip532)\" style=\"stroke:#000000; stroke-linecap:butt; stroke-linejoin:round; stroke-width:4; stroke-opacity:1; fill:none\" points=\"\n  25709.9,1384.24 25709.9,1384.24 25812.9,1384.24 25709.9,1384.24 \n  \"/>\n<path clip-path=\"url(#clip532)\" d=\"\nM25812.9 1384.24 L25812.9 1384.24 L25915.9 1384.24 L25915.9 1384.24 L25812.9 1384.24 L25812.9 1384.24  Z\n  \" fill=\"#009af9\" fill-rule=\"evenodd\" fill-opacity=\"1\"/>\n<polyline clip-path=\"url(#clip532)\" style=\"stroke:#000000; stroke-linecap:butt; stroke-linejoin:round; stroke-width:4; stroke-opacity:1; fill:none\" points=\"\n  25812.9,1384.24 25812.9,1384.24 25915.9,1384.24 25812.9,1384.24 \n  \"/>\n<path clip-path=\"url(#clip532)\" d=\"\nM25915.9 1384.24 L25915.9 1384.24 L26018.9 1384.24 L26018.9 1384.24 L25915.9 1384.24 L25915.9 1384.24  Z\n  \" fill=\"#009af9\" fill-rule=\"evenodd\" fill-opacity=\"1\"/>\n<polyline clip-path=\"url(#clip532)\" style=\"stroke:#000000; stroke-linecap:butt; stroke-linejoin:round; stroke-width:4; stroke-opacity:1; fill:none\" points=\"\n  25915.9,1384.24 25915.9,1384.24 26018.9,1384.24 25915.9,1384.24 \n  \"/>\n<path clip-path=\"url(#clip532)\" d=\"\nM26018.9 1384.24 L26018.9 1384.24 L26121.9 1384.24 L26121.9 1384.24 L26018.9 1384.24 L26018.9 1384.24  Z\n  \" fill=\"#009af9\" fill-rule=\"evenodd\" fill-opacity=\"1\"/>\n<polyline clip-path=\"url(#clip532)\" style=\"stroke:#000000; stroke-linecap:butt; stroke-linejoin:round; stroke-width:4; stroke-opacity:1; fill:none\" points=\"\n  26018.9,1384.24 26018.9,1384.24 26121.9,1384.24 26018.9,1384.24 \n  \"/>\n<path clip-path=\"url(#clip532)\" d=\"\nM26121.9 1384.24 L26121.9 1384.24 L26224.9 1384.24 L26224.9 1384.24 L26121.9 1384.24 L26121.9 1384.24  Z\n  \" fill=\"#009af9\" fill-rule=\"evenodd\" fill-opacity=\"1\"/>\n<polyline clip-path=\"url(#clip532)\" style=\"stroke:#000000; stroke-linecap:butt; stroke-linejoin:round; stroke-width:4; stroke-opacity:1; fill:none\" points=\"\n  26121.9,1384.24 26121.9,1384.24 26224.9,1384.24 26121.9,1384.24 \n  \"/>\n<path clip-path=\"url(#clip532)\" d=\"\nM26224.9 1384.24 L26224.9 1384.24 L26327.9 1384.24 L26327.9 1384.24 L26224.9 1384.24 L26224.9 1384.24  Z\n  \" fill=\"#009af9\" fill-rule=\"evenodd\" fill-opacity=\"1\"/>\n<polyline clip-path=\"url(#clip532)\" style=\"stroke:#000000; stroke-linecap:butt; stroke-linejoin:round; stroke-width:4; stroke-opacity:1; fill:none\" points=\"\n  26224.9,1384.24 26224.9,1384.24 26327.9,1384.24 26224.9,1384.24 \n  \"/>\n<path clip-path=\"url(#clip532)\" d=\"\nM26327.9 1384.24 L26327.9 1384.24 L26430.9 1384.24 L26430.9 1384.24 L26327.9 1384.24 L26327.9 1384.24  Z\n  \" fill=\"#009af9\" fill-rule=\"evenodd\" fill-opacity=\"1\"/>\n<polyline clip-path=\"url(#clip532)\" style=\"stroke:#000000; stroke-linecap:butt; stroke-linejoin:round; stroke-width:4; stroke-opacity:1; fill:none\" points=\"\n  26327.9,1384.24 26327.9,1384.24 26430.9,1384.24 26327.9,1384.24 \n  \"/>\n<path clip-path=\"url(#clip532)\" d=\"\nM26430.9 1384.24 L26430.9 1384.24 L26533.9 1384.24 L26533.9 1384.24 L26430.9 1384.24 L26430.9 1384.24  Z\n  \" fill=\"#009af9\" fill-rule=\"evenodd\" fill-opacity=\"1\"/>\n<polyline clip-path=\"url(#clip532)\" style=\"stroke:#000000; stroke-linecap:butt; stroke-linejoin:round; stroke-width:4; stroke-opacity:1; fill:none\" points=\"\n  26430.9,1384.24 26430.9,1384.24 26533.9,1384.24 26430.9,1384.24 \n  \"/>\n<path clip-path=\"url(#clip532)\" d=\"\nM26533.9 1384.24 L26533.9 1384.24 L26636.9 1384.24 L26636.9 1384.24 L26533.9 1384.24 L26533.9 1384.24  Z\n  \" fill=\"#009af9\" fill-rule=\"evenodd\" fill-opacity=\"1\"/>\n<polyline clip-path=\"url(#clip532)\" style=\"stroke:#000000; stroke-linecap:butt; stroke-linejoin:round; stroke-width:4; stroke-opacity:1; fill:none\" points=\"\n  26533.9,1384.24 26533.9,1384.24 26636.9,1384.24 26533.9,1384.24 \n  \"/>\n<path clip-path=\"url(#clip532)\" d=\"\nM26636.9 1384.24 L26636.9 1384.24 L26739.9 1384.24 L26739.9 1384.24 L26636.9 1384.24 L26636.9 1384.24  Z\n  \" fill=\"#009af9\" fill-rule=\"evenodd\" fill-opacity=\"1\"/>\n<polyline clip-path=\"url(#clip532)\" style=\"stroke:#000000; stroke-linecap:butt; stroke-linejoin:round; stroke-width:4; stroke-opacity:1; fill:none\" points=\"\n  26636.9,1384.24 26636.9,1384.24 26739.9,1384.24 26636.9,1384.24 \n  \"/>\n<path clip-path=\"url(#clip532)\" d=\"\nM26739.9 1384.24 L26739.9 1384.24 L26842.9 1384.24 L26842.9 1384.24 L26739.9 1384.24 L26739.9 1384.24  Z\n  \" fill=\"#009af9\" fill-rule=\"evenodd\" fill-opacity=\"1\"/>\n<polyline clip-path=\"url(#clip532)\" style=\"stroke:#000000; stroke-linecap:butt; stroke-linejoin:round; stroke-width:4; stroke-opacity:1; fill:none\" points=\"\n  26739.9,1384.24 26739.9,1384.24 26842.9,1384.24 26739.9,1384.24 \n  \"/>\n<path clip-path=\"url(#clip532)\" d=\"\nM26842.9 1384.24 L26842.9 1384.24 L26945.9 1384.24 L26945.9 1384.24 L26842.9 1384.24 L26842.9 1384.24  Z\n  \" fill=\"#009af9\" fill-rule=\"evenodd\" fill-opacity=\"1\"/>\n<polyline clip-path=\"url(#clip532)\" style=\"stroke:#000000; stroke-linecap:butt; stroke-linejoin:round; stroke-width:4; stroke-opacity:1; fill:none\" points=\"\n  26842.9,1384.24 26842.9,1384.24 26945.9,1384.24 26842.9,1384.24 \n  \"/>\n<path clip-path=\"url(#clip532)\" d=\"\nM26945.9 1384.24 L26945.9 1384.24 L27048.9 1384.24 L27048.9 1384.24 L26945.9 1384.24 L26945.9 1384.24  Z\n  \" fill=\"#009af9\" fill-rule=\"evenodd\" fill-opacity=\"1\"/>\n<polyline clip-path=\"url(#clip532)\" style=\"stroke:#000000; stroke-linecap:butt; stroke-linejoin:round; stroke-width:4; stroke-opacity:1; fill:none\" points=\"\n  26945.9,1384.24 26945.9,1384.24 27048.9,1384.24 26945.9,1384.24 \n  \"/>\n<path clip-path=\"url(#clip532)\" d=\"\nM27048.9 1384.24 L27048.9 1384.24 L27151.9 1384.24 L27151.9 1384.24 L27048.9 1384.24 L27048.9 1384.24  Z\n  \" fill=\"#009af9\" fill-rule=\"evenodd\" fill-opacity=\"1\"/>\n<polyline clip-path=\"url(#clip532)\" style=\"stroke:#000000; stroke-linecap:butt; stroke-linejoin:round; stroke-width:4; stroke-opacity:1; fill:none\" points=\"\n  27048.9,1384.24 27048.9,1384.24 27151.9,1384.24 27048.9,1384.24 \n  \"/>\n<path clip-path=\"url(#clip532)\" d=\"\nM27151.9 1384.24 L27151.9 1384.24 L27254.9 1384.24 L27254.9 1384.24 L27151.9 1384.24 L27151.9 1384.24  Z\n  \" fill=\"#009af9\" fill-rule=\"evenodd\" fill-opacity=\"1\"/>\n<polyline clip-path=\"url(#clip532)\" style=\"stroke:#000000; stroke-linecap:butt; stroke-linejoin:round; stroke-width:4; stroke-opacity:1; fill:none\" points=\"\n  27151.9,1384.24 27151.9,1384.24 27254.9,1384.24 27151.9,1384.24 \n  \"/>\n<path clip-path=\"url(#clip532)\" d=\"\nM27254.9 1384.24 L27254.9 1384.24 L27357.9 1384.24 L27357.9 1384.24 L27254.9 1384.24 L27254.9 1384.24  Z\n  \" fill=\"#009af9\" fill-rule=\"evenodd\" fill-opacity=\"1\"/>\n<polyline clip-path=\"url(#clip532)\" style=\"stroke:#000000; stroke-linecap:butt; stroke-linejoin:round; stroke-width:4; stroke-opacity:1; fill:none\" points=\"\n  27254.9,1384.24 27254.9,1384.24 27357.9,1384.24 27254.9,1384.24 \n  \"/>\n<path clip-path=\"url(#clip532)\" d=\"\nM27357.9 1384.24 L27357.9 1384.24 L27460.9 1384.24 L27460.9 1384.24 L27357.9 1384.24 L27357.9 1384.24  Z\n  \" fill=\"#009af9\" fill-rule=\"evenodd\" fill-opacity=\"1\"/>\n<polyline clip-path=\"url(#clip532)\" style=\"stroke:#000000; stroke-linecap:butt; stroke-linejoin:round; stroke-width:4; stroke-opacity:1; fill:none\" points=\"\n  27357.9,1384.24 27357.9,1384.24 27460.9,1384.24 27357.9,1384.24 \n  \"/>\n<path clip-path=\"url(#clip532)\" d=\"\nM27460.9 1384.24 L27460.9 1384.24 L27564 1384.24 L27564 1384.24 L27460.9 1384.24 L27460.9 1384.24  Z\n  \" fill=\"#009af9\" fill-rule=\"evenodd\" fill-opacity=\"1\"/>\n<polyline clip-path=\"url(#clip532)\" style=\"stroke:#000000; stroke-linecap:butt; stroke-linejoin:round; stroke-width:4; stroke-opacity:1; fill:none\" points=\"\n  27460.9,1384.24 27460.9,1384.24 27564,1384.24 27460.9,1384.24 \n  \"/>\n<path clip-path=\"url(#clip532)\" d=\"\nM27564 1384.24 L27564 1384.24 L27667 1384.24 L27667 1384.24 L27564 1384.24 L27564 1384.24  Z\n  \" fill=\"#009af9\" fill-rule=\"evenodd\" fill-opacity=\"1\"/>\n<polyline clip-path=\"url(#clip532)\" style=\"stroke:#000000; stroke-linecap:butt; stroke-linejoin:round; stroke-width:4; stroke-opacity:1; fill:none\" points=\"\n  27564,1384.24 27564,1384.24 27667,1384.24 27564,1384.24 \n  \"/>\n<path clip-path=\"url(#clip532)\" d=\"\nM27667 1384.24 L27667 1384.24 L27770 1384.24 L27770 1384.24 L27667 1384.24 L27667 1384.24  Z\n  \" fill=\"#009af9\" fill-rule=\"evenodd\" fill-opacity=\"1\"/>\n<polyline clip-path=\"url(#clip532)\" style=\"stroke:#000000; stroke-linecap:butt; stroke-linejoin:round; stroke-width:4; stroke-opacity:1; fill:none\" points=\"\n  27667,1384.24 27667,1384.24 27770,1384.24 27667,1384.24 \n  \"/>\n<path clip-path=\"url(#clip532)\" d=\"\nM27770 1384.24 L27770 1384.24 L27873 1384.24 L27873 1384.24 L27770 1384.24 L27770 1384.24  Z\n  \" fill=\"#009af9\" fill-rule=\"evenodd\" fill-opacity=\"1\"/>\n<polyline clip-path=\"url(#clip532)\" style=\"stroke:#000000; stroke-linecap:butt; stroke-linejoin:round; stroke-width:4; stroke-opacity:1; fill:none\" points=\"\n  27770,1384.24 27770,1384.24 27873,1384.24 27770,1384.24 \n  \"/>\n<path clip-path=\"url(#clip532)\" d=\"\nM27873 1384.24 L27873 1384.24 L27976 1384.24 L27976 1384.24 L27873 1384.24 L27873 1384.24  Z\n  \" fill=\"#009af9\" fill-rule=\"evenodd\" fill-opacity=\"1\"/>\n<polyline clip-path=\"url(#clip532)\" style=\"stroke:#000000; stroke-linecap:butt; stroke-linejoin:round; stroke-width:4; stroke-opacity:1; fill:none\" points=\"\n  27873,1384.24 27873,1384.24 27976,1384.24 27873,1384.24 \n  \"/>\n<path clip-path=\"url(#clip532)\" d=\"\nM27976 1384.24 L27976 1384.24 L28079 1384.24 L28079 1384.24 L27976 1384.24 L27976 1384.24  Z\n  \" fill=\"#009af9\" fill-rule=\"evenodd\" fill-opacity=\"1\"/>\n<polyline clip-path=\"url(#clip532)\" style=\"stroke:#000000; stroke-linecap:butt; stroke-linejoin:round; stroke-width:4; stroke-opacity:1; fill:none\" points=\"\n  27976,1384.24 27976,1384.24 28079,1384.24 27976,1384.24 \n  \"/>\n<path clip-path=\"url(#clip532)\" d=\"\nM28079 1384.24 L28079 1384.24 L28182 1384.24 L28182 1384.24 L28079 1384.24 L28079 1384.24  Z\n  \" fill=\"#009af9\" fill-rule=\"evenodd\" fill-opacity=\"1\"/>\n<polyline clip-path=\"url(#clip532)\" style=\"stroke:#000000; stroke-linecap:butt; stroke-linejoin:round; stroke-width:4; stroke-opacity:1; fill:none\" points=\"\n  28079,1384.24 28079,1384.24 28182,1384.24 28079,1384.24 \n  \"/>\n<path clip-path=\"url(#clip532)\" d=\"\nM28182 1384.24 L28182 1384.24 L28285 1384.24 L28285 1384.24 L28182 1384.24 L28182 1384.24  Z\n  \" fill=\"#009af9\" fill-rule=\"evenodd\" fill-opacity=\"1\"/>\n<polyline clip-path=\"url(#clip532)\" style=\"stroke:#000000; stroke-linecap:butt; stroke-linejoin:round; stroke-width:4; stroke-opacity:1; fill:none\" points=\"\n  28182,1384.24 28182,1384.24 28285,1384.24 28182,1384.24 \n  \"/>\n<path clip-path=\"url(#clip532)\" d=\"\nM28285 1384.24 L28285 1384.24 L28388 1384.24 L28388 1384.24 L28285 1384.24 L28285 1384.24  Z\n  \" fill=\"#009af9\" fill-rule=\"evenodd\" fill-opacity=\"1\"/>\n<polyline clip-path=\"url(#clip532)\" style=\"stroke:#000000; stroke-linecap:butt; stroke-linejoin:round; stroke-width:4; stroke-opacity:1; fill:none\" points=\"\n  28285,1384.24 28285,1384.24 28388,1384.24 28285,1384.24 \n  \"/>\n<path clip-path=\"url(#clip532)\" d=\"\nM28388 1384.24 L28388 1384.24 L28491 1384.24 L28491 1384.24 L28388 1384.24 L28388 1384.24  Z\n  \" fill=\"#009af9\" fill-rule=\"evenodd\" fill-opacity=\"1\"/>\n<polyline clip-path=\"url(#clip532)\" style=\"stroke:#000000; stroke-linecap:butt; stroke-linejoin:round; stroke-width:4; stroke-opacity:1; fill:none\" points=\"\n  28388,1384.24 28388,1384.24 28491,1384.24 28388,1384.24 \n  \"/>\n<path clip-path=\"url(#clip532)\" d=\"\nM28491 1384.24 L28491 1384.24 L28594 1384.24 L28594 1384.24 L28491 1384.24 L28491 1384.24  Z\n  \" fill=\"#009af9\" fill-rule=\"evenodd\" fill-opacity=\"1\"/>\n<polyline clip-path=\"url(#clip532)\" style=\"stroke:#000000; stroke-linecap:butt; stroke-linejoin:round; stroke-width:4; stroke-opacity:1; fill:none\" points=\"\n  28491,1384.24 28491,1384.24 28594,1384.24 28491,1384.24 \n  \"/>\n<path clip-path=\"url(#clip532)\" d=\"\nM28594 1384.24 L28594 1384.24 L28697 1384.24 L28697 1384.24 L28594 1384.24 L28594 1384.24  Z\n  \" fill=\"#009af9\" fill-rule=\"evenodd\" fill-opacity=\"1\"/>\n<polyline clip-path=\"url(#clip532)\" style=\"stroke:#000000; stroke-linecap:butt; stroke-linejoin:round; stroke-width:4; stroke-opacity:1; fill:none\" points=\"\n  28594,1384.24 28594,1384.24 28697,1384.24 28594,1384.24 \n  \"/>\n<path clip-path=\"url(#clip532)\" d=\"\nM28697 1384.24 L28697 1384.24 L28800 1384.24 L28800 1384.24 L28697 1384.24 L28697 1384.24  Z\n  \" fill=\"#009af9\" fill-rule=\"evenodd\" fill-opacity=\"1\"/>\n<polyline clip-path=\"url(#clip532)\" style=\"stroke:#000000; stroke-linecap:butt; stroke-linejoin:round; stroke-width:4; stroke-opacity:1; fill:none\" points=\"\n  28697,1384.24 28697,1384.24 28800,1384.24 28697,1384.24 \n  \"/>\n<path clip-path=\"url(#clip532)\" d=\"\nM28800 1384.24 L28800 1384.24 L28903 1384.24 L28903 1384.24 L28800 1384.24 L28800 1384.24  Z\n  \" fill=\"#009af9\" fill-rule=\"evenodd\" fill-opacity=\"1\"/>\n<polyline clip-path=\"url(#clip532)\" style=\"stroke:#000000; stroke-linecap:butt; stroke-linejoin:round; stroke-width:4; stroke-opacity:1; fill:none\" points=\"\n  28800,1384.24 28800,1384.24 28903,1384.24 28800,1384.24 \n  \"/>\n<path clip-path=\"url(#clip532)\" d=\"\nM28903 1384.24 L28903 1384.24 L29006 1384.24 L29006 1384.24 L28903 1384.24 L28903 1384.24  Z\n  \" fill=\"#009af9\" fill-rule=\"evenodd\" fill-opacity=\"1\"/>\n<polyline clip-path=\"url(#clip532)\" style=\"stroke:#000000; stroke-linecap:butt; stroke-linejoin:round; stroke-width:4; stroke-opacity:1; fill:none\" points=\"\n  28903,1384.24 28903,1384.24 29006,1384.24 28903,1384.24 \n  \"/>\n<path clip-path=\"url(#clip532)\" d=\"\nM29006 1384.24 L29006 1384.24 L29109 1384.24 L29109 1384.24 L29006 1384.24 L29006 1384.24  Z\n  \" fill=\"#009af9\" fill-rule=\"evenodd\" fill-opacity=\"1\"/>\n<polyline clip-path=\"url(#clip532)\" style=\"stroke:#000000; stroke-linecap:butt; stroke-linejoin:round; stroke-width:4; stroke-opacity:1; fill:none\" points=\"\n  29006,1384.24 29006,1384.24 29109,1384.24 29006,1384.24 \n  \"/>\n<path clip-path=\"url(#clip532)\" d=\"\nM29109 1384.24 L29109 1384.24 L29212 1384.24 L29212 1384.24 L29109 1384.24 L29109 1384.24  Z\n  \" fill=\"#009af9\" fill-rule=\"evenodd\" fill-opacity=\"1\"/>\n<polyline clip-path=\"url(#clip532)\" style=\"stroke:#000000; stroke-linecap:butt; stroke-linejoin:round; stroke-width:4; stroke-opacity:1; fill:none\" points=\"\n  29109,1384.24 29109,1384.24 29212,1384.24 29109,1384.24 \n  \"/>\n<path clip-path=\"url(#clip532)\" d=\"\nM29212 1384.24 L29212 1384.24 L29315 1384.24 L29315 1384.24 L29212 1384.24 L29212 1384.24  Z\n  \" fill=\"#009af9\" fill-rule=\"evenodd\" fill-opacity=\"1\"/>\n<polyline clip-path=\"url(#clip532)\" style=\"stroke:#000000; stroke-linecap:butt; stroke-linejoin:round; stroke-width:4; stroke-opacity:1; fill:none\" points=\"\n  29212,1384.24 29212,1384.24 29315,1384.24 29212,1384.24 \n  \"/>\n<path clip-path=\"url(#clip532)\" d=\"\nM29315 1384.24 L29315 1384.24 L29418 1384.24 L29418 1384.24 L29315 1384.24 L29315 1384.24  Z\n  \" fill=\"#009af9\" fill-rule=\"evenodd\" fill-opacity=\"1\"/>\n<polyline clip-path=\"url(#clip532)\" style=\"stroke:#000000; stroke-linecap:butt; stroke-linejoin:round; stroke-width:4; stroke-opacity:1; fill:none\" points=\"\n  29315,1384.24 29315,1384.24 29418,1384.24 29315,1384.24 \n  \"/>\n<path clip-path=\"url(#clip532)\" d=\"\nM29418 1384.24 L29418 1384.24 L29521 1384.24 L29521 1384.24 L29418 1384.24 L29418 1384.24  Z\n  \" fill=\"#009af9\" fill-rule=\"evenodd\" fill-opacity=\"1\"/>\n<polyline clip-path=\"url(#clip532)\" style=\"stroke:#000000; stroke-linecap:butt; stroke-linejoin:round; stroke-width:4; stroke-opacity:1; fill:none\" points=\"\n  29418,1384.24 29418,1384.24 29521,1384.24 29418,1384.24 \n  \"/>\n<path clip-path=\"url(#clip532)\" d=\"\nM29521 1384.24 L29521 1384.24 L29624 1384.24 L29624 1384.24 L29521 1384.24 L29521 1384.24  Z\n  \" fill=\"#009af9\" fill-rule=\"evenodd\" fill-opacity=\"1\"/>\n<polyline clip-path=\"url(#clip532)\" style=\"stroke:#000000; stroke-linecap:butt; stroke-linejoin:round; stroke-width:4; stroke-opacity:1; fill:none\" points=\"\n  29521,1384.24 29521,1384.24 29624,1384.24 29521,1384.24 \n  \"/>\n<path clip-path=\"url(#clip532)\" d=\"\nM29624 1384.24 L29624 1384.24 L29727 1384.24 L29727 1384.24 L29624 1384.24 L29624 1384.24  Z\n  \" fill=\"#009af9\" fill-rule=\"evenodd\" fill-opacity=\"1\"/>\n<polyline clip-path=\"url(#clip532)\" style=\"stroke:#000000; stroke-linecap:butt; stroke-linejoin:round; stroke-width:4; stroke-opacity:1; fill:none\" points=\"\n  29624,1384.24 29624,1384.24 29727,1384.24 29624,1384.24 \n  \"/>\n<path clip-path=\"url(#clip532)\" d=\"\nM29727 1384.24 L29727 1384.24 L29830.1 1384.24 L29830.1 1384.24 L29727 1384.24 L29727 1384.24  Z\n  \" fill=\"#009af9\" fill-rule=\"evenodd\" fill-opacity=\"1\"/>\n<polyline clip-path=\"url(#clip532)\" style=\"stroke:#000000; stroke-linecap:butt; stroke-linejoin:round; stroke-width:4; stroke-opacity:1; fill:none\" points=\"\n  29727,1384.24 29727,1384.24 29830.1,1384.24 29727,1384.24 \n  \"/>\n<path clip-path=\"url(#clip532)\" d=\"\nM29830.1 1384.24 L29830.1 1384.24 L29933.1 1384.24 L29933.1 1384.24 L29830.1 1384.24 L29830.1 1384.24  Z\n  \" fill=\"#009af9\" fill-rule=\"evenodd\" fill-opacity=\"1\"/>\n<polyline clip-path=\"url(#clip532)\" style=\"stroke:#000000; stroke-linecap:butt; stroke-linejoin:round; stroke-width:4; stroke-opacity:1; fill:none\" points=\"\n  29830.1,1384.24 29830.1,1384.24 29933.1,1384.24 29830.1,1384.24 \n  \"/>\n<path clip-path=\"url(#clip532)\" d=\"\nM29933.1 1384.24 L29933.1 1384.24 L30036.1 1384.24 L30036.1 1384.24 L29933.1 1384.24 L29933.1 1384.24  Z\n  \" fill=\"#009af9\" fill-rule=\"evenodd\" fill-opacity=\"1\"/>\n<polyline clip-path=\"url(#clip532)\" style=\"stroke:#000000; stroke-linecap:butt; stroke-linejoin:round; stroke-width:4; stroke-opacity:1; fill:none\" points=\"\n  29933.1,1384.24 29933.1,1384.24 30036.1,1384.24 29933.1,1384.24 \n  \"/>\n<path clip-path=\"url(#clip532)\" d=\"\nM30036.1 1384.24 L30036.1 1384.24 L30139.1 1384.24 L30139.1 1384.24 L30036.1 1384.24 L30036.1 1384.24  Z\n  \" fill=\"#009af9\" fill-rule=\"evenodd\" fill-opacity=\"1\"/>\n<polyline clip-path=\"url(#clip532)\" style=\"stroke:#000000; stroke-linecap:butt; stroke-linejoin:round; stroke-width:4; stroke-opacity:1; fill:none\" points=\"\n  30036.1,1384.24 30036.1,1384.24 30139.1,1384.24 30036.1,1384.24 \n  \"/>\n<path clip-path=\"url(#clip532)\" d=\"\nM30139.1 1384.24 L30139.1 1384.24 L30242.1 1384.24 L30242.1 1384.24 L30139.1 1384.24 L30139.1 1384.24  Z\n  \" fill=\"#009af9\" fill-rule=\"evenodd\" fill-opacity=\"1\"/>\n<polyline clip-path=\"url(#clip532)\" style=\"stroke:#000000; stroke-linecap:butt; stroke-linejoin:round; stroke-width:4; stroke-opacity:1; fill:none\" points=\"\n  30139.1,1384.24 30139.1,1384.24 30242.1,1384.24 30139.1,1384.24 \n  \"/>\n<path clip-path=\"url(#clip532)\" d=\"\nM30242.1 1384.24 L30242.1 1384.24 L30345.1 1384.24 L30345.1 1384.24 L30242.1 1384.24 L30242.1 1384.24  Z\n  \" fill=\"#009af9\" fill-rule=\"evenodd\" fill-opacity=\"1\"/>\n<polyline clip-path=\"url(#clip532)\" style=\"stroke:#000000; stroke-linecap:butt; stroke-linejoin:round; stroke-width:4; stroke-opacity:1; fill:none\" points=\"\n  30242.1,1384.24 30242.1,1384.24 30345.1,1384.24 30242.1,1384.24 \n  \"/>\n<path clip-path=\"url(#clip532)\" d=\"\nM30345.1 1384.24 L30345.1 1384.24 L30448.1 1384.24 L30448.1 1384.24 L30345.1 1384.24 L30345.1 1384.24  Z\n  \" fill=\"#009af9\" fill-rule=\"evenodd\" fill-opacity=\"1\"/>\n<polyline clip-path=\"url(#clip532)\" style=\"stroke:#000000; stroke-linecap:butt; stroke-linejoin:round; stroke-width:4; stroke-opacity:1; fill:none\" points=\"\n  30345.1,1384.24 30345.1,1384.24 30448.1,1384.24 30345.1,1384.24 \n  \"/>\n<path clip-path=\"url(#clip532)\" d=\"\nM30448.1 1384.24 L30448.1 1384.24 L30551.1 1384.24 L30551.1 1384.24 L30448.1 1384.24 L30448.1 1384.24  Z\n  \" fill=\"#009af9\" fill-rule=\"evenodd\" fill-opacity=\"1\"/>\n<polyline clip-path=\"url(#clip532)\" style=\"stroke:#000000; stroke-linecap:butt; stroke-linejoin:round; stroke-width:4; stroke-opacity:1; fill:none\" points=\"\n  30448.1,1384.24 30448.1,1384.24 30551.1,1384.24 30448.1,1384.24 \n  \"/>\n<path clip-path=\"url(#clip532)\" d=\"\nM30551.1 1384.24 L30551.1 1384.24 L30654.1 1384.24 L30654.1 1384.24 L30551.1 1384.24 L30551.1 1384.24  Z\n  \" fill=\"#009af9\" fill-rule=\"evenodd\" fill-opacity=\"1\"/>\n<polyline clip-path=\"url(#clip532)\" style=\"stroke:#000000; stroke-linecap:butt; stroke-linejoin:round; stroke-width:4; stroke-opacity:1; fill:none\" points=\"\n  30551.1,1384.24 30551.1,1384.24 30654.1,1384.24 30551.1,1384.24 \n  \"/>\n<path clip-path=\"url(#clip532)\" d=\"\nM30654.1 1384.24 L30654.1 1384.24 L30757.1 1384.24 L30757.1 1384.24 L30654.1 1384.24 L30654.1 1384.24  Z\n  \" fill=\"#009af9\" fill-rule=\"evenodd\" fill-opacity=\"1\"/>\n<polyline clip-path=\"url(#clip532)\" style=\"stroke:#000000; stroke-linecap:butt; stroke-linejoin:round; stroke-width:4; stroke-opacity:1; fill:none\" points=\"\n  30654.1,1384.24 30654.1,1384.24 30757.1,1384.24 30654.1,1384.24 \n  \"/>\n<path clip-path=\"url(#clip532)\" d=\"\nM30757.1 1384.24 L30757.1 1384.24 L30860.1 1384.24 L30860.1 1384.24 L30757.1 1384.24 L30757.1 1384.24  Z\n  \" fill=\"#009af9\" fill-rule=\"evenodd\" fill-opacity=\"1\"/>\n<polyline clip-path=\"url(#clip532)\" style=\"stroke:#000000; stroke-linecap:butt; stroke-linejoin:round; stroke-width:4; stroke-opacity:1; fill:none\" points=\"\n  30757.1,1384.24 30757.1,1384.24 30860.1,1384.24 30757.1,1384.24 \n  \"/>\n<path clip-path=\"url(#clip532)\" d=\"\nM30860.1 1384.24 L30860.1 1384.24 L30963.1 1384.24 L30963.1 1384.24 L30860.1 1384.24 L30860.1 1384.24  Z\n  \" fill=\"#009af9\" fill-rule=\"evenodd\" fill-opacity=\"1\"/>\n<polyline clip-path=\"url(#clip532)\" style=\"stroke:#000000; stroke-linecap:butt; stroke-linejoin:round; stroke-width:4; stroke-opacity:1; fill:none\" points=\"\n  30860.1,1384.24 30860.1,1384.24 30963.1,1384.24 30860.1,1384.24 \n  \"/>\n<path clip-path=\"url(#clip532)\" d=\"\nM30963.1 1384.24 L30963.1 1384.24 L31066.1 1384.24 L31066.1 1384.24 L30963.1 1384.24 L30963.1 1384.24  Z\n  \" fill=\"#009af9\" fill-rule=\"evenodd\" fill-opacity=\"1\"/>\n<polyline clip-path=\"url(#clip532)\" style=\"stroke:#000000; stroke-linecap:butt; stroke-linejoin:round; stroke-width:4; stroke-opacity:1; fill:none\" points=\"\n  30963.1,1384.24 30963.1,1384.24 31066.1,1384.24 30963.1,1384.24 \n  \"/>\n<path clip-path=\"url(#clip532)\" d=\"\nM31066.1 1384.24 L31066.1 1384.24 L31169.1 1384.24 L31169.1 1384.24 L31066.1 1384.24 L31066.1 1384.24  Z\n  \" fill=\"#009af9\" fill-rule=\"evenodd\" fill-opacity=\"1\"/>\n<polyline clip-path=\"url(#clip532)\" style=\"stroke:#000000; stroke-linecap:butt; stroke-linejoin:round; stroke-width:4; stroke-opacity:1; fill:none\" points=\"\n  31066.1,1384.24 31066.1,1384.24 31169.1,1384.24 31066.1,1384.24 \n  \"/>\n<path clip-path=\"url(#clip532)\" d=\"\nM31169.1 1384.24 L31169.1 1384.24 L31272.1 1384.24 L31272.1 1384.24 L31169.1 1384.24 L31169.1 1384.24  Z\n  \" fill=\"#009af9\" fill-rule=\"evenodd\" fill-opacity=\"1\"/>\n<polyline clip-path=\"url(#clip532)\" style=\"stroke:#000000; stroke-linecap:butt; stroke-linejoin:round; stroke-width:4; stroke-opacity:1; fill:none\" points=\"\n  31169.1,1384.24 31169.1,1384.24 31272.1,1384.24 31169.1,1384.24 \n  \"/>\n<path clip-path=\"url(#clip532)\" d=\"\nM31272.1 1384.24 L31272.1 1384.24 L31375.1 1384.24 L31375.1 1384.24 L31272.1 1384.24 L31272.1 1384.24  Z\n  \" fill=\"#009af9\" fill-rule=\"evenodd\" fill-opacity=\"1\"/>\n<polyline clip-path=\"url(#clip532)\" style=\"stroke:#000000; stroke-linecap:butt; stroke-linejoin:round; stroke-width:4; stroke-opacity:1; fill:none\" points=\"\n  31272.1,1384.24 31272.1,1384.24 31375.1,1384.24 31272.1,1384.24 \n  \"/>\n<path clip-path=\"url(#clip532)\" d=\"\nM31375.1 1384.24 L31375.1 1384.24 L31478.1 1384.24 L31478.1 1384.24 L31375.1 1384.24 L31375.1 1384.24  Z\n  \" fill=\"#009af9\" fill-rule=\"evenodd\" fill-opacity=\"1\"/>\n<polyline clip-path=\"url(#clip532)\" style=\"stroke:#000000; stroke-linecap:butt; stroke-linejoin:round; stroke-width:4; stroke-opacity:1; fill:none\" points=\"\n  31375.1,1384.24 31375.1,1384.24 31478.1,1384.24 31375.1,1384.24 \n  \"/>\n<path clip-path=\"url(#clip532)\" d=\"\nM31478.1 1384.24 L31478.1 1384.24 L31581.1 1384.24 L31581.1 1384.24 L31478.1 1384.24 L31478.1 1384.24  Z\n  \" fill=\"#009af9\" fill-rule=\"evenodd\" fill-opacity=\"1\"/>\n<polyline clip-path=\"url(#clip532)\" style=\"stroke:#000000; stroke-linecap:butt; stroke-linejoin:round; stroke-width:4; stroke-opacity:1; fill:none\" points=\"\n  31478.1,1384.24 31478.1,1384.24 31581.1,1384.24 31478.1,1384.24 \n  \"/>\n<path clip-path=\"url(#clip532)\" d=\"\nM31581.1 1384.24 L31581.1 1384.24 L31684.1 1384.24 L31684.1 1384.24 L31581.1 1384.24 L31581.1 1384.24  Z\n  \" fill=\"#009af9\" fill-rule=\"evenodd\" fill-opacity=\"1\"/>\n<polyline clip-path=\"url(#clip532)\" style=\"stroke:#000000; stroke-linecap:butt; stroke-linejoin:round; stroke-width:4; stroke-opacity:1; fill:none\" points=\"\n  31581.1,1384.24 31581.1,1384.24 31684.1,1384.24 31581.1,1384.24 \n  \"/>\n<path clip-path=\"url(#clip532)\" d=\"\nM31684.1 1384.24 L31684.1 1384.24 L31787.1 1384.24 L31787.1 1384.24 L31684.1 1384.24 L31684.1 1384.24  Z\n  \" fill=\"#009af9\" fill-rule=\"evenodd\" fill-opacity=\"1\"/>\n<polyline clip-path=\"url(#clip532)\" style=\"stroke:#000000; stroke-linecap:butt; stroke-linejoin:round; stroke-width:4; stroke-opacity:1; fill:none\" points=\"\n  31684.1,1384.24 31684.1,1384.24 31787.1,1384.24 31684.1,1384.24 \n  \"/>\n<path clip-path=\"url(#clip532)\" d=\"\nM31787.1 1384.24 L31787.1 1384.24 L31890.1 1384.24 L31890.1 1384.24 L31787.1 1384.24 L31787.1 1384.24  Z\n  \" fill=\"#009af9\" fill-rule=\"evenodd\" fill-opacity=\"1\"/>\n<polyline clip-path=\"url(#clip532)\" style=\"stroke:#000000; stroke-linecap:butt; stroke-linejoin:round; stroke-width:4; stroke-opacity:1; fill:none\" points=\"\n  31787.1,1384.24 31787.1,1384.24 31890.1,1384.24 31787.1,1384.24 \n  \"/>\n<path clip-path=\"url(#clip532)\" d=\"\nM31890.1 1384.24 L31890.1 1384.24 L31993.1 1384.24 L31993.1 1384.24 L31890.1 1384.24 L31890.1 1384.24  Z\n  \" fill=\"#009af9\" fill-rule=\"evenodd\" fill-opacity=\"1\"/>\n<polyline clip-path=\"url(#clip532)\" style=\"stroke:#000000; stroke-linecap:butt; stroke-linejoin:round; stroke-width:4; stroke-opacity:1; fill:none\" points=\"\n  31890.1,1384.24 31890.1,1384.24 31993.1,1384.24 31890.1,1384.24 \n  \"/>\n<path clip-path=\"url(#clip532)\" d=\"\nM31993.1 1384.24 L31993.1 1384.24 L32096.2 1384.24 L32096.2 1384.24 L31993.1 1384.24 L31993.1 1384.24  Z\n  \" fill=\"#009af9\" fill-rule=\"evenodd\" fill-opacity=\"1\"/>\n<polyline clip-path=\"url(#clip532)\" style=\"stroke:#000000; stroke-linecap:butt; stroke-linejoin:round; stroke-width:4; stroke-opacity:1; fill:none\" points=\"\n  31993.1,1384.24 31993.1,1384.24 32096.2,1384.24 31993.1,1384.24 \n  \"/>\n<path clip-path=\"url(#clip532)\" d=\"\nM32096.2 1384.24 L32096.2 1384.24 L32199.2 1384.24 L32199.2 1384.24 L32096.2 1384.24 L32096.2 1384.24  Z\n  \" fill=\"#009af9\" fill-rule=\"evenodd\" fill-opacity=\"1\"/>\n<polyline clip-path=\"url(#clip532)\" style=\"stroke:#000000; stroke-linecap:butt; stroke-linejoin:round; stroke-width:4; stroke-opacity:1; fill:none\" points=\"\n  32096.2,1384.24 32096.2,1384.24 32199.2,1384.24 32096.2,1384.24 \n  \"/>\n<path clip-path=\"url(#clip532)\" d=\"\nM32199.2 1384.24 L32199.2 1384.24 L32302.2 1384.24 L32302.2 1384.24 L32199.2 1384.24 L32199.2 1384.24  Z\n  \" fill=\"#009af9\" fill-rule=\"evenodd\" fill-opacity=\"1\"/>\n<polyline clip-path=\"url(#clip532)\" style=\"stroke:#000000; stroke-linecap:butt; stroke-linejoin:round; stroke-width:4; stroke-opacity:1; fill:none\" points=\"\n  32199.2,1384.24 32199.2,1384.24 32302.2,1384.24 32199.2,1384.24 \n  \"/>\n<path clip-path=\"url(#clip532)\" d=\"\nM32302.2 1384.24 L32302.2 1384.24 L32405.2 1384.24 L32405.2 1384.24 L32302.2 1384.24 L32302.2 1384.24  Z\n  \" fill=\"#009af9\" fill-rule=\"evenodd\" fill-opacity=\"1\"/>\n<polyline clip-path=\"url(#clip532)\" style=\"stroke:#000000; stroke-linecap:butt; stroke-linejoin:round; stroke-width:4; stroke-opacity:1; fill:none\" points=\"\n  32302.2,1384.24 32302.2,1384.24 32405.2,1384.24 32302.2,1384.24 \n  \"/>\n<path clip-path=\"url(#clip532)\" d=\"\nM32405.2 1384.24 L32405.2 1384.24 L32508.2 1384.24 L32508.2 1384.24 L32405.2 1384.24 L32405.2 1384.24  Z\n  \" fill=\"#009af9\" fill-rule=\"evenodd\" fill-opacity=\"1\"/>\n<polyline clip-path=\"url(#clip532)\" style=\"stroke:#000000; stroke-linecap:butt; stroke-linejoin:round; stroke-width:4; stroke-opacity:1; fill:none\" points=\"\n  32405.2,1384.24 32405.2,1384.24 32508.2,1384.24 32405.2,1384.24 \n  \"/>\n<path clip-path=\"url(#clip532)\" d=\"\nM32508.2 1384.24 L32508.2 1384.24 L32611.2 1384.24 L32611.2 1384.24 L32508.2 1384.24 L32508.2 1384.24  Z\n  \" fill=\"#009af9\" fill-rule=\"evenodd\" fill-opacity=\"1\"/>\n<polyline clip-path=\"url(#clip532)\" style=\"stroke:#000000; stroke-linecap:butt; stroke-linejoin:round; stroke-width:4; stroke-opacity:1; fill:none\" points=\"\n  32508.2,1384.24 32508.2,1384.24 32611.2,1384.24 32508.2,1384.24 \n  \"/>\n<path clip-path=\"url(#clip532)\" d=\"\nM32611.2 1384.24 L32611.2 1384.24 L32714.2 1384.24 L32714.2 1384.24 L32611.2 1384.24 L32611.2 1384.24  Z\n  \" fill=\"#009af9\" fill-rule=\"evenodd\" fill-opacity=\"1\"/>\n<polyline clip-path=\"url(#clip532)\" style=\"stroke:#000000; stroke-linecap:butt; stroke-linejoin:round; stroke-width:4; stroke-opacity:1; fill:none\" points=\"\n  32611.2,1384.24 32611.2,1384.24 32714.2,1384.24 32611.2,1384.24 \n  \"/>\n<path clip-path=\"url(#clip532)\" d=\"\nM32714.2 1384.24 L32714.2 1384.24 L32817.2 1384.24 L32817.2 1384.24 L32714.2 1384.24 L32714.2 1384.24  Z\n  \" fill=\"#009af9\" fill-rule=\"evenodd\" fill-opacity=\"1\"/>\n<polyline clip-path=\"url(#clip532)\" style=\"stroke:#000000; stroke-linecap:butt; stroke-linejoin:round; stroke-width:4; stroke-opacity:1; fill:none\" points=\"\n  32714.2,1384.24 32714.2,1384.24 32817.2,1384.24 32714.2,1384.24 \n  \"/>\n<path clip-path=\"url(#clip532)\" d=\"\nM32817.2 1384.24 L32817.2 1384.24 L32920.2 1384.24 L32920.2 1384.24 L32817.2 1384.24 L32817.2 1384.24  Z\n  \" fill=\"#009af9\" fill-rule=\"evenodd\" fill-opacity=\"1\"/>\n<polyline clip-path=\"url(#clip532)\" style=\"stroke:#000000; stroke-linecap:butt; stroke-linejoin:round; stroke-width:4; stroke-opacity:1; fill:none\" points=\"\n  32817.2,1384.24 32817.2,1384.24 32920.2,1384.24 32817.2,1384.24 \n  \"/>\n<path clip-path=\"url(#clip532)\" d=\"\nM32920.2 1384.24 L32920.2 1384.24 L33023.2 1384.24 L33023.2 1384.24 L32920.2 1384.24 L32920.2 1384.24  Z\n  \" fill=\"#009af9\" fill-rule=\"evenodd\" fill-opacity=\"1\"/>\n<polyline clip-path=\"url(#clip532)\" style=\"stroke:#000000; stroke-linecap:butt; stroke-linejoin:round; stroke-width:4; stroke-opacity:1; fill:none\" points=\"\n  32920.2,1384.24 32920.2,1384.24 33023.2,1384.24 32920.2,1384.24 \n  \"/>\n<path clip-path=\"url(#clip532)\" d=\"\nM33023.2 1384.24 L33023.2 1384.24 L33126.2 1384.24 L33126.2 1384.24 L33023.2 1384.24 L33023.2 1384.24  Z\n  \" fill=\"#009af9\" fill-rule=\"evenodd\" fill-opacity=\"1\"/>\n<polyline clip-path=\"url(#clip532)\" style=\"stroke:#000000; stroke-linecap:butt; stroke-linejoin:round; stroke-width:4; stroke-opacity:1; fill:none\" points=\"\n  33023.2,1384.24 33023.2,1384.24 33126.2,1384.24 33023.2,1384.24 \n  \"/>\n<path clip-path=\"url(#clip532)\" d=\"\nM33126.2 1384.24 L33126.2 1384.24 L33229.2 1384.24 L33229.2 1384.24 L33126.2 1384.24 L33126.2 1384.24  Z\n  \" fill=\"#009af9\" fill-rule=\"evenodd\" fill-opacity=\"1\"/>\n<polyline clip-path=\"url(#clip532)\" style=\"stroke:#000000; stroke-linecap:butt; stroke-linejoin:round; stroke-width:4; stroke-opacity:1; fill:none\" points=\"\n  33126.2,1384.24 33126.2,1384.24 33229.2,1384.24 33126.2,1384.24 \n  \"/>\n<path clip-path=\"url(#clip532)\" d=\"\nM33229.2 1384.24 L33229.2 1384.24 L33332.2 1384.24 L33332.2 1384.24 L33229.2 1384.24 L33229.2 1384.24  Z\n  \" fill=\"#009af9\" fill-rule=\"evenodd\" fill-opacity=\"1\"/>\n<polyline clip-path=\"url(#clip532)\" style=\"stroke:#000000; stroke-linecap:butt; stroke-linejoin:round; stroke-width:4; stroke-opacity:1; fill:none\" points=\"\n  33229.2,1384.24 33229.2,1384.24 33332.2,1384.24 33229.2,1384.24 \n  \"/>\n<path clip-path=\"url(#clip532)\" d=\"\nM33332.2 1384.24 L33332.2 1384.24 L33435.2 1384.24 L33435.2 1384.24 L33332.2 1384.24 L33332.2 1384.24  Z\n  \" fill=\"#009af9\" fill-rule=\"evenodd\" fill-opacity=\"1\"/>\n<polyline clip-path=\"url(#clip532)\" style=\"stroke:#000000; stroke-linecap:butt; stroke-linejoin:round; stroke-width:4; stroke-opacity:1; fill:none\" points=\"\n  33332.2,1384.24 33332.2,1384.24 33435.2,1384.24 33332.2,1384.24 \n  \"/>\n<path clip-path=\"url(#clip532)\" d=\"\nM33435.2 1384.24 L33435.2 1384.24 L33538.2 1384.24 L33538.2 1384.24 L33435.2 1384.24 L33435.2 1384.24  Z\n  \" fill=\"#009af9\" fill-rule=\"evenodd\" fill-opacity=\"1\"/>\n<polyline clip-path=\"url(#clip532)\" style=\"stroke:#000000; stroke-linecap:butt; stroke-linejoin:round; stroke-width:4; stroke-opacity:1; fill:none\" points=\"\n  33435.2,1384.24 33435.2,1384.24 33538.2,1384.24 33435.2,1384.24 \n  \"/>\n<path clip-path=\"url(#clip532)\" d=\"\nM33538.2 1384.24 L33538.2 1384.24 L33641.2 1384.24 L33641.2 1384.24 L33538.2 1384.24 L33538.2 1384.24  Z\n  \" fill=\"#009af9\" fill-rule=\"evenodd\" fill-opacity=\"1\"/>\n<polyline clip-path=\"url(#clip532)\" style=\"stroke:#000000; stroke-linecap:butt; stroke-linejoin:round; stroke-width:4; stroke-opacity:1; fill:none\" points=\"\n  33538.2,1384.24 33538.2,1384.24 33641.2,1384.24 33538.2,1384.24 \n  \"/>\n<path clip-path=\"url(#clip532)\" d=\"\nM33641.2 1384.24 L33641.2 1384.24 L33744.2 1384.24 L33744.2 1384.24 L33641.2 1384.24 L33641.2 1384.24  Z\n  \" fill=\"#009af9\" fill-rule=\"evenodd\" fill-opacity=\"1\"/>\n<polyline clip-path=\"url(#clip532)\" style=\"stroke:#000000; stroke-linecap:butt; stroke-linejoin:round; stroke-width:4; stroke-opacity:1; fill:none\" points=\"\n  33641.2,1384.24 33641.2,1384.24 33744.2,1384.24 33641.2,1384.24 \n  \"/>\n<path clip-path=\"url(#clip532)\" d=\"\nM33744.2 1384.24 L33744.2 1384.24 L33847.2 1384.24 L33847.2 1384.24 L33744.2 1384.24 L33744.2 1384.24  Z\n  \" fill=\"#009af9\" fill-rule=\"evenodd\" fill-opacity=\"1\"/>\n<polyline clip-path=\"url(#clip532)\" style=\"stroke:#000000; stroke-linecap:butt; stroke-linejoin:round; stroke-width:4; stroke-opacity:1; fill:none\" points=\"\n  33744.2,1384.24 33744.2,1384.24 33847.2,1384.24 33744.2,1384.24 \n  \"/>\n<path clip-path=\"url(#clip532)\" d=\"\nM33847.2 1384.24 L33847.2 1384.24 L33950.2 1384.24 L33950.2 1384.24 L33847.2 1384.24 L33847.2 1384.24  Z\n  \" fill=\"#009af9\" fill-rule=\"evenodd\" fill-opacity=\"1\"/>\n<polyline clip-path=\"url(#clip532)\" style=\"stroke:#000000; stroke-linecap:butt; stroke-linejoin:round; stroke-width:4; stroke-opacity:1; fill:none\" points=\"\n  33847.2,1384.24 33847.2,1384.24 33950.2,1384.24 33847.2,1384.24 \n  \"/>\n<path clip-path=\"url(#clip532)\" d=\"\nM33950.2 1384.24 L33950.2 1384.24 L34053.2 1384.24 L34053.2 1384.24 L33950.2 1384.24 L33950.2 1384.24  Z\n  \" fill=\"#009af9\" fill-rule=\"evenodd\" fill-opacity=\"1\"/>\n<polyline clip-path=\"url(#clip532)\" style=\"stroke:#000000; stroke-linecap:butt; stroke-linejoin:round; stroke-width:4; stroke-opacity:1; fill:none\" points=\"\n  33950.2,1384.24 33950.2,1384.24 34053.2,1384.24 33950.2,1384.24 \n  \"/>\n<path clip-path=\"url(#clip532)\" d=\"\nM34053.2 1384.24 L34053.2 1384.24 L34156.2 1384.24 L34156.2 1384.24 L34053.2 1384.24 L34053.2 1384.24  Z\n  \" fill=\"#009af9\" fill-rule=\"evenodd\" fill-opacity=\"1\"/>\n<polyline clip-path=\"url(#clip532)\" style=\"stroke:#000000; stroke-linecap:butt; stroke-linejoin:round; stroke-width:4; stroke-opacity:1; fill:none\" points=\"\n  34053.2,1384.24 34053.2,1384.24 34156.2,1384.24 34053.2,1384.24 \n  \"/>\n<path clip-path=\"url(#clip532)\" d=\"\nM34156.2 1384.24 L34156.2 1384.24 L34259.2 1384.24 L34259.2 1384.24 L34156.2 1384.24 L34156.2 1384.24  Z\n  \" fill=\"#009af9\" fill-rule=\"evenodd\" fill-opacity=\"1\"/>\n<polyline clip-path=\"url(#clip532)\" style=\"stroke:#000000; stroke-linecap:butt; stroke-linejoin:round; stroke-width:4; stroke-opacity:1; fill:none\" points=\"\n  34156.2,1384.24 34156.2,1384.24 34259.2,1384.24 34156.2,1384.24 \n  \"/>\n<path clip-path=\"url(#clip532)\" d=\"\nM34259.2 1384.24 L34259.2 1384.24 L34362.3 1384.24 L34362.3 1384.24 L34259.2 1384.24 L34259.2 1384.24  Z\n  \" fill=\"#009af9\" fill-rule=\"evenodd\" fill-opacity=\"1\"/>\n<polyline clip-path=\"url(#clip532)\" style=\"stroke:#000000; stroke-linecap:butt; stroke-linejoin:round; stroke-width:4; stroke-opacity:1; fill:none\" points=\"\n  34259.2,1384.24 34259.2,1384.24 34362.3,1384.24 34259.2,1384.24 \n  \"/>\n<path clip-path=\"url(#clip532)\" d=\"\nM34362.3 1384.24 L34362.3 1384.24 L34465.3 1384.24 L34465.3 1384.24 L34362.3 1384.24 L34362.3 1384.24  Z\n  \" fill=\"#009af9\" fill-rule=\"evenodd\" fill-opacity=\"1\"/>\n<polyline clip-path=\"url(#clip532)\" style=\"stroke:#000000; stroke-linecap:butt; stroke-linejoin:round; stroke-width:4; stroke-opacity:1; fill:none\" points=\"\n  34362.3,1384.24 34362.3,1384.24 34465.3,1384.24 34362.3,1384.24 \n  \"/>\n<path clip-path=\"url(#clip532)\" d=\"\nM34465.3 1384.24 L34465.3 1384.24 L34568.3 1384.24 L34568.3 1384.24 L34465.3 1384.24 L34465.3 1384.24  Z\n  \" fill=\"#009af9\" fill-rule=\"evenodd\" fill-opacity=\"1\"/>\n<polyline clip-path=\"url(#clip532)\" style=\"stroke:#000000; stroke-linecap:butt; stroke-linejoin:round; stroke-width:4; stroke-opacity:1; fill:none\" points=\"\n  34465.3,1384.24 34465.3,1384.24 34568.3,1384.24 34465.3,1384.24 \n  \"/>\n<path clip-path=\"url(#clip532)\" d=\"\nM34568.3 1384.24 L34568.3 1384.24 L34671.3 1384.24 L34671.3 1384.24 L34568.3 1384.24 L34568.3 1384.24  Z\n  \" fill=\"#009af9\" fill-rule=\"evenodd\" fill-opacity=\"1\"/>\n<polyline clip-path=\"url(#clip532)\" style=\"stroke:#000000; stroke-linecap:butt; stroke-linejoin:round; stroke-width:4; stroke-opacity:1; fill:none\" points=\"\n  34568.3,1384.24 34568.3,1384.24 34671.3,1384.24 34568.3,1384.24 \n  \"/>\n<path clip-path=\"url(#clip532)\" d=\"\nM34671.3 1384.24 L34671.3 1384.24 L34774.3 1384.24 L34774.3 1384.24 L34671.3 1384.24 L34671.3 1384.24  Z\n  \" fill=\"#009af9\" fill-rule=\"evenodd\" fill-opacity=\"1\"/>\n<polyline clip-path=\"url(#clip532)\" style=\"stroke:#000000; stroke-linecap:butt; stroke-linejoin:round; stroke-width:4; stroke-opacity:1; fill:none\" points=\"\n  34671.3,1384.24 34671.3,1384.24 34774.3,1384.24 34671.3,1384.24 \n  \"/>\n<path clip-path=\"url(#clip532)\" d=\"\nM34774.3 1384.24 L34774.3 1384.24 L34877.3 1384.24 L34877.3 1384.24 L34774.3 1384.24 L34774.3 1384.24  Z\n  \" fill=\"#009af9\" fill-rule=\"evenodd\" fill-opacity=\"1\"/>\n<polyline clip-path=\"url(#clip532)\" style=\"stroke:#000000; stroke-linecap:butt; stroke-linejoin:round; stroke-width:4; stroke-opacity:1; fill:none\" points=\"\n  34774.3,1384.24 34774.3,1384.24 34877.3,1384.24 34774.3,1384.24 \n  \"/>\n<path clip-path=\"url(#clip532)\" d=\"\nM34877.3 1384.24 L34877.3 1384.24 L34980.3 1384.24 L34980.3 1384.24 L34877.3 1384.24 L34877.3 1384.24  Z\n  \" fill=\"#009af9\" fill-rule=\"evenodd\" fill-opacity=\"1\"/>\n<polyline clip-path=\"url(#clip532)\" style=\"stroke:#000000; stroke-linecap:butt; stroke-linejoin:round; stroke-width:4; stroke-opacity:1; fill:none\" points=\"\n  34877.3,1384.24 34877.3,1384.24 34980.3,1384.24 34877.3,1384.24 \n  \"/>\n<path clip-path=\"url(#clip532)\" d=\"\nM34980.3 1351.79 L34980.3 1384.24 L35083.3 1384.24 L35083.3 1351.79 L34980.3 1351.79 L34980.3 1351.79  Z\n  \" fill=\"#009af9\" fill-rule=\"evenodd\" fill-opacity=\"1\"/>\n<polyline clip-path=\"url(#clip532)\" style=\"stroke:#000000; stroke-linecap:butt; stroke-linejoin:round; stroke-width:4; stroke-opacity:1; fill:none\" points=\"\n  34980.3,1351.79 34980.3,1384.24 35083.3,1384.24 35083.3,1351.79 34980.3,1351.79 \n  \"/>\n<circle clip-path=\"url(#clip532)\" style=\"fill:#009af9; stroke:none; fill-opacity:0\" cx=\"216.245\" cy=\"1254.43\" r=\"2\"/>\n<circle clip-path=\"url(#clip532)\" style=\"fill:#009af9; stroke:none; fill-opacity:0\" cx=\"319.25\" cy=\"1286.88\" r=\"2\"/>\n<circle clip-path=\"url(#clip532)\" style=\"fill:#009af9; stroke:none; fill-opacity:0\" cx=\"422.255\" cy=\"1351.79\" r=\"2\"/>\n<circle clip-path=\"url(#clip532)\" style=\"fill:#009af9; stroke:none; fill-opacity:0\" cx=\"525.259\" cy=\"1157.08\" r=\"2\"/>\n<circle clip-path=\"url(#clip532)\" style=\"fill:#009af9; stroke:none; fill-opacity:0\" cx=\"628.264\" cy=\"832.566\" r=\"2\"/>\n<circle clip-path=\"url(#clip532)\" style=\"fill:#009af9; stroke:none; fill-opacity:0\" cx=\"731.268\" cy=\"378.248\" r=\"2\"/>\n<circle clip-path=\"url(#clip532)\" style=\"fill:#009af9; stroke:none; fill-opacity:0\" cx=\"834.273\" cy=\"475.601\" r=\"2\"/>\n<circle clip-path=\"url(#clip532)\" style=\"fill:#009af9; stroke:none; fill-opacity:0\" cx=\"937.277\" cy=\"86.1857\" r=\"2\"/>\n<circle clip-path=\"url(#clip532)\" style=\"fill:#009af9; stroke:none; fill-opacity:0\" cx=\"1040.28\" cy=\"410.699\" r=\"2\"/>\n<circle clip-path=\"url(#clip532)\" style=\"fill:#009af9; stroke:none; fill-opacity:0\" cx=\"1143.29\" cy=\"345.796\" r=\"2\"/>\n<circle clip-path=\"url(#clip532)\" style=\"fill:#009af9; stroke:none; fill-opacity:0\" cx=\"1246.29\" cy=\"605.407\" r=\"2\"/>\n<circle clip-path=\"url(#clip532)\" style=\"fill:#009af9; stroke:none; fill-opacity:0\" cx=\"1349.3\" cy=\"637.858\" r=\"2\"/>\n<circle clip-path=\"url(#clip532)\" style=\"fill:#009af9; stroke:none; fill-opacity:0\" cx=\"1452.3\" cy=\"1027.27\" r=\"2\"/>\n<circle clip-path=\"url(#clip532)\" style=\"fill:#009af9; stroke:none; fill-opacity:0\" cx=\"1555.3\" cy=\"572.955\" r=\"2\"/>\n<circle clip-path=\"url(#clip532)\" style=\"fill:#009af9; stroke:none; fill-opacity:0\" cx=\"1658.31\" cy=\"994.822\" r=\"2\"/>\n<circle clip-path=\"url(#clip532)\" style=\"fill:#009af9; stroke:none; fill-opacity:0\" cx=\"1761.31\" cy=\"1059.73\" r=\"2\"/>\n<circle clip-path=\"url(#clip532)\" style=\"fill:#009af9; stroke:none; fill-opacity:0\" cx=\"1864.32\" cy=\"897.469\" r=\"2\"/>\n<circle clip-path=\"url(#clip532)\" style=\"fill:#009af9; stroke:none; fill-opacity:0\" cx=\"1967.32\" cy=\"1157.08\" r=\"2\"/>\n<circle clip-path=\"url(#clip532)\" style=\"fill:#009af9; stroke:none; fill-opacity:0\" cx=\"2070.33\" cy=\"1157.08\" r=\"2\"/>\n<circle clip-path=\"url(#clip532)\" style=\"fill:#009af9; stroke:none; fill-opacity:0\" cx=\"2173.33\" cy=\"1351.79\" r=\"2\"/>\n<circle clip-path=\"url(#clip532)\" style=\"fill:#009af9; stroke:none; fill-opacity:0\" cx=\"2276.34\" cy=\"1221.98\" r=\"2\"/>\n</svg>\n"
     },
     "execution_count": 34,
     "metadata": {},
     "output_type": "execute_result"
    }
   ],
   "source": [
    "using Statistics # bring in statistical support for standard deviations\n",
    "t = c_bench.times / 1e6 # times in milliseconds\n",
    "m, σ = minimum(t), std(t)\n",
    "\n",
    "histogram(t, bins=500,\n",
    "    xlim=(m - 0.01, m + σ),\n",
    "    xlabel=\"milliseconds\", ylabel=\"count\", label=\"\")"
   ]
  },
  {
   "cell_type": "markdown",
   "metadata": {},
   "source": [
    "# 2. C with -ffast-math\n",
    "\n",
    "If we allow C to re-arrange the floating point operations, then it'll vectorize with SIMD (single instruction, multiple data) instructions."
   ]
  },
  {
   "cell_type": "code",
   "execution_count": 35,
   "metadata": {},
   "outputs": [
    {
     "data": {
      "text/plain": [
       "c_sum_fastmath (generic function with 1 method)"
      ]
     },
     "execution_count": 35,
     "metadata": {},
     "output_type": "execute_result"
    }
   ],
   "source": [
    "const Clib_fastmath = tempname()   # make a temporary file\n",
    "\n",
    "# The same as above but with a -ffast-math flag added\n",
    "open(`gcc -fPIC -O3 -msse3 -xc -shared -ffast-math -o $(Clib_fastmath * \".\" * Libdl.dlext) -`, \"w\") do f\n",
    "    print(f, C_code) \n",
    "end\n",
    "\n",
    "# define a Julia function that calls the C function:\n",
    "c_sum_fastmath(X::Array{Float64}) = ccall((\"c_sum\", Clib_fastmath), Float64, (Csize_t, Ptr{Float64}), length(X), X)"
   ]
  },
  {
   "cell_type": "code",
   "execution_count": 36,
   "metadata": {},
   "outputs": [
    {
     "data": {
      "text/plain": [
       "BenchmarkTools.Trial: 699 samples with 1 evaluation.\n",
       " Range \u001b[90m(\u001b[39m\u001b[36m\u001b[1mmin\u001b[22m\u001b[39m … \u001b[35mmax\u001b[39m\u001b[90m):  \u001b[39m\u001b[36m\u001b[1m6.142 ms\u001b[22m\u001b[39m … \u001b[35m33.363 ms\u001b[39m  \u001b[90m┊\u001b[39m GC \u001b[90m(\u001b[39mmin … max\u001b[90m): \u001b[39m0.00% … 0.00%\n",
       " Time  \u001b[90m(\u001b[39m\u001b[34m\u001b[1mmedian\u001b[22m\u001b[39m\u001b[90m):     \u001b[39m\u001b[34m\u001b[1m6.924 ms              \u001b[22m\u001b[39m\u001b[90m┊\u001b[39m GC \u001b[90m(\u001b[39mmedian\u001b[90m):    \u001b[39m0.00%\n",
       " Time  \u001b[90m(\u001b[39m\u001b[32m\u001b[1mmean\u001b[22m\u001b[39m ± \u001b[32mσ\u001b[39m\u001b[90m):   \u001b[39m\u001b[32m\u001b[1m7.140 ms\u001b[22m\u001b[39m ± \u001b[32m 1.173 ms\u001b[39m  \u001b[90m┊\u001b[39m GC \u001b[90m(\u001b[39mmean ± σ\u001b[90m):  \u001b[39m0.00% ± 0.00%\n",
       "\n",
       "  \u001b[39m \u001b[39m \u001b[39m \u001b[39m \u001b[39m▁\u001b[39m▇\u001b[39m▇\u001b[39m▄\u001b[39m▂\u001b[39m▄\u001b[39m▄\u001b[39m▅\u001b[39m▁\u001b[39m▆\u001b[39m▄\u001b[39m█\u001b[34m \u001b[39m\u001b[39m \u001b[39m \u001b[39m▁\u001b[32m \u001b[39m\u001b[39m \u001b[39m \u001b[39m▁\u001b[39m \u001b[39m \u001b[39m \u001b[39m \u001b[39m \u001b[39m \u001b[39m \u001b[39m \u001b[39m▁\u001b[39m \u001b[39m \u001b[39m \u001b[39m \u001b[39m \u001b[39m \u001b[39m \u001b[39m \u001b[39m \u001b[39m \u001b[39m \u001b[39m \u001b[39m \u001b[39m \u001b[39m \u001b[39m \u001b[39m \u001b[39m \u001b[39m \u001b[39m \u001b[39m \u001b[39m \u001b[39m \u001b[39m \u001b[39m \u001b[39m \u001b[39m \n",
       "  \u001b[39m▁\u001b[39m▂\u001b[39m▃\u001b[39m▃\u001b[39m█\u001b[39m█\u001b[39m█\u001b[39m█\u001b[39m█\u001b[39m█\u001b[39m█\u001b[39m█\u001b[39m█\u001b[39m█\u001b[39m█\u001b[39m█\u001b[34m█\u001b[39m\u001b[39m▆\u001b[39m█\u001b[39m█\u001b[32m▇\u001b[39m\u001b[39m█\u001b[39m▅\u001b[39m█\u001b[39m▇\u001b[39m▇\u001b[39m▆\u001b[39m▇\u001b[39m▇\u001b[39m▆\u001b[39m▅\u001b[39m▅\u001b[39m█\u001b[39m▄\u001b[39m▅\u001b[39m▃\u001b[39m▃\u001b[39m▃\u001b[39m▂\u001b[39m▂\u001b[39m▂\u001b[39m▃\u001b[39m▄\u001b[39m▂\u001b[39m▄\u001b[39m▃\u001b[39m▂\u001b[39m▁\u001b[39m▂\u001b[39m▁\u001b[39m▁\u001b[39m▂\u001b[39m▁\u001b[39m▂\u001b[39m▂\u001b[39m▂\u001b[39m▁\u001b[39m▂\u001b[39m \u001b[39m▃\n",
       "  6.14 ms\u001b[90m        Histogram: frequency by time\u001b[39m        8.98 ms \u001b[0m\u001b[1m<\u001b[22m\n",
       "\n",
       " Memory estimate\u001b[90m: \u001b[39m\u001b[33m0 bytes\u001b[39m, allocs estimate\u001b[90m: \u001b[39m\u001b[33m0\u001b[39m."
      ]
     },
     "execution_count": 36,
     "metadata": {},
     "output_type": "execute_result"
    }
   ],
   "source": [
    "c_fastmath_bench = @benchmark $c_sum_fastmath($a)"
   ]
  },
  {
   "cell_type": "code",
   "execution_count": 37,
   "metadata": {},
   "outputs": [
    {
     "data": {
      "text/plain": [
       "6.1417"
      ]
     },
     "execution_count": 37,
     "metadata": {},
     "output_type": "execute_result"
    }
   ],
   "source": [
    "d[\"C -ffast-math\"] = minimum(c_fastmath_bench.times) / 1e6  # in milliseconds"
   ]
  },
  {
   "cell_type": "markdown",
   "metadata": {},
   "source": [
    "# 3. Python's built in `sum` "
   ]
  },
  {
   "cell_type": "markdown",
   "metadata": {},
   "source": [
    "The `PyCall` package provides a Julia interface to Python:"
   ]
  },
  {
   "cell_type": "code",
   "execution_count": 38,
   "metadata": {
    "scrolled": true
   },
   "outputs": [
    {
     "name": "stderr",
     "output_type": "stream",
     "text": [
      "\u001b[32m\u001b[1m   Resolving\u001b[22m\u001b[39m package versions...\n",
      "\u001b[32m\u001b[1m  No Changes\u001b[22m\u001b[39m to `C:\\Users\\girin\\OneDrive\\Documents\\GitHub\\Introduction-to-Julia\\Project.toml`\n",
      "\u001b[32m\u001b[1m  No Changes\u001b[22m\u001b[39m to `C:\\Users\\girin\\OneDrive\\Documents\\GitHub\\Introduction-to-Julia\\Manifest.toml`\n"
     ]
    }
   ],
   "source": [
    "using Pkg; Pkg.add(\"PyCall\")\n",
    "using PyCall"
   ]
  },
  {
   "cell_type": "code",
   "execution_count": 39,
   "metadata": {},
   "outputs": [
    {
     "data": {
      "text/plain": [
       "PyObject <built-in function sum>"
      ]
     },
     "execution_count": 39,
     "metadata": {},
     "output_type": "execute_result"
    }
   ],
   "source": [
    "# get the Python built-in \"sum\" function:\n",
    "pysum = pybuiltin(\"sum\")"
   ]
  },
  {
   "cell_type": "code",
   "execution_count": 40,
   "metadata": {},
   "outputs": [
    {
     "name": "stderr",
     "output_type": "stream",
     "text": [
      "┌ Warning: `vendor()` is deprecated, use `BLAS.get_config()` and inspect the output instead\n",
      "│   caller = npyinitialize() at numpy.jl:67\n",
      "└ @ PyCall C:\\Users\\girin\\.julia\\packages\\PyCall\\L0fLP\\src\\numpy.jl:67\n"
     ]
    },
    {
     "data": {
      "text/plain": [
       "4.999578202271648e6"
      ]
     },
     "execution_count": 40,
     "metadata": {},
     "output_type": "execute_result"
    }
   ],
   "source": [
    "pysum(a)"
   ]
  },
  {
   "cell_type": "code",
   "execution_count": 41,
   "metadata": {},
   "outputs": [
    {
     "data": {
      "text/plain": [
       "true"
      ]
     },
     "execution_count": 41,
     "metadata": {},
     "output_type": "execute_result"
    }
   ],
   "source": [
    "pysum(a) ≈ sum(a)"
   ]
  },
  {
   "cell_type": "code",
   "execution_count": 42,
   "metadata": {},
   "outputs": [
    {
     "data": {
      "text/plain": [
       "BenchmarkTools.Trial: 5 samples with 1 evaluation.\n",
       " Range \u001b[90m(\u001b[39m\u001b[36m\u001b[1mmin\u001b[22m\u001b[39m … \u001b[35mmax\u001b[39m\u001b[90m):  \u001b[39m\u001b[36m\u001b[1m1.103 s\u001b[22m\u001b[39m … \u001b[35m  1.227 s\u001b[39m  \u001b[90m┊\u001b[39m GC \u001b[90m(\u001b[39mmin … max\u001b[90m): \u001b[39m0.00% … 0.00%\n",
       " Time  \u001b[90m(\u001b[39m\u001b[34m\u001b[1mmedian\u001b[22m\u001b[39m\u001b[90m):     \u001b[39m\u001b[34m\u001b[1m1.151 s              \u001b[22m\u001b[39m\u001b[90m┊\u001b[39m GC \u001b[90m(\u001b[39mmedian\u001b[90m):    \u001b[39m0.00%\n",
       " Time  \u001b[90m(\u001b[39m\u001b[32m\u001b[1mmean\u001b[22m\u001b[39m ± \u001b[32mσ\u001b[39m\u001b[90m):   \u001b[39m\u001b[32m\u001b[1m1.154 s\u001b[22m\u001b[39m ± \u001b[32m46.190 ms\u001b[39m  \u001b[90m┊\u001b[39m GC \u001b[90m(\u001b[39mmean ± σ\u001b[90m):  \u001b[39m0.00% ± 0.00%\n",
       "\n",
       "  \u001b[39m█\u001b[39m \u001b[39m \u001b[39m \u001b[39m \u001b[39m \u001b[39m \u001b[39m \u001b[39m \u001b[39m \u001b[39m \u001b[39m \u001b[39m█\u001b[34m \u001b[39m\u001b[39m \u001b[39m \u001b[39m \u001b[39m \u001b[39m \u001b[39m \u001b[39m \u001b[39m█\u001b[39m \u001b[39m \u001b[32m \u001b[39m\u001b[39m \u001b[39m \u001b[39m█\u001b[39m \u001b[39m \u001b[39m \u001b[39m \u001b[39m \u001b[39m \u001b[39m \u001b[39m \u001b[39m \u001b[39m \u001b[39m \u001b[39m \u001b[39m \u001b[39m \u001b[39m \u001b[39m \u001b[39m \u001b[39m \u001b[39m \u001b[39m \u001b[39m \u001b[39m \u001b[39m \u001b[39m \u001b[39m \u001b[39m \u001b[39m \u001b[39m \u001b[39m█\u001b[39m \u001b[39m \n",
       "  \u001b[39m█\u001b[39m▁\u001b[39m▁\u001b[39m▁\u001b[39m▁\u001b[39m▁\u001b[39m▁\u001b[39m▁\u001b[39m▁\u001b[39m▁\u001b[39m▁\u001b[39m▁\u001b[39m█\u001b[34m▁\u001b[39m\u001b[39m▁\u001b[39m▁\u001b[39m▁\u001b[39m▁\u001b[39m▁\u001b[39m▁\u001b[39m▁\u001b[39m█\u001b[39m▁\u001b[39m▁\u001b[32m▁\u001b[39m\u001b[39m▁\u001b[39m▁\u001b[39m█\u001b[39m▁\u001b[39m▁\u001b[39m▁\u001b[39m▁\u001b[39m▁\u001b[39m▁\u001b[39m▁\u001b[39m▁\u001b[39m▁\u001b[39m▁\u001b[39m▁\u001b[39m▁\u001b[39m▁\u001b[39m▁\u001b[39m▁\u001b[39m▁\u001b[39m▁\u001b[39m▁\u001b[39m▁\u001b[39m▁\u001b[39m▁\u001b[39m▁\u001b[39m▁\u001b[39m▁\u001b[39m▁\u001b[39m▁\u001b[39m▁\u001b[39m▁\u001b[39m█\u001b[39m \u001b[39m▁\n",
       "  1.1 s\u001b[90m          Histogram: frequency by time\u001b[39m        1.23 s \u001b[0m\u001b[1m<\u001b[22m\n",
       "\n",
       " Memory estimate\u001b[90m: \u001b[39m\u001b[33m240 bytes\u001b[39m, allocs estimate\u001b[90m: \u001b[39m\u001b[33m6\u001b[39m."
      ]
     },
     "execution_count": 42,
     "metadata": {},
     "output_type": "execute_result"
    }
   ],
   "source": [
    "py_list_bench = @benchmark $pysum($a)"
   ]
  },
  {
   "cell_type": "code",
   "execution_count": 43,
   "metadata": {},
   "outputs": [
    {
     "data": {
      "text/plain": [
       "Dict{Any, Any} with 3 entries:\n",
       "  \"C\"               => 12.0492\n",
       "  \"Python built-in\" => 1102.66\n",
       "  \"C -ffast-math\"   => 6.1417"
      ]
     },
     "execution_count": 43,
     "metadata": {},
     "output_type": "execute_result"
    }
   ],
   "source": [
    "d[\"Python built-in\"] = minimum(py_list_bench.times) / 1e6\n",
    "d"
   ]
  },
  {
   "cell_type": "markdown",
   "metadata": {},
   "source": [
    "# 4. Python: `numpy` \n",
    "\n",
    "## Takes advantage of hardware \"SIMD\", but only works when it works.\n",
    "\n",
    "`numpy` is an optimized C library, callable from Python.\n",
    "It may be installed within Julia as follows:"
   ]
  },
  {
   "cell_type": "code",
   "execution_count": 44,
   "metadata": {},
   "outputs": [
    {
     "name": "stderr",
     "output_type": "stream",
     "text": [
      "\u001b[32m\u001b[1m   Resolving\u001b[22m\u001b[39m package versions...\n",
      "\u001b[32m\u001b[1m  No Changes\u001b[22m\u001b[39m to `C:\\Users\\girin\\OneDrive\\Documents\\GitHub\\Introduction-to-Julia\\Project.toml`\n",
      "\u001b[32m\u001b[1m  No Changes\u001b[22m\u001b[39m to `C:\\Users\\girin\\OneDrive\\Documents\\GitHub\\Introduction-to-Julia\\Manifest.toml`\n"
     ]
    }
   ],
   "source": [
    "using Pkg; Pkg.add(\"Conda\")\n",
    "using Conda"
   ]
  },
  {
   "cell_type": "code",
   "execution_count": 45,
   "metadata": {},
   "outputs": [
    {
     "name": "stdout",
     "output_type": "stream",
     "text": [
      "Collecting package metadata (current_repodata.json): ...working... done\n",
      "Solving environment: ...working... done\n",
      "\n",
      "# All requested packages already installed.\n",
      "\n"
     ]
    },
    {
     "name": "stderr",
     "output_type": "stream",
     "text": [
      "┌ Info: Running `conda install -y numpy` in root environment\n",
      "└ @ Conda C:\\Users\\girin\\.julia\\packages\\Conda\\1403Y\\src\\Conda.jl:129\n"
     ]
    }
   ],
   "source": [
    "Conda.add(\"numpy\")"
   ]
  },
  {
   "cell_type": "code",
   "execution_count": 46,
   "metadata": {},
   "outputs": [
    {
     "data": {
      "text/plain": [
       "BenchmarkTools.Trial: 425 samples with 1 evaluation.\n",
       " Range \u001b[90m(\u001b[39m\u001b[36m\u001b[1mmin\u001b[22m\u001b[39m … \u001b[35mmax\u001b[39m\u001b[90m):  \u001b[39m\u001b[36m\u001b[1m10.524 ms\u001b[22m\u001b[39m … \u001b[35m 17.477 ms\u001b[39m  \u001b[90m┊\u001b[39m GC \u001b[90m(\u001b[39mmin … max\u001b[90m): \u001b[39m0.00% … 0.00%\n",
       " Time  \u001b[90m(\u001b[39m\u001b[34m\u001b[1mmedian\u001b[22m\u001b[39m\u001b[90m):     \u001b[39m\u001b[34m\u001b[1m11.599 ms               \u001b[22m\u001b[39m\u001b[90m┊\u001b[39m GC \u001b[90m(\u001b[39mmedian\u001b[90m):    \u001b[39m0.00%\n",
       " Time  \u001b[90m(\u001b[39m\u001b[32m\u001b[1mmean\u001b[22m\u001b[39m ± \u001b[32mσ\u001b[39m\u001b[90m):   \u001b[39m\u001b[32m\u001b[1m11.769 ms\u001b[22m\u001b[39m ± \u001b[32m811.783 μs\u001b[39m  \u001b[90m┊\u001b[39m GC \u001b[90m(\u001b[39mmean ± σ\u001b[90m):  \u001b[39m0.00% ± 0.00%\n",
       "\n",
       "  \u001b[39m \u001b[39m \u001b[39m \u001b[39m \u001b[39m \u001b[39m \u001b[39m \u001b[39m▃\u001b[39m▂\u001b[39m▂\u001b[39m▄\u001b[39m▇\u001b[39m▃\u001b[39m▇\u001b[39m▃\u001b[39m█\u001b[39m▃\u001b[34m▇\u001b[39m\u001b[39m▄\u001b[39m▃\u001b[32m \u001b[39m\u001b[39m▃\u001b[39m \u001b[39m▂\u001b[39m \u001b[39m \u001b[39m \u001b[39m \u001b[39m \u001b[39m \u001b[39m \u001b[39m \u001b[39m \u001b[39m \u001b[39m \u001b[39m \u001b[39m \u001b[39m \u001b[39m \u001b[39m \u001b[39m \u001b[39m \u001b[39m \u001b[39m \u001b[39m \u001b[39m \u001b[39m \u001b[39m \u001b[39m \u001b[39m \u001b[39m \u001b[39m \u001b[39m \u001b[39m \u001b[39m \u001b[39m \u001b[39m \u001b[39m \u001b[39m \u001b[39m \u001b[39m \u001b[39m \n",
       "  \u001b[39m▄\u001b[39m▃\u001b[39m▆\u001b[39m▆\u001b[39m▄\u001b[39m█\u001b[39m▇\u001b[39m█\u001b[39m█\u001b[39m█\u001b[39m█\u001b[39m█\u001b[39m█\u001b[39m█\u001b[39m█\u001b[39m█\u001b[39m█\u001b[34m█\u001b[39m\u001b[39m█\u001b[39m█\u001b[32m█\u001b[39m\u001b[39m█\u001b[39m▇\u001b[39m█\u001b[39m▆\u001b[39m▄\u001b[39m▅\u001b[39m▆\u001b[39m▆\u001b[39m▇\u001b[39m▇\u001b[39m▅\u001b[39m▅\u001b[39m▄\u001b[39m▄\u001b[39m▄\u001b[39m▄\u001b[39m▅\u001b[39m▃\u001b[39m▅\u001b[39m▁\u001b[39m▃\u001b[39m▅\u001b[39m▄\u001b[39m▁\u001b[39m▃\u001b[39m▁\u001b[39m▁\u001b[39m▁\u001b[39m▃\u001b[39m▃\u001b[39m▄\u001b[39m▁\u001b[39m▁\u001b[39m▁\u001b[39m▁\u001b[39m▄\u001b[39m▃\u001b[39m▁\u001b[39m▃\u001b[39m \u001b[39m▄\n",
       "  10.5 ms\u001b[90m         Histogram: frequency by time\u001b[39m         14.3 ms \u001b[0m\u001b[1m<\u001b[22m\n",
       "\n",
       " Memory estimate\u001b[90m: \u001b[39m\u001b[33m240 bytes\u001b[39m, allocs estimate\u001b[90m: \u001b[39m\u001b[33m6\u001b[39m."
      ]
     },
     "execution_count": 46,
     "metadata": {},
     "output_type": "execute_result"
    }
   ],
   "source": [
    "numpy_sum = pyimport(\"numpy\")[\"sum\"]\n",
    "\n",
    "py_numpy_bench = @benchmark $numpy_sum($a)"
   ]
  },
  {
   "cell_type": "code",
   "execution_count": 47,
   "metadata": {},
   "outputs": [
    {
     "data": {
      "text/plain": [
       "4.999578202271562e6"
      ]
     },
     "execution_count": 47,
     "metadata": {},
     "output_type": "execute_result"
    }
   ],
   "source": [
    "numpy_sum(a)"
   ]
  },
  {
   "cell_type": "code",
   "execution_count": 48,
   "metadata": {},
   "outputs": [
    {
     "data": {
      "text/plain": [
       "true"
      ]
     },
     "execution_count": 48,
     "metadata": {},
     "output_type": "execute_result"
    }
   ],
   "source": [
    "numpy_sum(a) ≈ sum(a)"
   ]
  },
  {
   "cell_type": "code",
   "execution_count": 49,
   "metadata": {
    "scrolled": true
   },
   "outputs": [
    {
     "data": {
      "text/plain": [
       "Dict{Any, Any} with 4 entries:\n",
       "  \"C\"               => 12.0492\n",
       "  \"Python numpy\"    => 10.5245\n",
       "  \"Python built-in\" => 1102.66\n",
       "  \"C -ffast-math\"   => 6.1417"
      ]
     },
     "execution_count": 49,
     "metadata": {},
     "output_type": "execute_result"
    }
   ],
   "source": [
    "d[\"Python numpy\"] = minimum(py_numpy_bench.times) / 1e6\n",
    "d"
   ]
  },
  {
   "cell_type": "markdown",
   "metadata": {},
   "source": [
    "# 5. Python, hand-written "
   ]
  },
  {
   "cell_type": "code",
   "execution_count": 50,
   "metadata": {},
   "outputs": [
    {
     "data": {
      "text/plain": [
       "PyObject <function py_sum at 0x000000007C49B4C0>"
      ]
     },
     "execution_count": 50,
     "metadata": {},
     "output_type": "execute_result"
    }
   ],
   "source": [
    "py\"\"\"\n",
    "def py_sum(A):\n",
    "    s = 0.0\n",
    "    for a in A:\n",
    "        s += a\n",
    "    return s\n",
    "\"\"\"\n",
    "\n",
    "sum_py = py\"py_sum\""
   ]
  },
  {
   "cell_type": "code",
   "execution_count": 51,
   "metadata": {},
   "outputs": [
    {
     "data": {
      "text/plain": [
       "BenchmarkTools.Trial: 4 samples with 1 evaluation.\n",
       " Range \u001b[90m(\u001b[39m\u001b[36m\u001b[1mmin\u001b[22m\u001b[39m … \u001b[35mmax\u001b[39m\u001b[90m):  \u001b[39m\u001b[36m\u001b[1m1.432 s\u001b[22m\u001b[39m … \u001b[35m  1.579 s\u001b[39m  \u001b[90m┊\u001b[39m GC \u001b[90m(\u001b[39mmin … max\u001b[90m): \u001b[39m0.00% … 0.00%\n",
       " Time  \u001b[90m(\u001b[39m\u001b[34m\u001b[1mmedian\u001b[22m\u001b[39m\u001b[90m):     \u001b[39m\u001b[34m\u001b[1m1.465 s              \u001b[22m\u001b[39m\u001b[90m┊\u001b[39m GC \u001b[90m(\u001b[39mmedian\u001b[90m):    \u001b[39m0.00%\n",
       " Time  \u001b[90m(\u001b[39m\u001b[32m\u001b[1mmean\u001b[22m\u001b[39m ± \u001b[32mσ\u001b[39m\u001b[90m):   \u001b[39m\u001b[32m\u001b[1m1.485 s\u001b[22m\u001b[39m ± \u001b[32m65.894 ms\u001b[39m  \u001b[90m┊\u001b[39m GC \u001b[90m(\u001b[39mmean ± σ\u001b[90m):  \u001b[39m0.00% ± 0.00%\n",
       "\n",
       "  \u001b[39m█\u001b[39m \u001b[39m \u001b[39m \u001b[39m \u001b[39m \u001b[34m█\u001b[39m\u001b[39m \u001b[39m \u001b[39m \u001b[39m \u001b[39m \u001b[39m \u001b[39m \u001b[39m \u001b[39m \u001b[39m \u001b[39m \u001b[39m \u001b[39m█\u001b[39m \u001b[32m \u001b[39m\u001b[39m \u001b[39m \u001b[39m \u001b[39m \u001b[39m \u001b[39m \u001b[39m \u001b[39m \u001b[39m \u001b[39m \u001b[39m \u001b[39m \u001b[39m \u001b[39m \u001b[39m \u001b[39m \u001b[39m \u001b[39m \u001b[39m \u001b[39m \u001b[39m \u001b[39m \u001b[39m \u001b[39m \u001b[39m \u001b[39m \u001b[39m \u001b[39m \u001b[39m \u001b[39m \u001b[39m \u001b[39m \u001b[39m \u001b[39m \u001b[39m█\u001b[39m \u001b[39m \n",
       "  \u001b[39m█\u001b[39m▁\u001b[39m▁\u001b[39m▁\u001b[39m▁\u001b[39m▁\u001b[34m█\u001b[39m\u001b[39m▁\u001b[39m▁\u001b[39m▁\u001b[39m▁\u001b[39m▁\u001b[39m▁\u001b[39m▁\u001b[39m▁\u001b[39m▁\u001b[39m▁\u001b[39m▁\u001b[39m▁\u001b[39m█\u001b[39m▁\u001b[32m▁\u001b[39m\u001b[39m▁\u001b[39m▁\u001b[39m▁\u001b[39m▁\u001b[39m▁\u001b[39m▁\u001b[39m▁\u001b[39m▁\u001b[39m▁\u001b[39m▁\u001b[39m▁\u001b[39m▁\u001b[39m▁\u001b[39m▁\u001b[39m▁\u001b[39m▁\u001b[39m▁\u001b[39m▁\u001b[39m▁\u001b[39m▁\u001b[39m▁\u001b[39m▁\u001b[39m▁\u001b[39m▁\u001b[39m▁\u001b[39m▁\u001b[39m▁\u001b[39m▁\u001b[39m▁\u001b[39m▁\u001b[39m▁\u001b[39m▁\u001b[39m▁\u001b[39m▁\u001b[39m█\u001b[39m \u001b[39m▁\n",
       "  1.43 s\u001b[90m         Histogram: frequency by time\u001b[39m        1.58 s \u001b[0m\u001b[1m<\u001b[22m\n",
       "\n",
       " Memory estimate\u001b[90m: \u001b[39m\u001b[33m240 bytes\u001b[39m, allocs estimate\u001b[90m: \u001b[39m\u001b[33m6\u001b[39m."
      ]
     },
     "execution_count": 51,
     "metadata": {},
     "output_type": "execute_result"
    }
   ],
   "source": [
    "py_hand = @benchmark $sum_py($a)"
   ]
  },
  {
   "cell_type": "code",
   "execution_count": 52,
   "metadata": {},
   "outputs": [
    {
     "data": {
      "text/plain": [
       "4.999578202271648e6"
      ]
     },
     "execution_count": 52,
     "metadata": {},
     "output_type": "execute_result"
    }
   ],
   "source": [
    "sum_py(a)"
   ]
  },
  {
   "cell_type": "code",
   "execution_count": 53,
   "metadata": {},
   "outputs": [
    {
     "data": {
      "text/plain": [
       "true"
      ]
     },
     "execution_count": 53,
     "metadata": {},
     "output_type": "execute_result"
    }
   ],
   "source": [
    "sum_py(a) ≈ sum(a)"
   ]
  },
  {
   "cell_type": "code",
   "execution_count": 54,
   "metadata": {
    "scrolled": true
   },
   "outputs": [
    {
     "data": {
      "text/plain": [
       "Dict{Any, Any} with 5 entries:\n",
       "  \"C\"                   => 12.0492\n",
       "  \"Python numpy\"        => 10.5245\n",
       "  \"Python hand-written\" => 1431.74\n",
       "  \"Python built-in\"     => 1102.66\n",
       "  \"C -ffast-math\"       => 6.1417"
      ]
     },
     "execution_count": 54,
     "metadata": {},
     "output_type": "execute_result"
    }
   ],
   "source": [
    "d[\"Python hand-written\"] = minimum(py_hand.times) / 1e6\n",
    "d"
   ]
  },
  {
   "cell_type": "markdown",
   "metadata": {},
   "source": [
    "# 6. Julia (built-in) \n",
    "\n",
    "## Written directly in Julia, not in C!"
   ]
  },
  {
   "cell_type": "code",
   "execution_count": 55,
   "metadata": {},
   "outputs": [
    {
     "data": {
      "text/html": [
       "sum(a::<b>AbstractArray</b>; <i>dims, kw...</i>) in Base at <a href=\"https://github.com/JuliaLang/julia/tree/ac5cc99908d463582e66db3368b9b48fae1e2525/base/reducedim.jl#L889\" target=\"_blank\">reducedim.jl:889</a>"
      ],
      "text/plain": [
       "sum(a::AbstractArray; dims, kw...) in Base at reducedim.jl:889"
      ]
     },
     "execution_count": 55,
     "metadata": {},
     "output_type": "execute_result"
    }
   ],
   "source": [
    "@which sum(a)"
   ]
  },
  {
   "cell_type": "code",
   "execution_count": 56,
   "metadata": {},
   "outputs": [
    {
     "data": {
      "text/plain": [
       "BenchmarkTools.Trial: 1072 samples with 1 evaluation.\n",
       " Range \u001b[90m(\u001b[39m\u001b[36m\u001b[1mmin\u001b[22m\u001b[39m … \u001b[35mmax\u001b[39m\u001b[90m):  \u001b[39m\u001b[36m\u001b[1m3.676 ms\u001b[22m\u001b[39m … \u001b[35m  6.427 ms\u001b[39m  \u001b[90m┊\u001b[39m GC \u001b[90m(\u001b[39mmin … max\u001b[90m): \u001b[39m0.00% … 0.00%\n",
       " Time  \u001b[90m(\u001b[39m\u001b[34m\u001b[1mmedian\u001b[22m\u001b[39m\u001b[90m):     \u001b[39m\u001b[34m\u001b[1m4.643 ms               \u001b[22m\u001b[39m\u001b[90m┊\u001b[39m GC \u001b[90m(\u001b[39mmedian\u001b[90m):    \u001b[39m0.00%\n",
       " Time  \u001b[90m(\u001b[39m\u001b[32m\u001b[1mmean\u001b[22m\u001b[39m ± \u001b[32mσ\u001b[39m\u001b[90m):   \u001b[39m\u001b[32m\u001b[1m4.645 ms\u001b[22m\u001b[39m ± \u001b[32m427.265 μs\u001b[39m  \u001b[90m┊\u001b[39m GC \u001b[90m(\u001b[39mmean ± σ\u001b[90m):  \u001b[39m0.00% ± 0.00%\n",
       "\n",
       "  \u001b[39m \u001b[39m \u001b[39m \u001b[39m \u001b[39m \u001b[39m \u001b[39m \u001b[39m \u001b[39m \u001b[39m \u001b[39m \u001b[39m \u001b[39m \u001b[39m▁\u001b[39m▁\u001b[39m \u001b[39m \u001b[39m \u001b[39m \u001b[39m \u001b[39m▄\u001b[39m▁\u001b[39m▇\u001b[39m▄\u001b[39m▅\u001b[39m▃\u001b[39m▃\u001b[34m▄\u001b[39m\u001b[39m█\u001b[39m▆\u001b[39m▆\u001b[39m▂\u001b[39m▄\u001b[39m▄\u001b[39m▂\u001b[39m \u001b[39m▁\u001b[39m▁\u001b[39m \u001b[39m \u001b[39m \u001b[39m \u001b[39m \u001b[39m \u001b[39m \u001b[39m \u001b[39m \u001b[39m \u001b[39m \u001b[39m \u001b[39m \u001b[39m \u001b[39m \u001b[39m \u001b[39m \u001b[39m \u001b[39m \u001b[39m \u001b[39m \u001b[39m \u001b[39m \n",
       "  \u001b[39m▂\u001b[39m▁\u001b[39m▃\u001b[39m▃\u001b[39m▃\u001b[39m▄\u001b[39m▆\u001b[39m▅\u001b[39m▇\u001b[39m▆\u001b[39m█\u001b[39m█\u001b[39m█\u001b[39m█\u001b[39m█\u001b[39m█\u001b[39m▄\u001b[39m█\u001b[39m▇\u001b[39m█\u001b[39m█\u001b[39m█\u001b[39m█\u001b[39m█\u001b[39m█\u001b[39m█\u001b[39m█\u001b[34m█\u001b[39m\u001b[39m█\u001b[39m█\u001b[39m█\u001b[39m█\u001b[39m█\u001b[39m█\u001b[39m█\u001b[39m▇\u001b[39m█\u001b[39m█\u001b[39m▆\u001b[39m▅\u001b[39m▆\u001b[39m▆\u001b[39m▄\u001b[39m▅\u001b[39m▄\u001b[39m▃\u001b[39m▄\u001b[39m▃\u001b[39m▄\u001b[39m▃\u001b[39m▄\u001b[39m▄\u001b[39m▃\u001b[39m▃\u001b[39m▃\u001b[39m▃\u001b[39m▃\u001b[39m▃\u001b[39m▃\u001b[39m \u001b[39m▅\n",
       "  3.68 ms\u001b[90m         Histogram: frequency by time\u001b[39m         5.8 ms \u001b[0m\u001b[1m<\u001b[22m\n",
       "\n",
       " Memory estimate\u001b[90m: \u001b[39m\u001b[33m0 bytes\u001b[39m, allocs estimate\u001b[90m: \u001b[39m\u001b[33m0\u001b[39m."
      ]
     },
     "execution_count": 56,
     "metadata": {},
     "output_type": "execute_result"
    }
   ],
   "source": [
    "j_bench = @benchmark sum($a)"
   ]
  },
  {
   "cell_type": "code",
   "execution_count": 57,
   "metadata": {
    "scrolled": true
   },
   "outputs": [
    {
     "data": {
      "text/plain": [
       "Dict{Any, Any} with 6 entries:\n",
       "  \"C\"                   => 12.0492\n",
       "  \"Python numpy\"        => 10.5245\n",
       "  \"Python hand-written\" => 1431.74\n",
       "  \"Python built-in\"     => 1102.66\n",
       "  \"Julia built-in\"      => 3.6763\n",
       "  \"C -ffast-math\"       => 6.1417"
      ]
     },
     "execution_count": 57,
     "metadata": {},
     "output_type": "execute_result"
    }
   ],
   "source": [
    "d[\"Julia built-in\"] = minimum(j_bench.times) / 1e6\n",
    "d"
   ]
  },
  {
   "cell_type": "markdown",
   "metadata": {},
   "source": [
    "# 7. Julia (hand-written) "
   ]
  },
  {
   "cell_type": "code",
   "execution_count": 58,
   "metadata": {
    "scrolled": true
   },
   "outputs": [
    {
     "data": {
      "text/plain": [
       "mysum (generic function with 1 method)"
      ]
     },
     "execution_count": 58,
     "metadata": {},
     "output_type": "execute_result"
    }
   ],
   "source": [
    "function mysum(A)   \n",
    "    s = 0.0 # s = zero(eltype(a))\n",
    "    for a in A\n",
    "        s += a\n",
    "    end\n",
    "    s\n",
    "end"
   ]
  },
  {
   "cell_type": "code",
   "execution_count": 59,
   "metadata": {},
   "outputs": [
    {
     "data": {
      "text/plain": [
       "BenchmarkTools.Trial: 374 samples with 1 evaluation.\n",
       " Range \u001b[90m(\u001b[39m\u001b[36m\u001b[1mmin\u001b[22m\u001b[39m … \u001b[35mmax\u001b[39m\u001b[90m):  \u001b[39m\u001b[36m\u001b[1m12.636 ms\u001b[22m\u001b[39m … \u001b[35m 15.101 ms\u001b[39m  \u001b[90m┊\u001b[39m GC \u001b[90m(\u001b[39mmin … max\u001b[90m): \u001b[39m0.00% … 0.00%\n",
       " Time  \u001b[90m(\u001b[39m\u001b[34m\u001b[1mmedian\u001b[22m\u001b[39m\u001b[90m):     \u001b[39m\u001b[34m\u001b[1m13.301 ms               \u001b[22m\u001b[39m\u001b[90m┊\u001b[39m GC \u001b[90m(\u001b[39mmedian\u001b[90m):    \u001b[39m0.00%\n",
       " Time  \u001b[90m(\u001b[39m\u001b[32m\u001b[1mmean\u001b[22m\u001b[39m ± \u001b[32mσ\u001b[39m\u001b[90m):   \u001b[39m\u001b[32m\u001b[1m13.371 ms\u001b[22m\u001b[39m ± \u001b[32m406.259 μs\u001b[39m  \u001b[90m┊\u001b[39m GC \u001b[90m(\u001b[39mmean ± σ\u001b[90m):  \u001b[39m0.00% ± 0.00%\n",
       "\n",
       "  \u001b[39m \u001b[39m \u001b[39m \u001b[39m \u001b[39m \u001b[39m \u001b[39m \u001b[39m \u001b[39m▁\u001b[39m▃\u001b[39m▄\u001b[39m▃\u001b[39m█\u001b[39m▁\u001b[39m▆\u001b[39m▆\u001b[39m▄\u001b[39m▃\u001b[39m▄\u001b[39m▃\u001b[39m▂\u001b[34m \u001b[39m\u001b[39m▇\u001b[32m \u001b[39m\u001b[39m \u001b[39m▁\u001b[39m▃\u001b[39m▁\u001b[39m▁\u001b[39m▁\u001b[39m▁\u001b[39m \u001b[39m \u001b[39m \u001b[39m▁\u001b[39m \u001b[39m \u001b[39m \u001b[39m \u001b[39m \u001b[39m \u001b[39m \u001b[39m \u001b[39m \u001b[39m \u001b[39m \u001b[39m \u001b[39m \u001b[39m \u001b[39m \u001b[39m \u001b[39m \u001b[39m \u001b[39m \u001b[39m \u001b[39m \u001b[39m \u001b[39m \u001b[39m \u001b[39m \u001b[39m \u001b[39m \n",
       "  \u001b[39m▄\u001b[39m▅\u001b[39m▄\u001b[39m▁\u001b[39m▅\u001b[39m▄\u001b[39m▄\u001b[39m▇\u001b[39m█\u001b[39m█\u001b[39m█\u001b[39m█\u001b[39m█\u001b[39m█\u001b[39m█\u001b[39m█\u001b[39m█\u001b[39m█\u001b[39m█\u001b[39m█\u001b[39m█\u001b[34m█\u001b[39m\u001b[39m█\u001b[32m█\u001b[39m\u001b[39m▇\u001b[39m█\u001b[39m█\u001b[39m█\u001b[39m█\u001b[39m█\u001b[39m█\u001b[39m▆\u001b[39m▇\u001b[39m▇\u001b[39m█\u001b[39m▇\u001b[39m▆\u001b[39m▆\u001b[39m▅\u001b[39m▇\u001b[39m▃\u001b[39m▆\u001b[39m▃\u001b[39m▃\u001b[39m▄\u001b[39m▄\u001b[39m▄\u001b[39m▅\u001b[39m▃\u001b[39m▄\u001b[39m▃\u001b[39m▄\u001b[39m▁\u001b[39m▃\u001b[39m▃\u001b[39m▃\u001b[39m▃\u001b[39m▁\u001b[39m▃\u001b[39m▃\u001b[39m \u001b[39m▄\n",
       "  12.6 ms\u001b[90m         Histogram: frequency by time\u001b[39m         14.5 ms \u001b[0m\u001b[1m<\u001b[22m\n",
       "\n",
       " Memory estimate\u001b[90m: \u001b[39m\u001b[33m0 bytes\u001b[39m, allocs estimate\u001b[90m: \u001b[39m\u001b[33m0\u001b[39m."
      ]
     },
     "execution_count": 59,
     "metadata": {},
     "output_type": "execute_result"
    }
   ],
   "source": [
    "j_bench_hand = @benchmark mysum($a)"
   ]
  },
  {
   "cell_type": "code",
   "execution_count": 60,
   "metadata": {
    "scrolled": true
   },
   "outputs": [
    {
     "data": {
      "text/plain": [
       "Dict{Any, Any} with 7 entries:\n",
       "  \"C\"                   => 12.0492\n",
       "  \"Python numpy\"        => 10.5245\n",
       "  \"Julia hand-written\"  => 12.6363\n",
       "  \"Python hand-written\" => 1431.74\n",
       "  \"Python built-in\"     => 1102.66\n",
       "  \"Julia built-in\"      => 3.6763\n",
       "  \"C -ffast-math\"       => 6.1417"
      ]
     },
     "execution_count": 60,
     "metadata": {},
     "output_type": "execute_result"
    }
   ],
   "source": [
    "d[\"Julia hand-written\"] = minimum(j_bench_hand.times) / 1e6\n",
    "d"
   ]
  },
  {
   "cell_type": "markdown",
   "metadata": {},
   "source": [
    "# 8. Julia (hand-written w. simd) "
   ]
  },
  {
   "cell_type": "code",
   "execution_count": 61,
   "metadata": {},
   "outputs": [
    {
     "data": {
      "text/plain": [
       "mysum_simd (generic function with 1 method)"
      ]
     },
     "execution_count": 61,
     "metadata": {},
     "output_type": "execute_result"
    }
   ],
   "source": [
    "function mysum_simd(A)   \n",
    "    s = 0.0 # s = zero(eltype(A))\n",
    "    @simd for a in A\n",
    "        s += a\n",
    "    end\n",
    "    s\n",
    "end"
   ]
  },
  {
   "cell_type": "code",
   "execution_count": 62,
   "metadata": {},
   "outputs": [
    {
     "data": {
      "text/plain": [
       "BenchmarkTools.Trial: 1081 samples with 1 evaluation.\n",
       " Range \u001b[90m(\u001b[39m\u001b[36m\u001b[1mmin\u001b[22m\u001b[39m … \u001b[35mmax\u001b[39m\u001b[90m):  \u001b[39m\u001b[36m\u001b[1m3.753 ms\u001b[22m\u001b[39m … \u001b[35m 11.642 ms\u001b[39m  \u001b[90m┊\u001b[39m GC \u001b[90m(\u001b[39mmin … max\u001b[90m): \u001b[39m0.00% … 0.00%\n",
       " Time  \u001b[90m(\u001b[39m\u001b[34m\u001b[1mmedian\u001b[22m\u001b[39m\u001b[90m):     \u001b[39m\u001b[34m\u001b[1m4.576 ms               \u001b[22m\u001b[39m\u001b[90m┊\u001b[39m GC \u001b[90m(\u001b[39mmedian\u001b[90m):    \u001b[39m0.00%\n",
       " Time  \u001b[90m(\u001b[39m\u001b[32m\u001b[1mmean\u001b[22m\u001b[39m ± \u001b[32mσ\u001b[39m\u001b[90m):   \u001b[39m\u001b[32m\u001b[1m4.606 ms\u001b[22m\u001b[39m ± \u001b[32m527.636 μs\u001b[39m  \u001b[90m┊\u001b[39m GC \u001b[90m(\u001b[39mmean ± σ\u001b[90m):  \u001b[39m0.00% ± 0.00%\n",
       "\n",
       "  \u001b[39m \u001b[39m \u001b[39m \u001b[39m \u001b[39m \u001b[39m \u001b[39m \u001b[39m \u001b[39m \u001b[39m▁\u001b[39m \u001b[39m \u001b[39m \u001b[39m▁\u001b[39m \u001b[39m▁\u001b[39m \u001b[39m▁\u001b[39m▁\u001b[39m▂\u001b[39m▂\u001b[39m▄\u001b[39m█\u001b[34m▅\u001b[39m\u001b[32m█\u001b[39m\u001b[39m▅\u001b[39m▂\u001b[39m▄\u001b[39m▄\u001b[39m \u001b[39m \u001b[39m▁\u001b[39m \u001b[39m \u001b[39m \u001b[39m \u001b[39m \u001b[39m \u001b[39m \u001b[39m \u001b[39m \u001b[39m \u001b[39m \u001b[39m \u001b[39m \u001b[39m \u001b[39m \u001b[39m \u001b[39m \u001b[39m \u001b[39m \u001b[39m \u001b[39m \u001b[39m \u001b[39m \u001b[39m \u001b[39m \u001b[39m \u001b[39m \u001b[39m \u001b[39m \n",
       "  \u001b[39m▃\u001b[39m▃\u001b[39m▄\u001b[39m▄\u001b[39m▅\u001b[39m▆\u001b[39m▅\u001b[39m█\u001b[39m█\u001b[39m█\u001b[39m█\u001b[39m▇\u001b[39m▆\u001b[39m█\u001b[39m█\u001b[39m█\u001b[39m█\u001b[39m█\u001b[39m█\u001b[39m█\u001b[39m█\u001b[39m█\u001b[39m█\u001b[34m█\u001b[39m\u001b[32m█\u001b[39m\u001b[39m█\u001b[39m█\u001b[39m█\u001b[39m█\u001b[39m█\u001b[39m█\u001b[39m█\u001b[39m█\u001b[39m▆\u001b[39m▇\u001b[39m▆\u001b[39m▆\u001b[39m▄\u001b[39m▄\u001b[39m▆\u001b[39m▃\u001b[39m▃\u001b[39m▃\u001b[39m▃\u001b[39m▄\u001b[39m▄\u001b[39m▃\u001b[39m▃\u001b[39m▂\u001b[39m▃\u001b[39m▃\u001b[39m▂\u001b[39m▂\u001b[39m▃\u001b[39m▂\u001b[39m▂\u001b[39m▃\u001b[39m▁\u001b[39m▃\u001b[39m \u001b[39m▄\n",
       "  3.75 ms\u001b[90m         Histogram: frequency by time\u001b[39m        5.83 ms \u001b[0m\u001b[1m<\u001b[22m\n",
       "\n",
       " Memory estimate\u001b[90m: \u001b[39m\u001b[33m0 bytes\u001b[39m, allocs estimate\u001b[90m: \u001b[39m\u001b[33m0\u001b[39m."
      ]
     },
     "execution_count": 62,
     "metadata": {},
     "output_type": "execute_result"
    }
   ],
   "source": [
    "j_bench_hand_simd = @benchmark mysum_simd($a)"
   ]
  },
  {
   "cell_type": "code",
   "execution_count": 63,
   "metadata": {},
   "outputs": [
    {
     "data": {
      "text/plain": [
       "4.999578202271551e6"
      ]
     },
     "execution_count": 63,
     "metadata": {},
     "output_type": "execute_result"
    }
   ],
   "source": [
    "mysum_simd(a)"
   ]
  },
  {
   "cell_type": "code",
   "execution_count": 64,
   "metadata": {
    "scrolled": true
   },
   "outputs": [
    {
     "data": {
      "text/plain": [
       "Dict{Any, Any} with 8 entries:\n",
       "  \"Julia hand-written simd\" => 3.7532\n",
       "  \"C\"                       => 12.0492\n",
       "  \"Python numpy\"            => 10.5245\n",
       "  \"Julia hand-written\"      => 12.6363\n",
       "  \"Python hand-written\"     => 1431.74\n",
       "  \"Python built-in\"         => 1102.66\n",
       "  \"Julia built-in\"          => 3.6763\n",
       "  \"C -ffast-math\"           => 6.1417"
      ]
     },
     "execution_count": 64,
     "metadata": {},
     "output_type": "execute_result"
    }
   ],
   "source": [
    "d[\"Julia hand-written simd\"] = minimum(j_bench_hand_simd.times) / 1e6\n",
    "d"
   ]
  },
  {
   "cell_type": "markdown",
   "metadata": {},
   "source": [
    "# Summary"
   ]
  },
  {
   "cell_type": "code",
   "execution_count": 65,
   "metadata": {
    "scrolled": true
   },
   "outputs": [
    {
     "name": "stdout",
     "output_type": "stream",
     "text": [
      "Julia built-in..............3.7\n",
      "Julia hand-written simd.....3.8\n",
      "C -ffast-math...............6.1\n",
      "Python numpy...............10.5\n",
      "C..........................12.0\n",
      "Julia hand-written.........12.6\n",
      "Python built-in..........1102.7\n",
      "Python hand-written......1431.7\n"
     ]
    }
   ],
   "source": [
    "for (key, value) in sort(collect(d), by=last)\n",
    "    println(rpad(key, 25, \".\"), lpad(round(value; digits=1), 6, \".\"))\n",
    "end"
   ]
  }
 ],
 "metadata": {
  "anaconda-cloud": {},
  "kernelspec": {
   "display_name": "Julia 1.7.1",
   "language": "julia",
   "name": "julia-1.7"
  },
  "language_info": {
   "file_extension": ".jl",
   "mimetype": "application/julia",
   "name": "julia",
   "version": "1.7.1"
  },
  "toc": {
   "colors": {
    "hover_highlight": "#DAA520",
    "running_highlight": "#FF0000",
    "selected_highlight": "#FFD700"
   },
   "moveMenuLeft": true,
   "nav_menu": {
    "height": "212px",
    "width": "252px"
   },
   "navigate_menu": true,
   "number_sections": true,
   "sideBar": true,
   "threshold": "2",
   "toc_cell": false,
   "toc_section_display": "block",
   "toc_window_display": false
  }
 },
 "nbformat": 4,
 "nbformat_minor": 4
}
